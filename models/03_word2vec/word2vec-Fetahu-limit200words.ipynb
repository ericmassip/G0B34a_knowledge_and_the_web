{
 "cells": [
  {
   "cell_type": "markdown",
   "metadata": {},
   "source": [
    "# Word2vec model based on Fetahu\n",
    "This model uses a pretrained word2vec to vectorize the paragraphs, the sequential information of the sentences is maintained.\n",
    "\n",
    "A pretrained word2vec can be found on [this github repo](https://github.com/3Top/word2vec-api).\n",
    "\n",
    "The paper this is based on can be found [here](https://arxiv.org/pdf/1811.05740.pdf)."
   ]
  },
  {
   "cell_type": "code",
   "execution_count": 252,
   "metadata": {},
   "outputs": [],
   "source": [
    "import numpy as np\n",
    "import pandas as pd\n",
    "from sklearn.feature_extraction.text import TfidfVectorizer\n",
    "import matplotlib.pyplot as plt\n",
    "from gensim.models import Word2Vec\n",
    "from gensim.test.utils import datapath\n",
    "from gensim.models import KeyedVectors\n",
    "from sklearn.metrics import confusion_matrix\n",
    "from gensim.utils import simple_preprocess\n",
    "import itertools"
   ]
  },
  {
   "cell_type": "code",
   "execution_count": 259,
   "metadata": {},
   "outputs": [
    {
     "name": "stdout",
     "output_type": "stream",
     "text": [
      "(29218, 2)\n"
     ]
    }
   ],
   "source": [
    "df = pd.read_csv(\"../../data/ad_hominem/ad_hominems_cleaned_Murilo.csv\", sep=\",\", index_col=0, header=0, names=[\"body\", \"isAdHominem\"])\n",
    "df = df[~df.isin([np.nan, np.inf, -np.inf, 'nan']).any(1)] ## Remove rows with NaN values\n",
    "print(df.shape)"
   ]
  },
  {
   "cell_type": "code",
   "execution_count": 260,
   "metadata": {},
   "outputs": [],
   "source": [
    "df[\"length\"] = df[\"body\"].apply( lambda x: len(simple_preprocess(x, deacc=True)))"
   ]
  },
  {
   "cell_type": "code",
   "execution_count": 261,
   "metadata": {},
   "outputs": [],
   "source": [
    "df.drop(df[df[\"length\"] > 200].index, axis=0, inplace=True)"
   ]
  },
  {
   "cell_type": "code",
   "execution_count": 262,
   "metadata": {},
   "outputs": [
    {
     "data": {
      "text/plain": [
       "(26724, 3)"
      ]
     },
     "execution_count": 262,
     "metadata": {},
     "output_type": "execute_result"
    }
   ],
   "source": [
    "df.shape"
   ]
  },
  {
   "cell_type": "code",
   "execution_count": 263,
   "metadata": {},
   "outputs": [
    {
     "name": "stdout",
     "output_type": "stream",
     "text": [
      "Setting paragraph length at 200 words.\n"
     ]
    }
   ],
   "source": [
    "print(\"Setting paragraph length at {} words.\".format(df[\"length\"].max()))"
   ]
  },
  {
   "cell_type": "code",
   "execution_count": 264,
   "metadata": {},
   "outputs": [
    {
     "name": "stdout",
     "output_type": "stream",
     "text": [
      "In total, the train contains 1586 ad hominems\n",
      "In total, the test contains 693 ad hominems\n"
     ]
    }
   ],
   "source": [
    "from sklearn.model_selection import train_test_split\n",
    "\n",
    "train, test = train_test_split( df, test_size=0.3, random_state=1)\n",
    "\n",
    "print(\"In total, the train contains\", sum(train[\"isAdHominem\"] == True), \"ad hominems\")\n",
    "print(\"In total, the test contains\", sum(test[\"isAdHominem\"] == True), \"ad hominems\")"
   ]
  },
  {
   "cell_type": "code",
   "execution_count": 265,
   "metadata": {},
   "outputs": [],
   "source": [
    "def plot_confusion_matrix(cm, classes,\n",
    "                          normalize=False,\n",
    "                          title='Confusion matrix',\n",
    "                          cmap=plt.cm.Blues):\n",
    "    \"\"\"\n",
    "    This function prints and plots the confusion matrix.\n",
    "    Normalization can be applied by setting `normalize=True`.\n",
    "    \"\"\"\n",
    "    if normalize:\n",
    "        cm = cm.astype('float') / cm.sum(axis=1)[:, np.newaxis]\n",
    "        print(\"Normalized confusion matrix\")\n",
    "    else:\n",
    "        print('Confusion matrix, without normalization')\n",
    "\n",
    "    print(cm)\n",
    "\n",
    "    plt.imshow(cm, interpolation='nearest', cmap=cmap, vmin=0)\n",
    "    plt.title(title)\n",
    "    plt.colorbar()\n",
    "    tick_marks = np.arange(len(classes))\n",
    "    plt.xticks(tick_marks, classes, rotation=45)\n",
    "    plt.yticks(tick_marks, classes)\n",
    "\n",
    "    fmt = '.2f' if normalize else 'd'\n",
    "    thresh = cm.max() / 2.\n",
    "    \n",
    "    for i, j in itertools.product(range(cm.shape[0]), range(cm.shape[1])):\n",
    "        plt.text(j, i, format(cm[i, j], fmt),\n",
    "                 horizontalalignment=\"center\",\n",
    "                 color=\"white\" if cm[i, j] > thresh else \"black\")\n",
    "        \n",
    "    plt.tight_layout()\n",
    "    plt.ylabel('True label')\n",
    "    plt.xlabel('Predicted label')"
   ]
  },
  {
   "cell_type": "code",
   "execution_count": 214,
   "metadata": {},
   "outputs": [
    {
     "name": "stdout",
     "output_type": "stream",
     "text": [
      "importing word2vec\n",
      "imported word2vec\n"
     ]
    }
   ],
   "source": [
    "print(\"importing word2vec\")\n",
    "wv_from_bin = KeyedVectors.load_word2vec_format(\"~/notebooks/word2vec-GoogleNews-vectors/GoogleNews-vectors-negative300.bin.gz\", binary=True)  # C binary format\n",
    "print(\"imported word2vec\")"
   ]
  },
  {
   "cell_type": "code",
   "execution_count": 266,
   "metadata": {},
   "outputs": [],
   "source": [
    "def combineData( dataset, length ):  \n",
    "    paragraphRepresentations = np.zeros((len(dataset), maxLength, 300))\n",
    "    \n",
    "    for i, paragraph in enumerate(dataset[\"body\"]):\n",
    "        if (100* i / dataset.shape[0] % 10 == 0):\n",
    "            print(\"{} of {} ({} %)\\r\".format(i, dataset.shape[0], 100* i / dataset.shape[0]))\n",
    "        \n",
    "        # Enumerate over the words in the tags-array (col 0 = words, col 1 = POS tags)\n",
    "        for j, word in enumerate(simple_preprocess(paragraph, deacc=True)):\n",
    "            #print(\"{}: {} ({})\".format(i, j, word))\n",
    "            if word.lower() in wv_from_bin:\n",
    "                paragraphRepresentations[i, j] = wv_from_bin[word.lower()] \n",
    "    return paragraphRepresentations"
   ]
  },
  {
   "cell_type": "code",
   "execution_count": 267,
   "metadata": {},
   "outputs": [
    {
     "name": "stdout",
     "output_type": "stream",
     "text": [
      "Start train data\n",
      "0 of 18706 (0.0 %)\n",
      "9353 of 18706 (50.0 %)\n"
     ]
    }
   ],
   "source": [
    "maxLength = df[\"length\"].max() \n",
    "print(\"Start train data\")\n",
    "train_vectors = combineData(train, maxLength)"
   ]
  },
  {
   "cell_type": "code",
   "execution_count": 268,
   "metadata": {},
   "outputs": [
    {
     "name": "stdout",
     "output_type": "stream",
     "text": [
      "0 of 8018 (0.0 %)\n",
      "4009 of 8018 (50.0 %)\n"
     ]
    }
   ],
   "source": [
    "test_vectors = combineData(test, maxLength)"
   ]
  },
  {
   "cell_type": "code",
   "execution_count": 269,
   "metadata": {},
   "outputs": [
    {
     "data": {
      "text/plain": [
       "(18706, 200, 300)"
      ]
     },
     "execution_count": 269,
     "metadata": {},
     "output_type": "execute_result"
    }
   ],
   "source": [
    "train_vectors.shape"
   ]
  },
  {
   "cell_type": "code",
   "execution_count": 270,
   "metadata": {},
   "outputs": [
    {
     "data": {
      "text/plain": [
       "(8018, 200, 300)"
      ]
     },
     "execution_count": 270,
     "metadata": {},
     "output_type": "execute_result"
    }
   ],
   "source": [
    "test_vectors.shape"
   ]
  },
  {
   "cell_type": "code",
   "execution_count": 271,
   "metadata": {},
   "outputs": [],
   "source": [
    "batch_size = 128\n",
    "epochs = 10"
   ]
  },
  {
   "cell_type": "markdown",
   "metadata": {},
   "source": [
    "## Fix imbalance"
   ]
  },
  {
   "cell_type": "code",
   "execution_count": 272,
   "metadata": {},
   "outputs": [],
   "source": [
    "from sklearn.utils import class_weight\n",
    "class_weights = class_weight.compute_class_weight('balanced',\n",
    "                                                 np.unique(train[\"isAdHominem\"]),\n",
    "                                                 train[\"isAdHominem\"])"
   ]
  },
  {
   "cell_type": "code",
   "execution_count": 273,
   "metadata": {},
   "outputs": [
    {
     "data": {
      "text/plain": [
       "array([0.55, 5.9 ])"
      ]
     },
     "execution_count": 273,
     "metadata": {},
     "output_type": "execute_result"
    }
   ],
   "source": [
    "class_weights"
   ]
  },
  {
   "cell_type": "code",
   "execution_count": 274,
   "metadata": {},
   "outputs": [],
   "source": [
    "from keras.models import Sequential\n",
    "from keras.layers import Masking\n",
    "from keras.layers import LSTM, Bidirectional, GRU\n",
    "from keras.layers import Dense, Activation, Dropout\n",
    "from keras.callbacks import ModelCheckpoint\n",
    "from keras.utils import np_utils\n",
    "import tensorflow as tf\n",
    "\n",
    "model = Sequential()\n",
    "model.add(Masking(mask_value=0., input_shape=(maxLength, 300)))\n",
    "model.add(Bidirectional(GRU(10, return_sequences=True), merge_mode='concat'))\n",
    "model.add(Bidirectional(GRU(10), merge_mode='concat'))\n",
    "model.add(Dense(64))\n",
    "model.add(Dense(2, activation=\"softmax\"))\n",
    "#model.add(Activation('softmax'))\n",
    "model.compile(loss='binary_crossentropy', optimizer='adadelta', metrics=['accuracy'])"
   ]
  },
  {
   "cell_type": "code",
   "execution_count": 275,
   "metadata": {},
   "outputs": [
    {
     "name": "stdout",
     "output_type": "stream",
     "text": [
      "_________________________________________________________________\n",
      "Layer (type)                 Output Shape              Param #   \n",
      "=================================================================\n",
      "masking_2 (Masking)          (None, 200, 300)          0         \n",
      "_________________________________________________________________\n",
      "bidirectional_3 (Bidirection (None, 200, 20)           18660     \n",
      "_________________________________________________________________\n",
      "bidirectional_4 (Bidirection (None, 20)                1860      \n",
      "_________________________________________________________________\n",
      "dense_3 (Dense)              (None, 64)                1344      \n",
      "_________________________________________________________________\n",
      "dense_4 (Dense)              (None, 2)                 130       \n",
      "=================================================================\n",
      "Total params: 21,994\n",
      "Trainable params: 21,994\n",
      "Non-trainable params: 0\n",
      "_________________________________________________________________\n"
     ]
    }
   ],
   "source": [
    "model.summary()"
   ]
  },
  {
   "cell_type": "code",
   "execution_count": 276,
   "metadata": {},
   "outputs": [
    {
     "name": "stdout",
     "output_type": "stream",
     "text": [
      "Train on 16835 samples, validate on 1871 samples\n",
      "Epoch 1/10\n",
      "16835/16835 [==============================] - 89s 5ms/step - loss: 0.2934 - acc: 0.9084 - val_loss: 0.2335 - val_acc: 0.9220\n",
      "Epoch 2/10\n",
      "16835/16835 [==============================] - 84s 5ms/step - loss: 0.2305 - acc: 0.9193 - val_loss: 0.2239 - val_acc: 0.9257\n",
      "Epoch 3/10\n",
      "16835/16835 [==============================] - 85s 5ms/step - loss: 0.2171 - acc: 0.9222 - val_loss: 0.2029 - val_acc: 0.9284\n",
      "Epoch 4/10\n",
      "16835/16835 [==============================] - 84s 5ms/step - loss: 0.2075 - acc: 0.9237 - val_loss: 0.2199 - val_acc: 0.9246\n",
      "Epoch 5/10\n",
      "16835/16835 [==============================] - 85s 5ms/step - loss: 0.2002 - acc: 0.9262 - val_loss: 0.1942 - val_acc: 0.9305\n",
      "Epoch 6/10\n",
      "16835/16835 [==============================] - 84s 5ms/step - loss: 0.1948 - acc: 0.9276 - val_loss: 0.1933 - val_acc: 0.9289\n",
      "Epoch 7/10\n",
      "16835/16835 [==============================] - 85s 5ms/step - loss: 0.1888 - acc: 0.9270 - val_loss: 0.1923 - val_acc: 0.9300\n",
      "Epoch 8/10\n",
      "16835/16835 [==============================] - 84s 5ms/step - loss: 0.1858 - acc: 0.9290 - val_loss: 0.1973 - val_acc: 0.9321\n",
      "Epoch 9/10\n",
      "16835/16835 [==============================] - 84s 5ms/step - loss: 0.1811 - acc: 0.9309 - val_loss: 0.1955 - val_acc: 0.9337\n",
      "Epoch 10/10\n",
      "16835/16835 [==============================] - 84s 5ms/step - loss: 0.1777 - acc: 0.9305 - val_loss: 0.1925 - val_acc: 0.9252\n"
     ]
    }
   ],
   "source": [
    "history = model.fit(train_vectors, np.array([train[\"isAdHominem\"], 1-train[\"isAdHominem\"]]).T,\n",
    "                    batch_size=batch_size,\n",
    "                    epochs=epochs,\n",
    "                    verbose=1,\n",
    "                    validation_split=0.1,\n",
    "                    class_weight=class_weights)"
   ]
  },
  {
   "cell_type": "code",
   "execution_count": 277,
   "metadata": {},
   "outputs": [],
   "source": [
    "test_predicted = model.predict(test_vectors)"
   ]
  },
  {
   "cell_type": "raw",
   "metadata": {},
   "source": [
    "# Compute confusion matrix\n",
    "cnf_matrix = confusion_matrix(test[\"isAdHominem\"], test_predicted[:,0] > test_predicted[:,1])\n",
    "\n",
    "np.set_printoptions(precision=2)\n",
    "\n",
    "title=\"Confusion matrix for neural network with word2vec embeddings\"\n",
    "\n",
    "# Plot normalized confusion matrix\n",
    "fig = plt.figure()\n",
    "plot_confusion_matrix(cnf_matrix, classes=[\"no ad hominem\", \"ad hominem\"],normalize=False, \n",
    "                      title=title)\n",
    "\n",
    "#print('plots exported.png')\n",
    "#fig.savefig(\"model03_not_normalized.png\")\n",
    "\n",
    "# Plot non-normalized confusion matrix\n",
    "fig = plt.figure()\n",
    "plot_confusion_matrix(cnf_matrix, classes=[\"no ad hominem\", \"ad hominem\"],normalize=True, \n",
    "                      title=title)\n",
    "#fig.savefig(\"model03_normalized.png\")"
   ]
  },
  {
   "cell_type": "code",
   "execution_count": null,
   "metadata": {},
   "outputs": [],
   "source": [
    "model.save_weights(\"mode06.h5\")"
   ]
  },
  {
   "cell_type": "markdown",
   "metadata": {},
   "source": [
    "## Finally evaluate loss on train and validation set"
   ]
  },
  {
   "cell_type": "code",
   "execution_count": 250,
   "metadata": {},
   "outputs": [
    {
     "data": {
      "image/png": "[encoded data removed]",
      "text/plain": [
       "<Figure size 432x288 with 1 Axes>"
      ]
     },
     "metadata": {
      "needs_background": "light"
     },
     "output_type": "display_data"
    }
   ],
   "source": [
    "plt.plot(history.history['loss'])\n",
    "plt.plot(history.history['val_loss'])\n",
    "plt.title('model loss')\n",
    "plt.ylabel('loss')\n",
    "plt.xlabel('epoch')\n",
    "plt.legend(['train', 'validation'], loc='upper left')\n",
    "plt.show()"
   ]
  },
  {
   "cell_type": "code",
   "execution_count": null,
   "metadata": {},
   "outputs": [],
   "source": []
  }
 ],
 "metadata": {
  "kernelspec": {
   "display_name": "Environment (conda_tensorflow_p36)",
   "language": "python",
   "name": "conda_tensorflow_p36"
  },
  "language_info": {
   "codemirror_mode": {
    "name": "ipython",
    "version": 3
   },
   "file_extension": ".py",
   "mimetype": "text/x-python",
   "name": "python",
   "nbconvert_exporter": "python",
   "pygments_lexer": "ipython3",
   "version": "3.6.6"
  }
 },
 "nbformat": 4,
 "nbformat_minor": 2
}
