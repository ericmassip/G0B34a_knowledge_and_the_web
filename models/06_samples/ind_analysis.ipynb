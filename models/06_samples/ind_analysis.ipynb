{
 "cells": [
  {
   "cell_type": "markdown",
   "metadata": {},
   "source": [
    "# Selecting the examples for analisys\n",
    "Long, medium and short text entries\n"
   ]
  },
  {
   "cell_type": "code",
   "execution_count": 1,
   "metadata": {},
   "outputs": [],
   "source": [
    "import numpy as np\n",
    "import pandas as pd\n",
    "import random\n",
    "from gensim.utils import simple_preprocess\n",
    "import matplotlib.pyplot as plt"
   ]
  },
  {
   "cell_type": "markdown",
   "metadata": {},
   "source": [
    "## Importing data"
   ]
  },
  {
   "cell_type": "code",
   "execution_count": 2,
   "metadata": {},
   "outputs": [
    {
     "name": "stdout",
     "output_type": "stream",
     "text": [
      "(29218, 2)\n"
     ]
    }
   ],
   "source": [
    "df = pd.read_csv(\"../../data/ad_hominem/ad_hominems_cleaned_Murilo.csv\", sep=\",\", index_col=0, header=0, names=[\"body\", \"isAdHominem\"])\n",
    "df = df[~df.isin([np.nan, np.inf, -np.inf, 'nan']).any(1)] ## Remove rows with NaN values\n",
    "print(df.shape)"
   ]
  },
  {
   "cell_type": "code",
   "execution_count": 3,
   "metadata": {},
   "outputs": [],
   "source": [
    "df[\"length\"] = df[\"body\"].apply(lambda x: len(simple_preprocess(x, deacc=True))) # Make row for length\n",
    "df = df.reset_index(drop=True)"
   ]
  },
  {
   "cell_type": "code",
   "execution_count": 4,
   "metadata": {},
   "outputs": [
    {
     "data": {
      "text/html": [
       "<div>\n",
       "<style scoped>\n",
       "    .dataframe tbody tr th:only-of-type {\n",
       "        vertical-align: middle;\n",
       "    }\n",
       "\n",
       "    .dataframe tbody tr th {\n",
       "        vertical-align: top;\n",
       "    }\n",
       "\n",
       "    .dataframe thead th {\n",
       "        text-align: right;\n",
       "    }\n",
       "</style>\n",
       "<table border=\"1\" class=\"dataframe\">\n",
       "  <thead>\n",
       "    <tr style=\"text-align: right;\">\n",
       "      <th></th>\n",
       "      <th>body</th>\n",
       "      <th>isAdHominem</th>\n",
       "      <th>length</th>\n",
       "    </tr>\n",
       "  </thead>\n",
       "  <tbody>\n",
       "    <tr>\n",
       "      <th>0</th>\n",
       "      <td>What makes corporations different in this case? They have interests too.</td>\n",
       "      <td>0</td>\n",
       "      <td>11</td>\n",
       "    </tr>\n",
       "    <tr>\n",
       "      <th>1</th>\n",
       "      <td>I'm sorry if your smugness gets in the way. Like I said elsewhere in this thread. Somolia is not close to anything I advocate for so why on earth would I move there? Any time the Somolia \"argument\" is brought up, I instantly know I'm dealing with someone who refuses to learn the difference between a voluntary society and a third world country ravaged by warlords and foreign policies of other countries. If you want a thoughtful response to an argument, make sure you're not comparing Antarctica to the Bahamas. Otherwise, take your circlejerk, \"arguments\" elsewhere. You have contributed absolutely nothing to this thread but ad hominem Attacks and the typical liberal/conservative talking points and almost everyone in here knows it.</td>\n",
       "      <td>1</td>\n",
       "      <td>114</td>\n",
       "    </tr>\n",
       "    <tr>\n",
       "      <th>2</th>\n",
       "      <td>Basically to believe a patriarchy exists, you must believe that men are maintaining a system of oppression against women, despite knowing the harm it does to both women and men.EG - Wanting to maintain a system that, among other things, condones severe anti-male bias in all facets of the legal system, simply isn't rational. Thus men, being the ones in power, want to oppress women so much they are willing to harm themselves to do it. It'd be like cutting off your own arm so you had something to club someone with.A long time ago one could say it was ignorance, but with how mainstream feminism thoughts are today this can no longer be true. So the actions of men to maintain the patriarchy must also be willful.How can a person believe this, and not hate men?</td>\n",
       "      <td>0</td>\n",
       "      <td>135</td>\n",
       "    </tr>\n",
       "    <tr>\n",
       "      <th>3</th>\n",
       "      <td>The punishment for heresy was being burned at the stake.</td>\n",
       "      <td>0</td>\n",
       "      <td>10</td>\n",
       "    </tr>\n",
       "    <tr>\n",
       "      <th>4</th>\n",
       "      <td>No it doesn't. Sex is defined by DNA. DNA cannot be changed from male to female. A sex change is putting lipstick on a pig. It may look different but it's still a pig</td>\n",
       "      <td>0</td>\n",
       "      <td>31</td>\n",
       "    </tr>\n",
       "  </tbody>\n",
       "</table>\n",
       "</div>"
      ],
      "text/plain": [
       "                                                                                                                                                                                                                                                                                                                                                                                                                                                                                                                                                                                                                                                                                                                                                                                          body  \\\n",
       "0  What makes corporations different in this case? They have interests too.                                                                                                                                                                                                                                                                                                                                                                                                                                                                                                                                                                                                                                                                                                                      \n",
       "1  I'm sorry if your smugness gets in the way. Like I said elsewhere in this thread. Somolia is not close to anything I advocate for so why on earth would I move there? Any time the Somolia \"argument\" is brought up, I instantly know I'm dealing with someone who refuses to learn the difference between a voluntary society and a third world country ravaged by warlords and foreign policies of other countries. If you want a thoughtful response to an argument, make sure you're not comparing Antarctica to the Bahamas. Otherwise, take your circlejerk, \"arguments\" elsewhere. You have contributed absolutely nothing to this thread but ad hominem Attacks and the typical liberal/conservative talking points and almost everyone in here knows it.                             \n",
       "2  Basically to believe a patriarchy exists, you must believe that men are maintaining a system of oppression against women, despite knowing the harm it does to both women and men.EG - Wanting to maintain a system that, among other things, condones severe anti-male bias in all facets of the legal system, simply isn't rational. Thus men, being the ones in power, want to oppress women so much they are willing to harm themselves to do it. It'd be like cutting off your own arm so you had something to club someone with.A long time ago one could say it was ignorance, but with how mainstream feminism thoughts are today this can no longer be true. So the actions of men to maintain the patriarchy must also be willful.How can a person believe this, and not hate men?   \n",
       "3  The punishment for heresy was being burned at the stake.                                                                                                                                                                                                                                                                                                                                                                                                                                                                                                                                                                                                                                                                                                                                      \n",
       "4  No it doesn't. Sex is defined by DNA. DNA cannot be changed from male to female. A sex change is putting lipstick on a pig. It may look different but it's still a pig                                                                                                                                                                                                                                                                                                                                                                                                                                                                                                                                                                                                                        \n",
       "\n",
       "   isAdHominem  length  \n",
       "0  0            11      \n",
       "1  1            114     \n",
       "2  0            135     \n",
       "3  0            10      \n",
       "4  0            31      "
      ]
     },
     "execution_count": 4,
     "metadata": {},
     "output_type": "execute_result"
    }
   ],
   "source": [
    "pd.set_option('display.max_colwidth', 0)\n",
    "df.head(n=5)"
   ]
  },
  {
   "cell_type": "code",
   "execution_count": 5,
   "metadata": {},
   "outputs": [
    {
     "name": "stdout",
     "output_type": "stream",
     "text": [
      "The indexes for the examples picked (in the original data frame) are 18326, 13376, 1989, 5391, 17927 and 14290.\n"
     ]
    }
   ],
   "source": [
    "ilong_true = df.loc[(df[\"length\"] > 300) & (df[\"length\"] < 400) & (df['isAdHominem'] == 1)].sample(n=1).index[0]\n",
    "ilong_false = df.loc[(df[\"length\"] > 300) & (df[\"length\"] < 400) & (df['isAdHominem'] == 0)].sample(n=1).index[0]\n",
    "imed_true = df.loc[(df[\"length\"] > 100) & (df[\"length\"] < 150) & (df['isAdHominem'] == 1)].sample(n=1).index[0]\n",
    "imed_false = df.loc[(df[\"length\"] > 100) & (df[\"length\"] < 150) & (df['isAdHominem'] == 0)].sample(n=1).index[0]\n",
    "ishort_true = df.loc[(df[\"length\"] > 10)  & (df[\"length\"] < 20)  & (df['isAdHominem'] == 1)].sample(n=1).index[0]\n",
    "ishort_false = df.loc[(df[\"length\"] > 10)  & (df[\"length\"] < 20)  & (df['isAdHominem'] == 0)].sample(n=1).index[0]\n",
    "print(\"The indexes for the examples picked (in the original data frame) are {}, {}, {}, {}, {} and {}.\".format(ilong_true, ilong_false, imed_true, imed_false, ishort_true, ishort_false))"
   ]
  },
  {
   "cell_type": "code",
   "execution_count": 6,
   "metadata": {},
   "outputs": [],
   "source": [
    "indexes = [ilong_true, ilong_false, imed_true, imed_false, ishort_true, ishort_false]\n",
    "df_samples = df.loc[indexes,:]"
   ]
  },
  {
   "cell_type": "markdown",
   "metadata": {},
   "source": [
    "## Filtering the dataset"
   ]
  },
  {
   "cell_type": "code",
   "execution_count": 7,
   "metadata": {},
   "outputs": [
    {
     "data": {
      "text/html": [
       "<div>\n",
       "<style scoped>\n",
       "    .dataframe tbody tr th:only-of-type {\n",
       "        vertical-align: middle;\n",
       "    }\n",
       "\n",
       "    .dataframe tbody tr th {\n",
       "        vertical-align: top;\n",
       "    }\n",
       "\n",
       "    .dataframe thead th {\n",
       "        text-align: right;\n",
       "    }\n",
       "</style>\n",
       "<table border=\"1\" class=\"dataframe\">\n",
       "  <thead>\n",
       "    <tr style=\"text-align: right;\">\n",
       "      <th></th>\n",
       "      <th>length</th>\n",
       "      <th>body</th>\n",
       "      <th>isAdHominem</th>\n",
       "    </tr>\n",
       "  </thead>\n",
       "  <tbody>\n",
       "    <tr>\n",
       "      <th>0</th>\n",
       "      <td>301</td>\n",
       "      <td>yeah people like non whites are already getting death threats here and civil war is actually way more likely than anyone wants to believe just because it was fair and legal election well sorry godwin but so was the election that put hitler into power also just because someone problems don measure up to people with worse problems doesn mean that their problems aren real and that bullshit fucking thing to say and not good way to start out discourse who says they ll be doing that firstly that bullshit if you have less stuff you actually have an easier time packing everything up and moving it as long as you have means of transportation even that can be overcome with either bit of saving or bit of larceny secondly if it is panic situation they might just abandon shit as refugees commonly do they aren refugees because they have nothing they have nothing because the active verb in fled their country is fled don know that you understand the utter helpless feeling of some people so let summarize people here were trying to change them and that shit didn fucking work personally am going to stay and change them but can understand someone who already given up hope also there that actual problems thing again and this time it got me bit riled so let see if you think me pulling pistol and saying should just kill you now as happened to minority friend after this election seems like fucking actual problem to you nowhere is perfect the people leaving don think it going to be perfect just better and don know if they re right or not but my guess is that with at least somewhat tighter gun control you won have people flashing their pieces and threatening minorities</td>\n",
       "      <td>1</td>\n",
       "    </tr>\n",
       "    <tr>\n",
       "      <th>1</th>\n",
       "      <td>341</td>\n",
       "      <td>in more recent years the concept of white privilege has gained considerable standing in national discussions over race developed as term for societal privileges that benefit people identified as white social privileges that are not commonly experienced by non white people under the same conditions there are two primary problems with this as see it first the idea of white privilege reifies race unlike the color blindness approach to racial inequality the white privilege or critical race theory approach makes white identity dominant force of history but whiteness in this view is not divorced from historical agents white people therefore become the architects of history and the only group with agency while claiming to deconstruct whiteness proponents of white privilege theory end up essentializing it and providing whites with self identification as whites which leads to the second problem the group interests attached to whiteness white privilege is described as set of privileges and even rights for example the privilege of not being targeted by police because of your race indeed many of the examples used by proponents of the theory involve law enforcement other examples include advantages in housing education and employment markets even when there is no race conscious decision being made as result sometimes of social networks unconscious bias and of course historical advantages the net result of reifying white privilege and identifying it with concrete material interests however is to create situation where proponents of white privilege in essence tell whites that they are distinct and advantaged social group that has material interests rational political actor would ordinarily advance their material interests but proponents of white privilege appear to believe that moral case against white privilege can persuade or perhaps shame whites into acting against these material interests is that at all likely or is it more likely that proponents of this theory will unwittingly unleash new forms of racial consciousness among whites that will advance white interests at the expense of racial minorities think that the latter is more likely if you disagree change my view</td>\n",
       "      <td>0</td>\n",
       "    </tr>\n",
       "    <tr>\n",
       "      <th>2</th>\n",
       "      <td>132</td>\n",
       "      <td>oh look someone who can read stop raping orphans for moment and think the lifetime statistics methods are never released and are supposedly derived somehow from the month figure any statistical process that isn made public basically doesn exist as it can be independently verified going to guess they are using previous results from other intellectually incorrect studies but because they never share how they arrive at this number cannot verify its correctness and therefore can be discarded even if the lifetime figure is correct it has no bearing on current risk if the rate of assault for women was higher years ago this would be reflected in higher lifetime rate but far lower month rate current score me billionyou negative infinity also stop raping orphan children and kill yourself you cunt</td>\n",
       "      <td>1</td>\n",
       "    </tr>\n",
       "    <tr>\n",
       "      <th>3</th>\n",
       "      <td>120</td>\n",
       "      <td>okay since you re discussing dna you re getting into dangerous territory so ll oblige your statement implies that black people are genetically pre disposed to crime ok then by the same token how do you explain that nearly every major serial killer of the th century was white man are white people genetically pre disposed to be murdering sociopaths by your logic would have to arrive at that conclusion know what just said is ridiculous however that outlandish claim still holds more water than what you re trying to argue because while poor people naturally turn to crime as means to survive serial killers and sociopaths are actually physically biologically different in the way that their brains are wired</td>\n",
       "      <td>0</td>\n",
       "    </tr>\n",
       "    <tr>\n",
       "      <th>4</th>\n",
       "      <td>13</td>\n",
       "      <td>honestly just shut the hell up you make massive fool out of yourself</td>\n",
       "      <td>1</td>\n",
       "    </tr>\n",
       "    <tr>\n",
       "      <th>5</th>\n",
       "      <td>15</td>\n",
       "      <td>what you said was so he wouldn be identified as criminal not he did it</td>\n",
       "      <td>0</td>\n",
       "    </tr>\n",
       "  </tbody>\n",
       "</table>\n",
       "</div>"
      ],
      "text/plain": [
       "   length  \\\n",
       "0  301      \n",
       "1  341      \n",
       "2  132      \n",
       "3  120      \n",
       "4  13       \n",
       "5  15       \n",
       "\n",
       "                                                                                                                                                                                                                                                                                                                                                                                                                                                                                                                                                                                                                                                                                                                                                                                                                                                                                                                                                                                                                                                                                                                                                                                                                                                                                                                                                                                                                                                                                                                                                                                                                                                                                                                                                                                                                                                                                                                                                                                                                                                                                                                                                                                                                                                                                 body  \\\n",
       "0  yeah people like non whites are already getting death threats here and civil war is actually way more likely than anyone wants to believe just because it was fair and legal election well sorry godwin but so was the election that put hitler into power also just because someone problems don measure up to people with worse problems doesn mean that their problems aren real and that bullshit fucking thing to say and not good way to start out discourse who says they ll be doing that firstly that bullshit if you have less stuff you actually have an easier time packing everything up and moving it as long as you have means of transportation even that can be overcome with either bit of saving or bit of larceny secondly if it is panic situation they might just abandon shit as refugees commonly do they aren refugees because they have nothing they have nothing because the active verb in fled their country is fled don know that you understand the utter helpless feeling of some people so let summarize people here were trying to change them and that shit didn fucking work personally am going to stay and change them but can understand someone who already given up hope also there that actual problems thing again and this time it got me bit riled so let see if you think me pulling pistol and saying should just kill you now as happened to minority friend after this election seems like fucking actual problem to you nowhere is perfect the people leaving don think it going to be perfect just better and don know if they re right or not but my guess is that with at least somewhat tighter gun control you won have people flashing their pieces and threatening minorities                                                                                                                                                                                                                                                                                                                                                                                                                                                                                                                                               \n",
       "1  in more recent years the concept of white privilege has gained considerable standing in national discussions over race developed as term for societal privileges that benefit people identified as white social privileges that are not commonly experienced by non white people under the same conditions there are two primary problems with this as see it first the idea of white privilege reifies race unlike the color blindness approach to racial inequality the white privilege or critical race theory approach makes white identity dominant force of history but whiteness in this view is not divorced from historical agents white people therefore become the architects of history and the only group with agency while claiming to deconstruct whiteness proponents of white privilege theory end up essentializing it and providing whites with self identification as whites which leads to the second problem the group interests attached to whiteness white privilege is described as set of privileges and even rights for example the privilege of not being targeted by police because of your race indeed many of the examples used by proponents of the theory involve law enforcement other examples include advantages in housing education and employment markets even when there is no race conscious decision being made as result sometimes of social networks unconscious bias and of course historical advantages the net result of reifying white privilege and identifying it with concrete material interests however is to create situation where proponents of white privilege in essence tell whites that they are distinct and advantaged social group that has material interests rational political actor would ordinarily advance their material interests but proponents of white privilege appear to believe that moral case against white privilege can persuade or perhaps shame whites into acting against these material interests is that at all likely or is it more likely that proponents of this theory will unwittingly unleash new forms of racial consciousness among whites that will advance white interests at the expense of racial minorities think that the latter is more likely if you disagree change my view   \n",
       "2  oh look someone who can read stop raping orphans for moment and think the lifetime statistics methods are never released and are supposedly derived somehow from the month figure any statistical process that isn made public basically doesn exist as it can be independently verified going to guess they are using previous results from other intellectually incorrect studies but because they never share how they arrive at this number cannot verify its correctness and therefore can be discarded even if the lifetime figure is correct it has no bearing on current risk if the rate of assault for women was higher years ago this would be reflected in higher lifetime rate but far lower month rate current score me billionyou negative infinity also stop raping orphan children and kill yourself you cunt                                                                                                                                                                                                                                                                                                                                                                                                                                                                                                                                                                                                                                                                                                                                                                                                                                                                                                                                                                                                                                                                                                                                                                                                                                                                                                                                                                                                                                                       \n",
       "3  okay since you re discussing dna you re getting into dangerous territory so ll oblige your statement implies that black people are genetically pre disposed to crime ok then by the same token how do you explain that nearly every major serial killer of the th century was white man are white people genetically pre disposed to be murdering sociopaths by your logic would have to arrive at that conclusion know what just said is ridiculous however that outlandish claim still holds more water than what you re trying to argue because while poor people naturally turn to crime as means to survive serial killers and sociopaths are actually physically biologically different in the way that their brains are wired                                                                                                                                                                                                                                                                                                                                                                                                                                                                                                                                                                                                                                                                                                                                                                                                                                                                                                                                                                                                                                                                                                                                                                                                                                                                                                                                                                                                                                                                                                                                                 \n",
       "4  honestly just shut the hell up you make massive fool out of yourself                                                                                                                                                                                                                                                                                                                                                                                                                                                                                                                                                                                                                                                                                                                                                                                                                                                                                                                                                                                                                                                                                                                                                                                                                                                                                                                                                                                                                                                                                                                                                                                                                                                                                                                                                                                                                                                                                                                                                                                                                                                                                                                                                                                                                 \n",
       "5  what you said was so he wouldn be identified as criminal not he did it                                                                                                                                                                                                                                                                                                                                                                                                                                                                                                                                                                                                                                                                                                                                                                                                                                                                                                                                                                                                                                                                                                                                                                                                                                                                                                                                                                                                                                                                                                                                                                                                                                                                                                                                                                                                                                                                                                                                                                                                                                                                                                                                                                                                               \n",
       "\n",
       "   isAdHominem  \n",
       "0  1            \n",
       "1  0            \n",
       "2  1            \n",
       "3  0            \n",
       "4  1            \n",
       "5  0            "
      ]
     },
     "execution_count": 7,
     "metadata": {},
     "output_type": "execute_result"
    }
   ],
   "source": [
    "df_samples[\"body\"] = df_samples[\"body\"].apply(lambda x: \" \".join(simple_preprocess(str(x), deacc=True))) # Remove stop words, special characters, make everything lower case, etc.\n",
    "df_samples = df_samples.reset_index(drop=True).reindex([\"length\", \"body\", \"isAdHominem\"], axis=1)        # Reset new indexes for data frame and reorder columns (visualization purposes)\n",
    "df_samples"
   ]
  },
  {
   "cell_type": "markdown",
   "metadata": {},
   "source": [
    "## Neural Network/TFIDF\n",
    "From [here](../02_tfidf/neural_network.ipynb)."
   ]
  },
  {
   "cell_type": "code",
   "execution_count": 8,
   "metadata": {},
   "outputs": [
    {
     "name": "stderr",
     "output_type": "stream",
     "text": [
      "/home/mcunha/anaconda3/lib/python3.6/site-packages/h5py/__init__.py:36: FutureWarning: Conversion of the second argument of issubdtype from `float` to `np.floating` is deprecated. In future, it will be treated as `np.float64 == np.dtype(float).type`.\n",
      "  from ._conv import register_converters as _register_converters\n",
      "Using TensorFlow backend.\n"
     ]
    },
    {
     "data": {
      "text/plain": [
       "(6, 3000)"
      ]
     },
     "execution_count": 8,
     "metadata": {},
     "output_type": "execute_result"
    }
   ],
   "source": [
    "from keras import utils\n",
    "from keras.preprocessing import text, sequence\n",
    "from sklearn.model_selection import train_test_split\n",
    "from keras.models import model_from_json\n",
    "\n",
    "vocab_size = 3000\n",
    "\n",
    "tokenize = text.Tokenizer(num_words=vocab_size)\n",
    "#tokenize.fit_on_texts(result.headline_text)\n",
    "\n",
    "tokenize.fit_on_texts(df_samples[\"body\"]) # only fit on train\n",
    "x_test = tokenize.texts_to_matrix(df_samples[\"body\"])\n",
    "x_test.shape"
   ]
  },
  {
   "cell_type": "code",
   "execution_count": 9,
   "metadata": {},
   "outputs": [
    {
     "name": "stdout",
     "output_type": "stream",
     "text": [
      "Loaded model from disk\n"
     ]
    }
   ],
   "source": [
    "# load json and create model\n",
    "json_file = open('../02_tfidf/model.json', 'r')\n",
    "loaded_model_json = json_file.read()\n",
    "json_file.close()\n",
    "loaded_model = model_from_json(loaded_model_json)\n",
    "# load weights into new model\n",
    "loaded_model.load_weights(\"../02_tfidf/model.h5\")\n",
    "print(\"Loaded model from disk\")\n",
    " \n",
    "# evaluate loaded model on test data\n",
    "loaded_model.compile(loss='binary_crossentropy', optimizer='adam', metrics=['accuracy'])\n",
    "#score = loaded_model.evaluate(x_test, df_samples['isAdHominem'], verbose=0)\n",
    "ynew = loaded_model.predict_classes(x_test)"
   ]
  },
  {
   "cell_type": "code",
   "execution_count": 10,
   "metadata": {},
   "outputs": [
    {
     "data": {
      "text/html": [
       "<div>\n",
       "<style scoped>\n",
       "    .dataframe tbody tr th:only-of-type {\n",
       "        vertical-align: middle;\n",
       "    }\n",
       "\n",
       "    .dataframe tbody tr th {\n",
       "        vertical-align: top;\n",
       "    }\n",
       "\n",
       "    .dataframe thead th {\n",
       "        text-align: right;\n",
       "    }\n",
       "</style>\n",
       "<table border=\"1\" class=\"dataframe\">\n",
       "  <thead>\n",
       "    <tr style=\"text-align: right;\">\n",
       "      <th></th>\n",
       "      <th>length</th>\n",
       "      <th>body</th>\n",
       "      <th>isAdHominem</th>\n",
       "      <th>NN/TFIDF</th>\n",
       "    </tr>\n",
       "  </thead>\n",
       "  <tbody>\n",
       "    <tr>\n",
       "      <th>0</th>\n",
       "      <td>301</td>\n",
       "      <td>yeah people like non whites are already getting death threats here and civil war is actually way more likely than anyone wants to believe just because it was fair and legal election well sorry godwin but so was the election that put hitler into power also just because someone problems don measure up to people with worse problems doesn mean that their problems aren real and that bullshit fucking thing to say and not good way to start out discourse who says they ll be doing that firstly that bullshit if you have less stuff you actually have an easier time packing everything up and moving it as long as you have means of transportation even that can be overcome with either bit of saving or bit of larceny secondly if it is panic situation they might just abandon shit as refugees commonly do they aren refugees because they have nothing they have nothing because the active verb in fled their country is fled don know that you understand the utter helpless feeling of some people so let summarize people here were trying to change them and that shit didn fucking work personally am going to stay and change them but can understand someone who already given up hope also there that actual problems thing again and this time it got me bit riled so let see if you think me pulling pistol and saying should just kill you now as happened to minority friend after this election seems like fucking actual problem to you nowhere is perfect the people leaving don think it going to be perfect just better and don know if they re right or not but my guess is that with at least somewhat tighter gun control you won have people flashing their pieces and threatening minorities</td>\n",
       "      <td>1</td>\n",
       "      <td>1</td>\n",
       "    </tr>\n",
       "    <tr>\n",
       "      <th>1</th>\n",
       "      <td>341</td>\n",
       "      <td>in more recent years the concept of white privilege has gained considerable standing in national discussions over race developed as term for societal privileges that benefit people identified as white social privileges that are not commonly experienced by non white people under the same conditions there are two primary problems with this as see it first the idea of white privilege reifies race unlike the color blindness approach to racial inequality the white privilege or critical race theory approach makes white identity dominant force of history but whiteness in this view is not divorced from historical agents white people therefore become the architects of history and the only group with agency while claiming to deconstruct whiteness proponents of white privilege theory end up essentializing it and providing whites with self identification as whites which leads to the second problem the group interests attached to whiteness white privilege is described as set of privileges and even rights for example the privilege of not being targeted by police because of your race indeed many of the examples used by proponents of the theory involve law enforcement other examples include advantages in housing education and employment markets even when there is no race conscious decision being made as result sometimes of social networks unconscious bias and of course historical advantages the net result of reifying white privilege and identifying it with concrete material interests however is to create situation where proponents of white privilege in essence tell whites that they are distinct and advantaged social group that has material interests rational political actor would ordinarily advance their material interests but proponents of white privilege appear to believe that moral case against white privilege can persuade or perhaps shame whites into acting against these material interests is that at all likely or is it more likely that proponents of this theory will unwittingly unleash new forms of racial consciousness among whites that will advance white interests at the expense of racial minorities think that the latter is more likely if you disagree change my view</td>\n",
       "      <td>0</td>\n",
       "      <td>1</td>\n",
       "    </tr>\n",
       "    <tr>\n",
       "      <th>2</th>\n",
       "      <td>132</td>\n",
       "      <td>oh look someone who can read stop raping orphans for moment and think the lifetime statistics methods are never released and are supposedly derived somehow from the month figure any statistical process that isn made public basically doesn exist as it can be independently verified going to guess they are using previous results from other intellectually incorrect studies but because they never share how they arrive at this number cannot verify its correctness and therefore can be discarded even if the lifetime figure is correct it has no bearing on current risk if the rate of assault for women was higher years ago this would be reflected in higher lifetime rate but far lower month rate current score me billionyou negative infinity also stop raping orphan children and kill yourself you cunt</td>\n",
       "      <td>1</td>\n",
       "      <td>1</td>\n",
       "    </tr>\n",
       "    <tr>\n",
       "      <th>3</th>\n",
       "      <td>120</td>\n",
       "      <td>okay since you re discussing dna you re getting into dangerous territory so ll oblige your statement implies that black people are genetically pre disposed to crime ok then by the same token how do you explain that nearly every major serial killer of the th century was white man are white people genetically pre disposed to be murdering sociopaths by your logic would have to arrive at that conclusion know what just said is ridiculous however that outlandish claim still holds more water than what you re trying to argue because while poor people naturally turn to crime as means to survive serial killers and sociopaths are actually physically biologically different in the way that their brains are wired</td>\n",
       "      <td>0</td>\n",
       "      <td>1</td>\n",
       "    </tr>\n",
       "    <tr>\n",
       "      <th>4</th>\n",
       "      <td>13</td>\n",
       "      <td>honestly just shut the hell up you make massive fool out of yourself</td>\n",
       "      <td>1</td>\n",
       "      <td>1</td>\n",
       "    </tr>\n",
       "    <tr>\n",
       "      <th>5</th>\n",
       "      <td>15</td>\n",
       "      <td>what you said was so he wouldn be identified as criminal not he did it</td>\n",
       "      <td>0</td>\n",
       "      <td>1</td>\n",
       "    </tr>\n",
       "  </tbody>\n",
       "</table>\n",
       "</div>"
      ],
      "text/plain": [
       "   length  \\\n",
       "0  301      \n",
       "1  341      \n",
       "2  132      \n",
       "3  120      \n",
       "4  13       \n",
       "5  15       \n",
       "\n",
       "                                                                                                                                                                                                                                                                                                                                                                                                                                                                                                                                                                                                                                                                                                                                                                                                                                                                                                                                                                                                                                                                                                                                                                                                                                                                                                                                                                                                                                                                                                                                                                                                                                                                                                                                                                                                                                                                                                                                                                                                                                                                                                                                                                                                                                                                                 body  \\\n",
       "0  yeah people like non whites are already getting death threats here and civil war is actually way more likely than anyone wants to believe just because it was fair and legal election well sorry godwin but so was the election that put hitler into power also just because someone problems don measure up to people with worse problems doesn mean that their problems aren real and that bullshit fucking thing to say and not good way to start out discourse who says they ll be doing that firstly that bullshit if you have less stuff you actually have an easier time packing everything up and moving it as long as you have means of transportation even that can be overcome with either bit of saving or bit of larceny secondly if it is panic situation they might just abandon shit as refugees commonly do they aren refugees because they have nothing they have nothing because the active verb in fled their country is fled don know that you understand the utter helpless feeling of some people so let summarize people here were trying to change them and that shit didn fucking work personally am going to stay and change them but can understand someone who already given up hope also there that actual problems thing again and this time it got me bit riled so let see if you think me pulling pistol and saying should just kill you now as happened to minority friend after this election seems like fucking actual problem to you nowhere is perfect the people leaving don think it going to be perfect just better and don know if they re right or not but my guess is that with at least somewhat tighter gun control you won have people flashing their pieces and threatening minorities                                                                                                                                                                                                                                                                                                                                                                                                                                                                                                                                               \n",
       "1  in more recent years the concept of white privilege has gained considerable standing in national discussions over race developed as term for societal privileges that benefit people identified as white social privileges that are not commonly experienced by non white people under the same conditions there are two primary problems with this as see it first the idea of white privilege reifies race unlike the color blindness approach to racial inequality the white privilege or critical race theory approach makes white identity dominant force of history but whiteness in this view is not divorced from historical agents white people therefore become the architects of history and the only group with agency while claiming to deconstruct whiteness proponents of white privilege theory end up essentializing it and providing whites with self identification as whites which leads to the second problem the group interests attached to whiteness white privilege is described as set of privileges and even rights for example the privilege of not being targeted by police because of your race indeed many of the examples used by proponents of the theory involve law enforcement other examples include advantages in housing education and employment markets even when there is no race conscious decision being made as result sometimes of social networks unconscious bias and of course historical advantages the net result of reifying white privilege and identifying it with concrete material interests however is to create situation where proponents of white privilege in essence tell whites that they are distinct and advantaged social group that has material interests rational political actor would ordinarily advance their material interests but proponents of white privilege appear to believe that moral case against white privilege can persuade or perhaps shame whites into acting against these material interests is that at all likely or is it more likely that proponents of this theory will unwittingly unleash new forms of racial consciousness among whites that will advance white interests at the expense of racial minorities think that the latter is more likely if you disagree change my view   \n",
       "2  oh look someone who can read stop raping orphans for moment and think the lifetime statistics methods are never released and are supposedly derived somehow from the month figure any statistical process that isn made public basically doesn exist as it can be independently verified going to guess they are using previous results from other intellectually incorrect studies but because they never share how they arrive at this number cannot verify its correctness and therefore can be discarded even if the lifetime figure is correct it has no bearing on current risk if the rate of assault for women was higher years ago this would be reflected in higher lifetime rate but far lower month rate current score me billionyou negative infinity also stop raping orphan children and kill yourself you cunt                                                                                                                                                                                                                                                                                                                                                                                                                                                                                                                                                                                                                                                                                                                                                                                                                                                                                                                                                                                                                                                                                                                                                                                                                                                                                                                                                                                                                                                       \n",
       "3  okay since you re discussing dna you re getting into dangerous territory so ll oblige your statement implies that black people are genetically pre disposed to crime ok then by the same token how do you explain that nearly every major serial killer of the th century was white man are white people genetically pre disposed to be murdering sociopaths by your logic would have to arrive at that conclusion know what just said is ridiculous however that outlandish claim still holds more water than what you re trying to argue because while poor people naturally turn to crime as means to survive serial killers and sociopaths are actually physically biologically different in the way that their brains are wired                                                                                                                                                                                                                                                                                                                                                                                                                                                                                                                                                                                                                                                                                                                                                                                                                                                                                                                                                                                                                                                                                                                                                                                                                                                                                                                                                                                                                                                                                                                                                 \n",
       "4  honestly just shut the hell up you make massive fool out of yourself                                                                                                                                                                                                                                                                                                                                                                                                                                                                                                                                                                                                                                                                                                                                                                                                                                                                                                                                                                                                                                                                                                                                                                                                                                                                                                                                                                                                                                                                                                                                                                                                                                                                                                                                                                                                                                                                                                                                                                                                                                                                                                                                                                                                                 \n",
       "5  what you said was so he wouldn be identified as criminal not he did it                                                                                                                                                                                                                                                                                                                                                                                                                                                                                                                                                                                                                                                                                                                                                                                                                                                                                                                                                                                                                                                                                                                                                                                                                                                                                                                                                                                                                                                                                                                                                                                                                                                                                                                                                                                                                                                                                                                                                                                                                                                                                                                                                                                                               \n",
       "\n",
       "   isAdHominem  NN/TFIDF  \n",
       "0  1            1         \n",
       "1  0            1         \n",
       "2  1            1         \n",
       "3  0            1         \n",
       "4  1            1         \n",
       "5  0            1         "
      ]
     },
     "execution_count": 10,
     "metadata": {},
     "output_type": "execute_result"
    }
   ],
   "source": [
    "df_samples[\"NN/TFIDF\"] = ynew\n",
    "df_samples"
   ]
  },
  {
   "cell_type": "markdown",
   "metadata": {},
   "source": [
    "## Neural Network/Word2Vec\n",
    "From [here](../02_tfidf/tfidf.ipynb)."
   ]
  },
  {
   "cell_type": "code",
   "execution_count": 11,
   "metadata": {},
   "outputs": [],
   "source": [
    "# I can't run it on my local computer due to memory limitations"
   ]
  },
  {
   "cell_type": "markdown",
   "metadata": {},
   "source": [
    "## LinearSVC/Word2Vec\n",
    "From [here](../02_tfidf/tfidf.ipynb)."
   ]
  },
  {
   "cell_type": "code",
   "execution_count": 12,
   "metadata": {},
   "outputs": [],
   "source": [
    "# I can't run it on my local computer due to memory limitations"
   ]
  },
  {
   "cell_type": "markdown",
   "metadata": {},
   "source": [
    "# SVMs/TFIDF\n",
    "\n",
    "SVMs tested:\n",
    "* `svm.NuSVC([nu, kernel, degree, gamma, …])`: Nu-Support Vector Classification.\n",
    "* `svm.SVC([C, kernel, degree, gamma, coef0, …])`: C-Support Vector Classification.\n",
    "* `svm.LinearSVR([epsilon, tol, C, loss, …])`: Linear Support Vector Regression.\n",
    "\n",
    "Kernels tested:\n",
    "* `linear`\n",
    "* `poly`\n",
    "* `sigmoid`\n",
    "* `rbf`\n",
    "\n",
    "From [here](../05_SVM/SVMs-kernels.ipynb)."
   ]
  },
  {
   "cell_type": "code",
   "execution_count": 13,
   "metadata": {},
   "outputs": [],
   "source": [
    "from sklearn.multiclass import OneVsOneClassifier\n",
    "from sklearn.svm import LinearSVC, NuSVC, OneClassSVM, SVC, SVR, l1_min_c\n",
    "from sklearn.model_selection import train_test_split\n",
    "import pandas as pd\n",
    "import numpy as np\n",
    "import gensim\n",
    "import sys\n",
    "sys.path.insert(0, '/home/mcunha/Documents/Classes/KW/G0B34a_knowledge_and_the_web/')\n",
    "import data.ad_hominem.tokenize_df\n",
    "from sklearn.metrics import confusion_matrix\n",
    "import itertools\n",
    "import matplotlib.pyplot as plt\n",
    "from sklearn.feature_extraction.text import TfidfVectorizer"
   ]
  },
  {
   "cell_type": "markdown",
   "metadata": {},
   "source": [
    "#### TdidfVectorizer used [here](../02_tfidf/tfidf.ipynb)."
   ]
  },
  {
   "cell_type": "code",
   "execution_count": 42,
   "metadata": {},
   "outputs": [],
   "source": [
    "v = TfidfVectorizer(ngram_range = (1, 1), max_features=3000)\n",
    "desired_indices = [i for i in range(len(df.index)) if i not in indexes]\n",
    "df_notInSamples = df.iloc[desired_indices]\n",
    "\n",
    "train_data, test_data = train_test_split(df_notInSamples, test_size=0.3, random_state=3)\n",
    "v.fit(train_data['body'].values.astype('U'))\n",
    "\n",
    "x_train_tfidf = v.transform(train_data['body'].values.astype('U'))\n",
    "y_train = list(train_data[\"isAdHominem\"])\n",
    "\n",
    "x_test_tfidf = v.transform(df_samples['body'].values.astype('U'))\n",
    "y_test = list(df_samples[\"isAdHominem\"])"
   ]
  },
  {
   "cell_type": "markdown",
   "metadata": {},
   "source": [
    "## NuSVC/TFIDF\n",
    "The kernels to be used are:\n",
    "* `linear`\n",
    "* `poly`\n",
    "* `sigmoid`\n",
    "* `rbf`\n",
    "\n",
    "The kernel `rbf` was used in the [SVMs.ipynb](./SVMs.ipynb). Here for comparison."
   ]
  },
  {
   "cell_type": "code",
   "execution_count": 15,
   "metadata": {
    "scrolled": false
   },
   "outputs": [
    {
     "name": "stdout",
     "output_type": "stream",
     "text": [
      "Fitting NuSVC model...\n",
      "Done!\n",
      "CPU times: user 3min 1s, sys: 221 ms, total: 3min 1s\n",
      "Wall time: 3min 1s\n"
     ]
    }
   ],
   "source": [
    "%%time\n",
    "\n",
    "print(\"Fitting NuSVC model...\")\n",
    "nuModel = NuSVC(nu=0.05, kernel='linear').fit(x_train, y_train)\n",
    "print(\"Done!\")\n",
    "\n",
    "predicted = nuModel.predict(x_test)\n",
    "df_samples[\"NuSVC-linear/TFIDF\"] = predicted"
   ]
  },
  {
   "cell_type": "code",
   "execution_count": 16,
   "metadata": {
    "scrolled": false
   },
   "outputs": [
    {
     "name": "stdout",
     "output_type": "stream",
     "text": [
      "Fitting NuSVC model...\n",
      "Done!\n",
      "CPU times: user 10.4 s, sys: 20 ms, total: 10.4 s\n",
      "Wall time: 10.4 s\n"
     ]
    }
   ],
   "source": [
    "%%time\n",
    "\n",
    "print(\"Fitting NuSVC model...\")\n",
    "nuModel = NuSVC(nu=0.05, kernel='poly').fit(x_train, y_train)\n",
    "print(\"Done!\")\n",
    "\n",
    "predicted = nuModel.predict(x_test)\n",
    "\n",
    "df_samples[\"NuSVC-poly/TFIDF\"] = predicted"
   ]
  },
  {
   "cell_type": "code",
   "execution_count": 17,
   "metadata": {},
   "outputs": [
    {
     "name": "stdout",
     "output_type": "stream",
     "text": [
      "Fitting NuSVC model...\n",
      "Done!\n",
      "CPU times: user 12.5 s, sys: 100 ms, total: 12.6 s\n",
      "Wall time: 12.6 s\n"
     ]
    }
   ],
   "source": [
    "%%time\n",
    "\n",
    "print(\"Fitting NuSVC model...\")\n",
    "nuModel = NuSVC(nu=0.05, kernel='sigmoid').fit(x_train, y_train)\n",
    "print(\"Done!\")\n",
    "\n",
    "predicted = nuModel.predict(x_test)\n",
    "\n",
    "df_samples[\"NuSVC-sigmoid/TFIDF\"] = predicted"
   ]
  },
  {
   "cell_type": "code",
   "execution_count": 18,
   "metadata": {
    "scrolled": false
   },
   "outputs": [
    {
     "name": "stdout",
     "output_type": "stream",
     "text": [
      "Fitting NuSVC model...\n",
      "Done!\n",
      "CPU times: user 14.1 s, sys: 108 ms, total: 14.2 s\n",
      "Wall time: 14.2 s\n"
     ]
    }
   ],
   "source": [
    "%%time\n",
    "\n",
    "print(\"Fitting NuSVC model...\")\n",
    "nuModel = NuSVC(nu=0.05, kernel='rbf').fit(x_train, y_train)\n",
    "print(\"Done!\")\n",
    "\n",
    "predicted = nuModel.predict(x_test)\n",
    "\n",
    "df_samples[\"NuSVC-rbf/TFIDF\"] = predicted"
   ]
  },
  {
   "cell_type": "markdown",
   "metadata": {},
   "source": [
    "## SVC/TFIDF\n",
    "Theoretically equivalent to other methods (LinearSVC and NuSVC), but uses different implementations.\n",
    "* `LinearSVC` is equivalent to `SVC(kernel = 'linear')`\n",
    "* From documentation: *`SVC` and `NuSVC` are similar methods, but accept slightly different sets of parameters and have different mathematical formulations (see section [Mathematical formulation](https://scikit-learn.org/stable/modules/svm.html#svm-mathematical-formulation))\n",
    "\n",
    "The kernels to be used are:\n",
    "* `linear`\n",
    "* `poly`\n",
    "* `sigmoid`\n",
    "* `rbf`"
   ]
  },
  {
   "cell_type": "code",
   "execution_count": 19,
   "metadata": {
    "scrolled": true
   },
   "outputs": [
    {
     "name": "stdout",
     "output_type": "stream",
     "text": [
      "Fitting SVC model...\n",
      "Done!\n",
      "CPU times: user 40.8 s, sys: 295 ms, total: 41.1 s\n",
      "Wall time: 41.5 s\n"
     ]
    }
   ],
   "source": [
    "%%time\n",
    "\n",
    "print(\"Fitting SVC model...\")\n",
    "svcModel = SVC(kernel='poly').fit(x_train, y_train)\n",
    "print(\"Done!\")\n",
    "\n",
    "predicted = svcModel.predict(x_test)\n",
    "\n",
    "df_samples[\"SVC-poly/TFIDF\"] = predicted"
   ]
  },
  {
   "cell_type": "code",
   "execution_count": 20,
   "metadata": {
    "scrolled": true
   },
   "outputs": [
    {
     "name": "stdout",
     "output_type": "stream",
     "text": [
      "Fitting SVC model...\n",
      "Done!\n",
      "CPU times: user 40.5 s, sys: 216 ms, total: 40.8 s\n",
      "Wall time: 40.9 s\n"
     ]
    }
   ],
   "source": [
    "%%time\n",
    "\n",
    "print(\"Fitting SVC model...\")\n",
    "svcModel = SVC(kernel='sigmoid').fit(x_train, y_train)\n",
    "print(\"Done!\")\n",
    "\n",
    "predicted = svcModel.predict(x_test)\n",
    "\n",
    "df_samples[\"SVC-sigmoid/TFIDF\"] = predicted"
   ]
  },
  {
   "cell_type": "code",
   "execution_count": 21,
   "metadata": {
    "scrolled": true
   },
   "outputs": [
    {
     "name": "stdout",
     "output_type": "stream",
     "text": [
      "Fitting SVC model...\n",
      "Done!\n",
      "CPU times: user 42.7 s, sys: 256 ms, total: 42.9 s\n",
      "Wall time: 43.2 s\n"
     ]
    }
   ],
   "source": [
    "%%time\n",
    "\n",
    "print(\"Fitting SVC model...\")\n",
    "svcModel = SVC(kernel='rbf').fit(x_train, y_train)\n",
    "print(\"Done!\")\n",
    "\n",
    "predicted = svcModel.predict(x_test)\n",
    "\n",
    "df_samples[\"SVC-rbf/TFIDF\"] = predicted"
   ]
  },
  {
   "cell_type": "code",
   "execution_count": 22,
   "metadata": {
    "scrolled": false
   },
   "outputs": [
    {
     "name": "stdout",
     "output_type": "stream",
     "text": [
      "Fitting SVC model...\n",
      "Done!\n",
      "CPU times: user 59.2 s, sys: 92.3 ms, total: 59.3 s\n",
      "Wall time: 59.4 s\n"
     ]
    }
   ],
   "source": [
    "%%time\n",
    "\n",
    "print(\"Fitting SVC model...\")\n",
    "svcModel = SVC(kernel='linear').fit(x_train, y_train)\n",
    "print(\"Done!\")\n",
    "\n",
    "predicted = svcModel.predict(x_test)\n",
    "\n",
    "df_samples[\"SVC-linear/TFIDF\"] = predicted"
   ]
  },
  {
   "cell_type": "markdown",
   "metadata": {},
   "source": [
    "## LinearSVC/TFIDF\n",
    "As seen before, it is equivalent to `SVC(kernel='linear'`, with implementation differences."
   ]
  },
  {
   "cell_type": "code",
   "execution_count": 23,
   "metadata": {},
   "outputs": [
    {
     "name": "stdout",
     "output_type": "stream",
     "text": [
      "Fitting linear model...\n",
      "Done!\n",
      "CPU times: user 388 ms, sys: 3.92 ms, total: 392 ms\n",
      "Wall time: 401 ms\n"
     ]
    }
   ],
   "source": [
    "%%time\n",
    "\n",
    "print(\"Fitting linear model...\")\n",
    "linearModel = LinearSVC().fit(x_train, y_train)\n",
    "print(\"Done!\")\n",
    "\n",
    "predicted = linearModel.predict(x_test)\n",
    "\n",
    "df_samples[\"linearSVC/TFIDF\"] = predicted"
   ]
  },
  {
   "cell_type": "markdown",
   "metadata": {},
   "source": [
    "## Analyze the results\n",
    "See the classifications for the examples below"
   ]
  },
  {
   "cell_type": "code",
   "execution_count": 24,
   "metadata": {
    "scrolled": true
   },
   "outputs": [
    {
     "data": {
      "text/html": [
       "<div>\n",
       "<style scoped>\n",
       "    .dataframe tbody tr th:only-of-type {\n",
       "        vertical-align: middle;\n",
       "    }\n",
       "\n",
       "    .dataframe tbody tr th {\n",
       "        vertical-align: top;\n",
       "    }\n",
       "\n",
       "    .dataframe thead th {\n",
       "        text-align: right;\n",
       "    }\n",
       "</style>\n",
       "<table border=\"1\" class=\"dataframe\">\n",
       "  <thead>\n",
       "    <tr style=\"text-align: right;\">\n",
       "      <th></th>\n",
       "      <th>length</th>\n",
       "      <th>body</th>\n",
       "      <th>isAdHominem</th>\n",
       "      <th>NN/TFIDF</th>\n",
       "      <th>NuSVC-linear/TFIDF</th>\n",
       "      <th>NuSVC-poly/TFIDF</th>\n",
       "      <th>NuSVC-sigmoid/TFIDF</th>\n",
       "      <th>NuSVC-rbf/TFIDF</th>\n",
       "      <th>SVC-poly/TFIDF</th>\n",
       "      <th>SVC-sigmoid/TFIDF</th>\n",
       "      <th>SVC-rbf/TFIDF</th>\n",
       "      <th>SVC-linear/TFIDF</th>\n",
       "      <th>linearSVC/TFIDF</th>\n",
       "    </tr>\n",
       "  </thead>\n",
       "  <tbody>\n",
       "    <tr>\n",
       "      <th>0</th>\n",
       "      <td>301</td>\n",
       "      <td>yeah people like non white...</td>\n",
       "      <td>1</td>\n",
       "      <td>1</td>\n",
       "      <td>0</td>\n",
       "      <td>1</td>\n",
       "      <td>1</td>\n",
       "      <td>0</td>\n",
       "      <td>0</td>\n",
       "      <td>0</td>\n",
       "      <td>0</td>\n",
       "      <td>0</td>\n",
       "      <td>0</td>\n",
       "    </tr>\n",
       "    <tr>\n",
       "      <th>1</th>\n",
       "      <td>341</td>\n",
       "      <td>in more recent years the c...</td>\n",
       "      <td>0</td>\n",
       "      <td>1</td>\n",
       "      <td>0</td>\n",
       "      <td>0</td>\n",
       "      <td>1</td>\n",
       "      <td>0</td>\n",
       "      <td>0</td>\n",
       "      <td>0</td>\n",
       "      <td>0</td>\n",
       "      <td>0</td>\n",
       "      <td>0</td>\n",
       "    </tr>\n",
       "    <tr>\n",
       "      <th>2</th>\n",
       "      <td>132</td>\n",
       "      <td>oh look someone who can re...</td>\n",
       "      <td>1</td>\n",
       "      <td>1</td>\n",
       "      <td>0</td>\n",
       "      <td>1</td>\n",
       "      <td>1</td>\n",
       "      <td>0</td>\n",
       "      <td>0</td>\n",
       "      <td>0</td>\n",
       "      <td>0</td>\n",
       "      <td>0</td>\n",
       "      <td>0</td>\n",
       "    </tr>\n",
       "    <tr>\n",
       "      <th>3</th>\n",
       "      <td>120</td>\n",
       "      <td>okay since you re discussi...</td>\n",
       "      <td>0</td>\n",
       "      <td>1</td>\n",
       "      <td>0</td>\n",
       "      <td>1</td>\n",
       "      <td>1</td>\n",
       "      <td>0</td>\n",
       "      <td>0</td>\n",
       "      <td>0</td>\n",
       "      <td>0</td>\n",
       "      <td>0</td>\n",
       "      <td>0</td>\n",
       "    </tr>\n",
       "    <tr>\n",
       "      <th>4</th>\n",
       "      <td>13</td>\n",
       "      <td>honestly just shut the hel...</td>\n",
       "      <td>1</td>\n",
       "      <td>1</td>\n",
       "      <td>0</td>\n",
       "      <td>1</td>\n",
       "      <td>1</td>\n",
       "      <td>0</td>\n",
       "      <td>0</td>\n",
       "      <td>0</td>\n",
       "      <td>0</td>\n",
       "      <td>0</td>\n",
       "      <td>0</td>\n",
       "    </tr>\n",
       "    <tr>\n",
       "      <th>5</th>\n",
       "      <td>15</td>\n",
       "      <td>what you said was so he wo...</td>\n",
       "      <td>0</td>\n",
       "      <td>1</td>\n",
       "      <td>0</td>\n",
       "      <td>0</td>\n",
       "      <td>1</td>\n",
       "      <td>0</td>\n",
       "      <td>0</td>\n",
       "      <td>0</td>\n",
       "      <td>0</td>\n",
       "      <td>0</td>\n",
       "      <td>0</td>\n",
       "    </tr>\n",
       "  </tbody>\n",
       "</table>\n",
       "</div>"
      ],
      "text/plain": [
       "   length                           body  isAdHominem  NN/TFIDF  \\\n",
       "0     301  yeah people like non white...            1         1   \n",
       "1     341  in more recent years the c...            0         1   \n",
       "2     132  oh look someone who can re...            1         1   \n",
       "3     120  okay since you re discussi...            0         1   \n",
       "4      13  honestly just shut the hel...            1         1   \n",
       "5      15  what you said was so he wo...            0         1   \n",
       "\n",
       "   NuSVC-linear/TFIDF  NuSVC-poly/TFIDF  NuSVC-sigmoid/TFIDF  NuSVC-rbf/TFIDF  \\\n",
       "0                   0                 1                    1                0   \n",
       "1                   0                 0                    1                0   \n",
       "2                   0                 1                    1                0   \n",
       "3                   0                 1                    1                0   \n",
       "4                   0                 1                    1                0   \n",
       "5                   0                 0                    1                0   \n",
       "\n",
       "   SVC-poly/TFIDF  SVC-sigmoid/TFIDF  SVC-rbf/TFIDF  SVC-linear/TFIDF  \\\n",
       "0               0                  0              0                 0   \n",
       "1               0                  0              0                 0   \n",
       "2               0                  0              0                 0   \n",
       "3               0                  0              0                 0   \n",
       "4               0                  0              0                 0   \n",
       "5               0                  0              0                 0   \n",
       "\n",
       "   linearSVC/TFIDF  \n",
       "0                0  \n",
       "1                0  \n",
       "2                0  \n",
       "3                0  \n",
       "4                0  \n",
       "5                0  "
      ]
     },
     "execution_count": 24,
     "metadata": {},
     "output_type": "execute_result"
    }
   ],
   "source": [
    "pd.set_option('display.max_colwidth', 30)\n",
    "df_samples"
   ]
  },
  {
   "cell_type": "markdown",
   "metadata": {},
   "source": [
    "## Mixed Neural Network/Word2Vec + POS tags + Doc2Vec"
   ]
  },
  {
   "cell_type": "code",
   "execution_count": 25,
   "metadata": {},
   "outputs": [],
   "source": [
    "# Can't run locally due to memory limitations."
   ]
  },
  {
   "cell_type": "markdown",
   "metadata": {},
   "source": [
    "## Using Doc2Vec..."
   ]
  },
  {
   "cell_type": "code",
   "execution_count": 27,
   "metadata": {},
   "outputs": [],
   "source": [
    "from gensim.models.doc2vec import Doc2Vec\n",
    "doc2vec_model = Doc2Vec.load(\"reddit-doc2vec.model\")"
   ]
  },
  {
   "cell_type": "code",
   "execution_count": 48,
   "metadata": {},
   "outputs": [],
   "source": [
    "%%time\n",
    "\n",
    "train_data = train_data.reset_index(drop=True)\n",
    "\n",
    "x_train_vec = list(train_data[\"body\"].apply(lambda x:simple_preprocess(str(x), deacc=True))) # Tokenize bodies\n",
    "x_train_vec = [doc2vec_model.infer_vector(i) for i in x_train_vec]                           # Infer vectors\n",
    "y_train = list(train_data[\"isAdHominem\"])                                                    # Same as before, here for reference\n",
    "\n",
    "x_test_vec = list(df_samples[\"body\"].apply(lambda x:simple_preprocess(str(x), deacc=True))) # Tokenize bodies\n",
    "x_test_vec = [doc2vec_model.infer_vector(i) for i in x_test_vec]                            # Infer vectors\n",
    "y_test = list(df_samples[\"isAdHominem\"])                                                    # Same as before, here for reference"
   ]
  },
  {
   "cell_type": "markdown",
   "metadata": {},
   "source": [
    "## NuSVC/Doc2Vec\n",
    "The kernels to be used are:\n",
    "* `linear`\n",
    "* `poly`\n",
    "* `sigmoid`\n",
    "* `rbf`\n",
    "\n",
    "The kernel `rbf` was used in the [SVMs.ipynb](./SVMs.ipynb). Here for comparison."
   ]
  },
  {
   "cell_type": "code",
   "execution_count": 49,
   "metadata": {
    "scrolled": false
   },
   "outputs": [
    {
     "name": "stdout",
     "output_type": "stream",
     "text": [
      "Fitting NuSVC model...\n",
      "Done!\n",
      "CPU times: user 3min 5s, sys: 264 ms, total: 3min 5s\n",
      "Wall time: 3min 6s\n"
     ]
    }
   ],
   "source": [
    "%%time\n",
    "\n",
    "print(\"Fitting NuSVC model...\")\n",
    "nuModel = NuSVC(nu=0.05, kernel='linear').fit(x_train, y_train)\n",
    "print(\"Done!\")\n",
    "\n",
    "predicted = nuModel.predict(x_test)\n",
    "df_samples[\"NuSVC-linear/Doc2Vec\"] = predicted"
   ]
  },
  {
   "cell_type": "code",
   "execution_count": 50,
   "metadata": {
    "scrolled": false
   },
   "outputs": [
    {
     "name": "stdout",
     "output_type": "stream",
     "text": [
      "Fitting NuSVC model...\n",
      "Done!\n",
      "CPU times: user 10.5 s, sys: 7.9 ms, total: 10.5 s\n",
      "Wall time: 10.5 s\n"
     ]
    }
   ],
   "source": [
    "%%time\n",
    "\n",
    "print(\"Fitting NuSVC model...\")\n",
    "nuModel = NuSVC(nu=0.05, kernel='poly').fit(x_train, y_train)\n",
    "print(\"Done!\")\n",
    "\n",
    "predicted = nuModel.predict(x_test)\n",
    "\n",
    "df_samples[\"NuSVC-poly/Doc2Vec\"] = predicted"
   ]
  },
  {
   "cell_type": "code",
   "execution_count": 51,
   "metadata": {},
   "outputs": [
    {
     "name": "stdout",
     "output_type": "stream",
     "text": [
      "Fitting NuSVC model...\n",
      "Done!\n",
      "CPU times: user 12.4 s, sys: 39 µs, total: 12.4 s\n",
      "Wall time: 12.4 s\n"
     ]
    }
   ],
   "source": [
    "%%time\n",
    "\n",
    "print(\"Fitting NuSVC model...\")\n",
    "nuModel = NuSVC(nu=0.05, kernel='sigmoid').fit(x_train, y_train)\n",
    "print(\"Done!\")\n",
    "\n",
    "predicted = nuModel.predict(x_test)\n",
    "\n",
    "df_samples[\"NuSVC-sigmoid/Doc2Vec\"] = predicted"
   ]
  },
  {
   "cell_type": "code",
   "execution_count": 52,
   "metadata": {
    "scrolled": false
   },
   "outputs": [
    {
     "name": "stdout",
     "output_type": "stream",
     "text": [
      "Fitting NuSVC model...\n",
      "Done!\n",
      "CPU times: user 14 s, sys: 3.44 ms, total: 14 s\n",
      "Wall time: 14.1 s\n"
     ]
    }
   ],
   "source": [
    "%%time\n",
    "\n",
    "print(\"Fitting NuSVC model...\")\n",
    "nuModel = NuSVC(nu=0.05, kernel='rbf').fit(x_train, y_train)\n",
    "print(\"Done!\")\n",
    "\n",
    "predicted = nuModel.predict(x_test)\n",
    "\n",
    "df_samples[\"NuSVC-rbf/Doc2Vec\"] = predicted"
   ]
  },
  {
   "cell_type": "markdown",
   "metadata": {},
   "source": [
    "## SVC/Doc2Vec\n",
    "Theoretically equivalent to other methods (LinearSVC and NuSVC), but uses different implementations.\n",
    "* `LinearSVC` is equivalent to `SVC(kernel = 'linear')`\n",
    "* From documentation: *`SVC` and `NuSVC` are similar methods, but accept slightly different sets of parameters and have different mathematical formulations (see section [Mathematical formulation](https://scikit-learn.org/stable/modules/svm.html#svm-mathematical-formulation))\n",
    "\n",
    "The kernels to be used are:\n",
    "* `linear`\n",
    "* `poly`\n",
    "* `sigmoid`\n",
    "* `rbf`"
   ]
  },
  {
   "cell_type": "code",
   "execution_count": 53,
   "metadata": {
    "scrolled": true
   },
   "outputs": [
    {
     "name": "stdout",
     "output_type": "stream",
     "text": [
      "Fitting SVC model...\n",
      "Done!\n",
      "CPU times: user 38.9 s, sys: 76 ms, total: 39 s\n",
      "Wall time: 39.1 s\n"
     ]
    }
   ],
   "source": [
    "%%time\n",
    "\n",
    "print(\"Fitting SVC model...\")\n",
    "svcModel = SVC(kernel='poly').fit(x_train, y_train)\n",
    "print(\"Done!\")\n",
    "\n",
    "predicted = svcModel.predict(x_test)\n",
    "\n",
    "df_samples[\"SVC-poly/Doc2Vec\"] = predicted"
   ]
  },
  {
   "cell_type": "code",
   "execution_count": 54,
   "metadata": {
    "scrolled": true
   },
   "outputs": [
    {
     "name": "stdout",
     "output_type": "stream",
     "text": [
      "Fitting SVC model...\n",
      "Done!\n",
      "CPU times: user 39.9 s, sys: 100 ms, total: 40 s\n",
      "Wall time: 40 s\n"
     ]
    }
   ],
   "source": [
    "%%time\n",
    "\n",
    "print(\"Fitting SVC model...\")\n",
    "svcModel = SVC(kernel='sigmoid').fit(x_train, y_train)\n",
    "print(\"Done!\")\n",
    "\n",
    "predicted = svcModel.predict(x_test)\n",
    "\n",
    "df_samples[\"SVC-sigmoid/Doc2Vec\"] = predicted"
   ]
  },
  {
   "cell_type": "code",
   "execution_count": 55,
   "metadata": {
    "scrolled": true
   },
   "outputs": [
    {
     "name": "stdout",
     "output_type": "stream",
     "text": [
      "Fitting SVC model...\n",
      "Done!\n",
      "CPU times: user 38.6 s, sys: 116 ms, total: 38.7 s\n",
      "Wall time: 38.7 s\n"
     ]
    }
   ],
   "source": [
    "%%time\n",
    "\n",
    "print(\"Fitting SVC model...\")\n",
    "svcModel = SVC(kernel='rbf').fit(x_train, y_train)\n",
    "print(\"Done!\")\n",
    "\n",
    "predicted = svcModel.predict(x_test)\n",
    "\n",
    "df_samples[\"SVC-rbf/Doc2Vec\"] = predicted"
   ]
  },
  {
   "cell_type": "code",
   "execution_count": 56,
   "metadata": {
    "scrolled": false
   },
   "outputs": [
    {
     "name": "stdout",
     "output_type": "stream",
     "text": [
      "Fitting SVC model...\n",
      "Done!\n",
      "CPU times: user 55.5 s, sys: 96.2 ms, total: 55.6 s\n",
      "Wall time: 55.6 s\n"
     ]
    }
   ],
   "source": [
    "%%time\n",
    "\n",
    "print(\"Fitting SVC model...\")\n",
    "svcModel = SVC(kernel='linear').fit(x_train, y_train)\n",
    "print(\"Done!\")\n",
    "\n",
    "predicted = svcModel.predict(x_test)\n",
    "\n",
    "df_samples[\"SVC-linear/Doc2Vec\"] = predicted"
   ]
  },
  {
   "cell_type": "markdown",
   "metadata": {},
   "source": [
    "## LinearSVC/Doc2Vec\n",
    "As seen before, it is equivalent to `SVC(kernel='linear'`, with implementation differences."
   ]
  },
  {
   "cell_type": "code",
   "execution_count": 57,
   "metadata": {},
   "outputs": [
    {
     "name": "stdout",
     "output_type": "stream",
     "text": [
      "Fitting linear model...\n",
      "Done!\n",
      "CPU times: user 272 ms, sys: 0 ns, total: 272 ms\n",
      "Wall time: 273 ms\n"
     ]
    }
   ],
   "source": [
    "%%time\n",
    "\n",
    "print(\"Fitting linear model...\")\n",
    "linearModel = LinearSVC().fit(x_train, y_train)\n",
    "print(\"Done!\")\n",
    "\n",
    "predicted = linearModel.predict(x_test)\n",
    "\n",
    "df_samples[\"linearSVC/Doc2Vec\"] = predicted"
   ]
  },
  {
   "cell_type": "markdown",
   "metadata": {},
   "source": [
    "## Once again, let's look at the results\n",
    "See the classifications for the examples below"
   ]
  },
  {
   "cell_type": "code",
   "execution_count": 58,
   "metadata": {
    "scrolled": true
   },
   "outputs": [
    {
     "data": {
      "text/html": [
       "<div>\n",
       "<style scoped>\n",
       "    .dataframe tbody tr th:only-of-type {\n",
       "        vertical-align: middle;\n",
       "    }\n",
       "\n",
       "    .dataframe tbody tr th {\n",
       "        vertical-align: top;\n",
       "    }\n",
       "\n",
       "    .dataframe thead th {\n",
       "        text-align: right;\n",
       "    }\n",
       "</style>\n",
       "<table border=\"1\" class=\"dataframe\">\n",
       "  <thead>\n",
       "    <tr style=\"text-align: right;\">\n",
       "      <th></th>\n",
       "      <th>length</th>\n",
       "      <th>body</th>\n",
       "      <th>isAdHominem</th>\n",
       "      <th>NN/TFIDF</th>\n",
       "      <th>NuSVC-linear/TFIDF</th>\n",
       "      <th>NuSVC-poly/TFIDF</th>\n",
       "      <th>NuSVC-sigmoid/TFIDF</th>\n",
       "      <th>NuSVC-rbf/TFIDF</th>\n",
       "      <th>SVC-poly/TFIDF</th>\n",
       "      <th>SVC-sigmoid/TFIDF</th>\n",
       "      <th>...</th>\n",
       "      <th>linearSVC/TFIDF</th>\n",
       "      <th>NuSVC-linear/Doc2Vec</th>\n",
       "      <th>NuSVC-poly/Doc2Vec</th>\n",
       "      <th>NuSVC-sigmoid/Doc2Vec</th>\n",
       "      <th>NuSVC-rbf/Doc2Vec</th>\n",
       "      <th>SVC-poly/Doc2Vec</th>\n",
       "      <th>SVC-sigmoid/Doc2Vec</th>\n",
       "      <th>SVC-rbf/Doc2Vec</th>\n",
       "      <th>SVC-linear/Doc2Vec</th>\n",
       "      <th>linearSVC/Doc2Vec</th>\n",
       "    </tr>\n",
       "  </thead>\n",
       "  <tbody>\n",
       "    <tr>\n",
       "      <th>0</th>\n",
       "      <td>301</td>\n",
       "      <td>yeah people like non white...</td>\n",
       "      <td>1</td>\n",
       "      <td>1</td>\n",
       "      <td>0</td>\n",
       "      <td>1</td>\n",
       "      <td>1</td>\n",
       "      <td>0</td>\n",
       "      <td>0</td>\n",
       "      <td>0</td>\n",
       "      <td>...</td>\n",
       "      <td>0</td>\n",
       "      <td>0</td>\n",
       "      <td>1</td>\n",
       "      <td>1</td>\n",
       "      <td>0</td>\n",
       "      <td>0</td>\n",
       "      <td>0</td>\n",
       "      <td>0</td>\n",
       "      <td>0</td>\n",
       "      <td>0</td>\n",
       "    </tr>\n",
       "    <tr>\n",
       "      <th>1</th>\n",
       "      <td>341</td>\n",
       "      <td>in more recent years the c...</td>\n",
       "      <td>0</td>\n",
       "      <td>1</td>\n",
       "      <td>0</td>\n",
       "      <td>0</td>\n",
       "      <td>1</td>\n",
       "      <td>0</td>\n",
       "      <td>0</td>\n",
       "      <td>0</td>\n",
       "      <td>...</td>\n",
       "      <td>0</td>\n",
       "      <td>0</td>\n",
       "      <td>0</td>\n",
       "      <td>1</td>\n",
       "      <td>0</td>\n",
       "      <td>0</td>\n",
       "      <td>0</td>\n",
       "      <td>0</td>\n",
       "      <td>0</td>\n",
       "      <td>0</td>\n",
       "    </tr>\n",
       "    <tr>\n",
       "      <th>2</th>\n",
       "      <td>132</td>\n",
       "      <td>oh look someone who can re...</td>\n",
       "      <td>1</td>\n",
       "      <td>1</td>\n",
       "      <td>0</td>\n",
       "      <td>1</td>\n",
       "      <td>1</td>\n",
       "      <td>0</td>\n",
       "      <td>0</td>\n",
       "      <td>0</td>\n",
       "      <td>...</td>\n",
       "      <td>0</td>\n",
       "      <td>0</td>\n",
       "      <td>1</td>\n",
       "      <td>1</td>\n",
       "      <td>0</td>\n",
       "      <td>0</td>\n",
       "      <td>0</td>\n",
       "      <td>0</td>\n",
       "      <td>0</td>\n",
       "      <td>0</td>\n",
       "    </tr>\n",
       "    <tr>\n",
       "      <th>3</th>\n",
       "      <td>120</td>\n",
       "      <td>okay since you re discussi...</td>\n",
       "      <td>0</td>\n",
       "      <td>1</td>\n",
       "      <td>0</td>\n",
       "      <td>1</td>\n",
       "      <td>1</td>\n",
       "      <td>0</td>\n",
       "      <td>0</td>\n",
       "      <td>0</td>\n",
       "      <td>...</td>\n",
       "      <td>0</td>\n",
       "      <td>0</td>\n",
       "      <td>1</td>\n",
       "      <td>1</td>\n",
       "      <td>0</td>\n",
       "      <td>0</td>\n",
       "      <td>0</td>\n",
       "      <td>0</td>\n",
       "      <td>0</td>\n",
       "      <td>0</td>\n",
       "    </tr>\n",
       "    <tr>\n",
       "      <th>4</th>\n",
       "      <td>13</td>\n",
       "      <td>honestly just shut the hel...</td>\n",
       "      <td>1</td>\n",
       "      <td>1</td>\n",
       "      <td>0</td>\n",
       "      <td>1</td>\n",
       "      <td>1</td>\n",
       "      <td>0</td>\n",
       "      <td>0</td>\n",
       "      <td>0</td>\n",
       "      <td>...</td>\n",
       "      <td>0</td>\n",
       "      <td>0</td>\n",
       "      <td>1</td>\n",
       "      <td>1</td>\n",
       "      <td>0</td>\n",
       "      <td>0</td>\n",
       "      <td>0</td>\n",
       "      <td>0</td>\n",
       "      <td>0</td>\n",
       "      <td>0</td>\n",
       "    </tr>\n",
       "    <tr>\n",
       "      <th>5</th>\n",
       "      <td>15</td>\n",
       "      <td>what you said was so he wo...</td>\n",
       "      <td>0</td>\n",
       "      <td>1</td>\n",
       "      <td>0</td>\n",
       "      <td>0</td>\n",
       "      <td>1</td>\n",
       "      <td>0</td>\n",
       "      <td>0</td>\n",
       "      <td>0</td>\n",
       "      <td>...</td>\n",
       "      <td>0</td>\n",
       "      <td>0</td>\n",
       "      <td>0</td>\n",
       "      <td>1</td>\n",
       "      <td>0</td>\n",
       "      <td>0</td>\n",
       "      <td>0</td>\n",
       "      <td>0</td>\n",
       "      <td>0</td>\n",
       "      <td>0</td>\n",
       "    </tr>\n",
       "  </tbody>\n",
       "</table>\n",
       "<p>6 rows × 22 columns</p>\n",
       "</div>"
      ],
      "text/plain": [
       "   length                           body  isAdHominem  NN/TFIDF  \\\n",
       "0     301  yeah people like non white...            1         1   \n",
       "1     341  in more recent years the c...            0         1   \n",
       "2     132  oh look someone who can re...            1         1   \n",
       "3     120  okay since you re discussi...            0         1   \n",
       "4      13  honestly just shut the hel...            1         1   \n",
       "5      15  what you said was so he wo...            0         1   \n",
       "\n",
       "   NuSVC-linear/TFIDF  NuSVC-poly/TFIDF  NuSVC-sigmoid/TFIDF  NuSVC-rbf/TFIDF  \\\n",
       "0                   0                 1                    1                0   \n",
       "1                   0                 0                    1                0   \n",
       "2                   0                 1                    1                0   \n",
       "3                   0                 1                    1                0   \n",
       "4                   0                 1                    1                0   \n",
       "5                   0                 0                    1                0   \n",
       "\n",
       "   SVC-poly/TFIDF  SVC-sigmoid/TFIDF        ...          linearSVC/TFIDF  \\\n",
       "0               0                  0        ...                        0   \n",
       "1               0                  0        ...                        0   \n",
       "2               0                  0        ...                        0   \n",
       "3               0                  0        ...                        0   \n",
       "4               0                  0        ...                        0   \n",
       "5               0                  0        ...                        0   \n",
       "\n",
       "   NuSVC-linear/Doc2Vec  NuSVC-poly/Doc2Vec  NuSVC-sigmoid/Doc2Vec  \\\n",
       "0                     0                   1                      1   \n",
       "1                     0                   0                      1   \n",
       "2                     0                   1                      1   \n",
       "3                     0                   1                      1   \n",
       "4                     0                   1                      1   \n",
       "5                     0                   0                      1   \n",
       "\n",
       "   NuSVC-rbf/Doc2Vec  SVC-poly/Doc2Vec  SVC-sigmoid/Doc2Vec  SVC-rbf/Doc2Vec  \\\n",
       "0                  0                 0                    0                0   \n",
       "1                  0                 0                    0                0   \n",
       "2                  0                 0                    0                0   \n",
       "3                  0                 0                    0                0   \n",
       "4                  0                 0                    0                0   \n",
       "5                  0                 0                    0                0   \n",
       "\n",
       "   SVC-linear/Doc2Vec  linearSVC/Doc2Vec  \n",
       "0                   0                  0  \n",
       "1                   0                  0  \n",
       "2                   0                  0  \n",
       "3                   0                  0  \n",
       "4                   0                  0  \n",
       "5                   0                  0  \n",
       "\n",
       "[6 rows x 22 columns]"
      ]
     },
     "execution_count": 58,
     "metadata": {},
     "output_type": "execute_result"
    }
   ],
   "source": [
    "pd.set_option('display.max_colwidth', 30)\n",
    "df_samples"
   ]
  },
  {
   "cell_type": "code",
   "execution_count": null,
   "metadata": {},
   "outputs": [],
   "source": []
  }
 ],
 "metadata": {
  "kernelspec": {
   "display_name": "Python 3",
   "language": "python",
   "name": "python3"
  },
  "language_info": {
   "codemirror_mode": {
    "name": "ipython",
    "version": 3
   },
   "file_extension": ".py",
   "mimetype": "text/x-python",
   "name": "python",
   "nbconvert_exporter": "python",
   "pygments_lexer": "ipython3",
   "version": "3.6.5"
  }
 },
 "nbformat": 4,
 "nbformat_minor": 2
}
