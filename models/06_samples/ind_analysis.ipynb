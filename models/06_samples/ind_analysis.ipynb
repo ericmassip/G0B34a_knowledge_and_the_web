{
 "cells": [
  {
   "cell_type": "markdown",
   "metadata": {},
   "source": [
    "# Selecting the examples for analisys\n",
    "Long, medium and short text entries\n"
   ]
  },
  {
   "cell_type": "code",
   "execution_count": 1,
   "metadata": {},
   "outputs": [],
   "source": [
    "import numpy as np\n",
    "import pandas as pd\n",
    "import random\n",
    "from gensim.utils import simple_preprocess\n",
    "import matplotlib.pyplot as plt"
   ]
  },
  {
   "cell_type": "markdown",
   "metadata": {},
   "source": [
    "## Importing data"
   ]
  },
  {
   "cell_type": "code",
   "execution_count": 2,
   "metadata": {},
   "outputs": [
    {
     "name": "stdout",
     "output_type": "stream",
     "text": [
      "(29218, 2)\n"
     ]
    }
   ],
   "source": [
    "df = pd.read_csv(\"../../data/ad_hominem/ad_hominems_cleaned_Murilo.csv\", sep=\",\", index_col=0, header=0, names=[\"body\", \"isAdHominem\"])\n",
    "df = df[~df.isin([np.nan, np.inf, -np.inf, 'nan']).any(1)] ## Remove rows with NaN values\n",
    "print(df.shape)"
   ]
  },
  {
   "cell_type": "code",
   "execution_count": 3,
   "metadata": {},
   "outputs": [],
   "source": [
    "df[\"length\"] = df[\"body\"].apply(lambda x: len(simple_preprocess(x, deacc=True))) # Make row for length\n",
    "df = df.reset_index(drop=True)"
   ]
  },
  {
   "cell_type": "code",
   "execution_count": 4,
   "metadata": {},
   "outputs": [
    {
     "data": {
      "text/html": [
       "<div>\n",
       "<style scoped>\n",
       "    .dataframe tbody tr th:only-of-type {\n",
       "        vertical-align: middle;\n",
       "    }\n",
       "\n",
       "    .dataframe tbody tr th {\n",
       "        vertical-align: top;\n",
       "    }\n",
       "\n",
       "    .dataframe thead th {\n",
       "        text-align: right;\n",
       "    }\n",
       "</style>\n",
       "<table border=\"1\" class=\"dataframe\">\n",
       "  <thead>\n",
       "    <tr style=\"text-align: right;\">\n",
       "      <th></th>\n",
       "      <th>body</th>\n",
       "      <th>isAdHominem</th>\n",
       "      <th>length</th>\n",
       "    </tr>\n",
       "  </thead>\n",
       "  <tbody>\n",
       "    <tr>\n",
       "      <th>0</th>\n",
       "      <td>What makes corporations different in this case? They have interests too.</td>\n",
       "      <td>0</td>\n",
       "      <td>11</td>\n",
       "    </tr>\n",
       "    <tr>\n",
       "      <th>1</th>\n",
       "      <td>I'm sorry if your smugness gets in the way. Like I said elsewhere in this thread. Somolia is not close to anything I advocate for so why on earth would I move there? Any time the Somolia \"argument\" is brought up, I instantly know I'm dealing with someone who refuses to learn the difference between a voluntary society and a third world country ravaged by warlords and foreign policies of other countries. If you want a thoughtful response to an argument, make sure you're not comparing Antarctica to the Bahamas. Otherwise, take your circlejerk, \"arguments\" elsewhere. You have contributed absolutely nothing to this thread but ad hominem Attacks and the typical liberal/conservative talking points and almost everyone in here knows it.</td>\n",
       "      <td>1</td>\n",
       "      <td>114</td>\n",
       "    </tr>\n",
       "    <tr>\n",
       "      <th>2</th>\n",
       "      <td>Basically to believe a patriarchy exists, you must believe that men are maintaining a system of oppression against women, despite knowing the harm it does to both women and men.EG - Wanting to maintain a system that, among other things, condones severe anti-male bias in all facets of the legal system, simply isn't rational. Thus men, being the ones in power, want to oppress women so much they are willing to harm themselves to do it. It'd be like cutting off your own arm so you had something to club someone with.A long time ago one could say it was ignorance, but with how mainstream feminism thoughts are today this can no longer be true. So the actions of men to maintain the patriarchy must also be willful.How can a person believe this, and not hate men?</td>\n",
       "      <td>0</td>\n",
       "      <td>135</td>\n",
       "    </tr>\n",
       "    <tr>\n",
       "      <th>3</th>\n",
       "      <td>The punishment for heresy was being burned at the stake.</td>\n",
       "      <td>0</td>\n",
       "      <td>10</td>\n",
       "    </tr>\n",
       "    <tr>\n",
       "      <th>4</th>\n",
       "      <td>No it doesn't. Sex is defined by DNA. DNA cannot be changed from male to female. A sex change is putting lipstick on a pig. It may look different but it's still a pig</td>\n",
       "      <td>0</td>\n",
       "      <td>31</td>\n",
       "    </tr>\n",
       "  </tbody>\n",
       "</table>\n",
       "</div>"
      ],
      "text/plain": [
       "                                                                                                                                                                                                                                                                                                                                                                                                                                                                                                                                                                                                                                                                                                                                                                                          body  \\\n",
       "0  What makes corporations different in this case? They have interests too.                                                                                                                                                                                                                                                                                                                                                                                                                                                                                                                                                                                                                                                                                                                      \n",
       "1  I'm sorry if your smugness gets in the way. Like I said elsewhere in this thread. Somolia is not close to anything I advocate for so why on earth would I move there? Any time the Somolia \"argument\" is brought up, I instantly know I'm dealing with someone who refuses to learn the difference between a voluntary society and a third world country ravaged by warlords and foreign policies of other countries. If you want a thoughtful response to an argument, make sure you're not comparing Antarctica to the Bahamas. Otherwise, take your circlejerk, \"arguments\" elsewhere. You have contributed absolutely nothing to this thread but ad hominem Attacks and the typical liberal/conservative talking points and almost everyone in here knows it.                             \n",
       "2  Basically to believe a patriarchy exists, you must believe that men are maintaining a system of oppression against women, despite knowing the harm it does to both women and men.EG - Wanting to maintain a system that, among other things, condones severe anti-male bias in all facets of the legal system, simply isn't rational. Thus men, being the ones in power, want to oppress women so much they are willing to harm themselves to do it. It'd be like cutting off your own arm so you had something to club someone with.A long time ago one could say it was ignorance, but with how mainstream feminism thoughts are today this can no longer be true. So the actions of men to maintain the patriarchy must also be willful.How can a person believe this, and not hate men?   \n",
       "3  The punishment for heresy was being burned at the stake.                                                                                                                                                                                                                                                                                                                                                                                                                                                                                                                                                                                                                                                                                                                                      \n",
       "4  No it doesn't. Sex is defined by DNA. DNA cannot be changed from male to female. A sex change is putting lipstick on a pig. It may look different but it's still a pig                                                                                                                                                                                                                                                                                                                                                                                                                                                                                                                                                                                                                        \n",
       "\n",
       "   isAdHominem  length  \n",
       "0  0            11      \n",
       "1  1            114     \n",
       "2  0            135     \n",
       "3  0            10      \n",
       "4  0            31      "
      ]
     },
     "execution_count": 4,
     "metadata": {},
     "output_type": "execute_result"
    }
   ],
   "source": [
    "pd.set_option('display.max_colwidth', 0)\n",
    "df.head(n=5)"
   ]
  },
  {
   "cell_type": "code",
   "execution_count": 5,
   "metadata": {},
   "outputs": [
    {
     "name": "stdout",
     "output_type": "stream",
     "text": [
      "The indexes for the examples picked (in the original data frame) are 3206, 7888, 15733, 4361, 7166 and 23308.\n"
     ]
    }
   ],
   "source": [
    "ilong_true = df.loc[(df[\"length\"] > 300) & (df[\"length\"] < 400) & (df['isAdHominem'] == 1)].sample(n=1).index[0]\n",
    "ilong_false = df.loc[(df[\"length\"] > 300) & (df[\"length\"] < 400) & (df['isAdHominem'] == 0)].sample(n=1).index[0]\n",
    "imed_true = df.loc[(df[\"length\"] > 100) & (df[\"length\"] < 150) & (df['isAdHominem'] == 1)].sample(n=1).index[0]\n",
    "imed_false = df.loc[(df[\"length\"] > 100) & (df[\"length\"] < 150) & (df['isAdHominem'] == 0)].sample(n=1).index[0]\n",
    "ishort_true = df.loc[(df[\"length\"] > 10)  & (df[\"length\"] < 20)  & (df['isAdHominem'] == 1)].sample(n=1).index[0]\n",
    "ishort_false = df.loc[(df[\"length\"] > 10)  & (df[\"length\"] < 20)  & (df['isAdHominem'] == 0)].sample(n=1).index[0]\n",
    "print(\"The indexes for the examples picked (in the original data frame) are {}, {}, {}, {}, {} and {}.\".format(ilong_true, ilong_false, imed_true, imed_false, ishort_true, ishort_false))"
   ]
  },
  {
   "cell_type": "code",
   "execution_count": 6,
   "metadata": {},
   "outputs": [],
   "source": [
    "indexes = [ilong_true, ilong_false, imed_true, imed_false, ishort_true, ishort_false]\n",
    "df_samples = df.loc[indexes,:]"
   ]
  },
  {
   "cell_type": "markdown",
   "metadata": {},
   "source": [
    "## Filtering the dataset"
   ]
  },
  {
   "cell_type": "code",
   "execution_count": 7,
   "metadata": {},
   "outputs": [
    {
     "data": {
      "text/html": [
       "<div>\n",
       "<style scoped>\n",
       "    .dataframe tbody tr th:only-of-type {\n",
       "        vertical-align: middle;\n",
       "    }\n",
       "\n",
       "    .dataframe tbody tr th {\n",
       "        vertical-align: top;\n",
       "    }\n",
       "\n",
       "    .dataframe thead th {\n",
       "        text-align: right;\n",
       "    }\n",
       "</style>\n",
       "<table border=\"1\" class=\"dataframe\">\n",
       "  <thead>\n",
       "    <tr style=\"text-align: right;\">\n",
       "      <th></th>\n",
       "      <th>length</th>\n",
       "      <th>body</th>\n",
       "      <th>isAdHominem</th>\n",
       "    </tr>\n",
       "  </thead>\n",
       "  <tbody>\n",
       "    <tr>\n",
       "      <th>0</th>\n",
       "      <td>343</td>\n",
       "      <td>alright here the meat of my aggressiveness you show great lack of empathy for those who didn have the opportunities that you did while you were busy with college some of the people you don want making higher wage were already busy in the work force why does their time working and years of experience count as less work than your school work did that tight budget allow you to purchase home and vehicle feed kid pay all your bills and tuition costs or did you have outside help as well it varies by state where live the minimum wage is hour and again wages should keep up with inflation cost of living and worker productivity americans have the longest working hours of all the industrialized nations with the least amount of vacation days per year also the us sits at th in median individual to sum this up you re basically arguing to keep minimum wages low which keeps median wages from going as well you re advocating against future raise for yourself then you re short sighted individual who doesn understand economics and slightly selfish ass to boot ll explain let make it simple if you re an entrepreneur what do you want the most profits how do you get those profits if people use your service or consume your product or use your product how will they do that buy buying it that means you and me will spend money to buy things what do the entrepreneur do with those profits he ll take some home and the rest he ll re invest in his business to make it grow make it grow how if you re manufacturer or producer you will increase manufacturing or production capacity this will mean buying machines employing more people using up more raw materials for the process of production and manufacturing giving the people at the bottom more power to support their lives is good for everyone including you and its why you should not only care about your wages but others as well</td>\n",
       "      <td>1</td>\n",
       "    </tr>\n",
       "    <tr>\n",
       "      <th>1</th>\n",
       "      <td>358</td>\n",
       "      <td>don think donald trump was bragging about getting away with sexual assault in the access hollywood tapes first of all yes of course it is sexual assault to grab woman genitalia without their consent but it is not sexual assault if it consensual and that what donald trump is bragging about in the tape for reference here the transcript of the relevant portion trump yeah that her with the gold better use some tic tacs just in case start kissing her you know automatically attracted to beautiful just start kissing them it like magnet just kiss don even wait and when you re star they let you do it you can do anything bush whatever you want trump grab them by the you can do anything ve bolded the phrase they let you do it because that reference to consent with they referring to the woman on the receiving end of his actions trump is not bragging about his wealth and fame allowing him to get away with groping women without their consent which again absolutely would be sexual assault he is instead bragging that his wealth and his fame make him so sexually attractive to women that they consent to being groped by him and that why he and his defenders are so insistent on it being locker room talk because while bragging about sexual assault is not normal in locker rooms outlandish claims about one sexual attractiveness and prowess absolutely are and just to be clear not defending trump here think that trump did not brag about sexual assault in the tapes but not saying that if he did what he said he did those women actually did consent in fact given the stories from the women who have come forward so far think it likely that they did not and think the takeaway of my view trump believes he was bragging about consensual sexual activity is that trump doesn truly understand what consent is and that might actually be even worse but it worse in way that underlines just how deeply rooted misogyny is and that can be dismissed as trump sociopath and an aberration</td>\n",
       "      <td>0</td>\n",
       "    </tr>\n",
       "    <tr>\n",
       "      <th>2</th>\n",
       "      <td>124</td>\n",
       "      <td>except the unquestionably well recorded long history handed down generation to generation that any sociologist worth their salt would argue is absolutely real evidence that you can find records of an atrocity buried in the dust of ruined empire official whitewashed record is hardly leg to stand on and just for the record using lack of evidence as evidence when jewish people have holiday literally thousands of years old proof to the contrary seems particularly doltish even for reddit might remind you that many scholars believe jesus last supper was passover no matter lets forget egypt and instead use the whole rest of jewish history from the end of the roman empire through the dark ages crusades until today my point still stands satisfied</td>\n",
       "      <td>1</td>\n",
       "    </tr>\n",
       "    <tr>\n",
       "      <th>3</th>\n",
       "      <td>116</td>\n",
       "      <td>yeah uh thats not understanding pro choice the point is that the women can how to regard the fetus do you think that the women who exercises her choice by carrying the child to term regards it as parasite of course not it the child she psyched to have however what the pro choice individual believes is that women_ gets to decide how to regard the fetus because it is her body_ and she doen have to set aside her right to determine how to regard things that take up residence inside her for any reason of course there are other reasons people are pro choice but this hardly shift from the mainstream perspective on choice</td>\n",
       "      <td>0</td>\n",
       "    </tr>\n",
       "    <tr>\n",
       "      <th>4</th>\n",
       "      <td>17</td>\n",
       "      <td>your inability to understand clear sentences is not failing on my part also it spelled you re</td>\n",
       "      <td>1</td>\n",
       "    </tr>\n",
       "    <tr>\n",
       "      <th>5</th>\n",
       "      <td>13</td>\n",
       "      <td>it is more effective to report it than downvote it speaking of which</td>\n",
       "      <td>0</td>\n",
       "    </tr>\n",
       "  </tbody>\n",
       "</table>\n",
       "</div>"
      ],
      "text/plain": [
       "   length  \\\n",
       "0  343      \n",
       "1  358      \n",
       "2  124      \n",
       "3  116      \n",
       "4  17       \n",
       "5  13       \n",
       "\n",
       "                                                                                                                                                                                                                                                                                                                                                                                                                                                                                                                                                                                                                                                                                                                                                                                                                                                                                                                                                                                                                                                                                                                                                                                                                                                                                                                                                                                                                                                                                                                                                                                                                                                                                                                                                                                                                                                                                                                                                                                                                                                    body  \\\n",
       "0  alright here the meat of my aggressiveness you show great lack of empathy for those who didn have the opportunities that you did while you were busy with college some of the people you don want making higher wage were already busy in the work force why does their time working and years of experience count as less work than your school work did that tight budget allow you to purchase home and vehicle feed kid pay all your bills and tuition costs or did you have outside help as well it varies by state where live the minimum wage is hour and again wages should keep up with inflation cost of living and worker productivity americans have the longest working hours of all the industrialized nations with the least amount of vacation days per year also the us sits at th in median individual to sum this up you re basically arguing to keep minimum wages low which keeps median wages from going as well you re advocating against future raise for yourself then you re short sighted individual who doesn understand economics and slightly selfish ass to boot ll explain let make it simple if you re an entrepreneur what do you want the most profits how do you get those profits if people use your service or consume your product or use your product how will they do that buy buying it that means you and me will spend money to buy things what do the entrepreneur do with those profits he ll take some home and the rest he ll re invest in his business to make it grow make it grow how if you re manufacturer or producer you will increase manufacturing or production capacity this will mean buying machines employing more people using up more raw materials for the process of production and manufacturing giving the people at the bottom more power to support their lives is good for everyone including you and its why you should not only care about your wages but others as well                                                                                                       \n",
       "1  don think donald trump was bragging about getting away with sexual assault in the access hollywood tapes first of all yes of course it is sexual assault to grab woman genitalia without their consent but it is not sexual assault if it consensual and that what donald trump is bragging about in the tape for reference here the transcript of the relevant portion trump yeah that her with the gold better use some tic tacs just in case start kissing her you know automatically attracted to beautiful just start kissing them it like magnet just kiss don even wait and when you re star they let you do it you can do anything bush whatever you want trump grab them by the you can do anything ve bolded the phrase they let you do it because that reference to consent with they referring to the woman on the receiving end of his actions trump is not bragging about his wealth and fame allowing him to get away with groping women without their consent which again absolutely would be sexual assault he is instead bragging that his wealth and his fame make him so sexually attractive to women that they consent to being groped by him and that why he and his defenders are so insistent on it being locker room talk because while bragging about sexual assault is not normal in locker rooms outlandish claims about one sexual attractiveness and prowess absolutely are and just to be clear not defending trump here think that trump did not brag about sexual assault in the tapes but not saying that if he did what he said he did those women actually did consent in fact given the stories from the women who have come forward so far think it likely that they did not and think the takeaway of my view trump believes he was bragging about consensual sexual activity is that trump doesn truly understand what consent is and that might actually be even worse but it worse in way that underlines just how deeply rooted misogyny is and that can be dismissed as trump sociopath and an aberration   \n",
       "2  except the unquestionably well recorded long history handed down generation to generation that any sociologist worth their salt would argue is absolutely real evidence that you can find records of an atrocity buried in the dust of ruined empire official whitewashed record is hardly leg to stand on and just for the record using lack of evidence as evidence when jewish people have holiday literally thousands of years old proof to the contrary seems particularly doltish even for reddit might remind you that many scholars believe jesus last supper was passover no matter lets forget egypt and instead use the whole rest of jewish history from the end of the roman empire through the dark ages crusades until today my point still stands satisfied                                                                                                                                                                                                                                                                                                                                                                                                                                                                                                                                                                                                                                                                                                                                                                                                                                                                                                                                                                                                                                                                                                                                                                                                                                                                             \n",
       "3  yeah uh thats not understanding pro choice the point is that the women can how to regard the fetus do you think that the women who exercises her choice by carrying the child to term regards it as parasite of course not it the child she psyched to have however what the pro choice individual believes is that women_ gets to decide how to regard the fetus because it is her body_ and she doen have to set aside her right to determine how to regard things that take up residence inside her for any reason of course there are other reasons people are pro choice but this hardly shift from the mainstream perspective on choice                                                                                                                                                                                                                                                                                                                                                                                                                                                                                                                                                                                                                                                                                                                                                                                                                                                                                                                                                                                                                                                                                                                                                                                                                                                                                                                                                                                                           \n",
       "4  your inability to understand clear sentences is not failing on my part also it spelled you re                                                                                                                                                                                                                                                                                                                                                                                                                                                                                                                                                                                                                                                                                                                                                                                                                                                                                                                                                                                                                                                                                                                                                                                                                                                                                                                                                                                                                                                                                                                                                                                                                                                                                                                                                                                                                                                                                                                                                           \n",
       "5  it is more effective to report it than downvote it speaking of which                                                                                                                                                                                                                                                                                                                                                                                                                                                                                                                                                                                                                                                                                                                                                                                                                                                                                                                                                                                                                                                                                                                                                                                                                                                                                                                                                                                                                                                                                                                                                                                                                                                                                                                                                                                                                                                                                                                                                                                    \n",
       "\n",
       "   isAdHominem  \n",
       "0  1            \n",
       "1  0            \n",
       "2  1            \n",
       "3  0            \n",
       "4  1            \n",
       "5  0            "
      ]
     },
     "execution_count": 7,
     "metadata": {},
     "output_type": "execute_result"
    }
   ],
   "source": [
    "df_samples[\"body\"] = df_samples[\"body\"].apply(lambda x: \" \".join(simple_preprocess(str(x), deacc=True))) # Remove stop words, special characters, make everything lower case, etc.\n",
    "df_samples = df_samples.reset_index(drop=True).reindex([\"length\", \"body\", \"isAdHominem\"], axis=1)        # Reset new indexes for data frame and reorder columns (visualization purposes)\n",
    "df_samples"
   ]
  },
  {
   "cell_type": "markdown",
   "metadata": {},
   "source": [
    "## Neural Network/TFIDF\n",
    "From [here](../02_tfidf/neural_network.ipynb)."
   ]
  },
  {
   "cell_type": "code",
   "execution_count": 8,
   "metadata": {},
   "outputs": [
    {
     "name": "stderr",
     "output_type": "stream",
     "text": [
      "/home/mcunha/anaconda3/lib/python3.6/site-packages/h5py/__init__.py:36: FutureWarning: Conversion of the second argument of issubdtype from `float` to `np.floating` is deprecated. In future, it will be treated as `np.float64 == np.dtype(float).type`.\n",
      "  from ._conv import register_converters as _register_converters\n",
      "Using TensorFlow backend.\n"
     ]
    },
    {
     "data": {
      "text/plain": [
       "(6, 3000)"
      ]
     },
     "execution_count": 8,
     "metadata": {},
     "output_type": "execute_result"
    }
   ],
   "source": [
    "from keras import utils\n",
    "from keras.preprocessing import text, sequence\n",
    "from sklearn.model_selection import train_test_split\n",
    "from keras.models import model_from_json\n",
    "\n",
    "vocab_size = 3000\n",
    "\n",
    "tokenize = text.Tokenizer(num_words=vocab_size)\n",
    "#tokenize.fit_on_texts(result.headline_text)\n",
    "\n",
    "tokenize.fit_on_texts(df_samples[\"body\"]) # only fit on train\n",
    "x_test = tokenize.texts_to_matrix(df_samples[\"body\"])\n",
    "x_test.shape"
   ]
  },
  {
   "cell_type": "code",
   "execution_count": 9,
   "metadata": {},
   "outputs": [
    {
     "name": "stdout",
     "output_type": "stream",
     "text": [
      "Loaded model from disk\n"
     ]
    }
   ],
   "source": [
    "# load json and create model\n",
    "json_file = open('../02_tfidf/model.json', 'r')\n",
    "loaded_model_json = json_file.read()\n",
    "json_file.close()\n",
    "loaded_model = model_from_json(loaded_model_json)\n",
    "# load weights into new model\n",
    "loaded_model.load_weights(\"../02_tfidf/model.h5\")\n",
    "print(\"Loaded model from disk\")\n",
    " \n",
    "# evaluate loaded model on test data\n",
    "loaded_model.compile(loss='binary_crossentropy', optimizer='adam', metrics=['accuracy'])\n",
    "#score = loaded_model.evaluate(x_test, df_samples['isAdHominem'], verbose=0)\n",
    "ynew = loaded_model.predict_classes(x_test)"
   ]
  },
  {
   "cell_type": "code",
   "execution_count": 10,
   "metadata": {},
   "outputs": [
    {
     "data": {
      "text/html": [
       "<div>\n",
       "<style scoped>\n",
       "    .dataframe tbody tr th:only-of-type {\n",
       "        vertical-align: middle;\n",
       "    }\n",
       "\n",
       "    .dataframe tbody tr th {\n",
       "        vertical-align: top;\n",
       "    }\n",
       "\n",
       "    .dataframe thead th {\n",
       "        text-align: right;\n",
       "    }\n",
       "</style>\n",
       "<table border=\"1\" class=\"dataframe\">\n",
       "  <thead>\n",
       "    <tr style=\"text-align: right;\">\n",
       "      <th></th>\n",
       "      <th>length</th>\n",
       "      <th>body</th>\n",
       "      <th>isAdHominem</th>\n",
       "      <th>NN/TFIDF</th>\n",
       "    </tr>\n",
       "  </thead>\n",
       "  <tbody>\n",
       "    <tr>\n",
       "      <th>0</th>\n",
       "      <td>343</td>\n",
       "      <td>alright here the meat of my aggressiveness you show great lack of empathy for those who didn have the opportunities that you did while you were busy with college some of the people you don want making higher wage were already busy in the work force why does their time working and years of experience count as less work than your school work did that tight budget allow you to purchase home and vehicle feed kid pay all your bills and tuition costs or did you have outside help as well it varies by state where live the minimum wage is hour and again wages should keep up with inflation cost of living and worker productivity americans have the longest working hours of all the industrialized nations with the least amount of vacation days per year also the us sits at th in median individual to sum this up you re basically arguing to keep minimum wages low which keeps median wages from going as well you re advocating against future raise for yourself then you re short sighted individual who doesn understand economics and slightly selfish ass to boot ll explain let make it simple if you re an entrepreneur what do you want the most profits how do you get those profits if people use your service or consume your product or use your product how will they do that buy buying it that means you and me will spend money to buy things what do the entrepreneur do with those profits he ll take some home and the rest he ll re invest in his business to make it grow make it grow how if you re manufacturer or producer you will increase manufacturing or production capacity this will mean buying machines employing more people using up more raw materials for the process of production and manufacturing giving the people at the bottom more power to support their lives is good for everyone including you and its why you should not only care about your wages but others as well</td>\n",
       "      <td>1</td>\n",
       "      <td>1</td>\n",
       "    </tr>\n",
       "    <tr>\n",
       "      <th>1</th>\n",
       "      <td>358</td>\n",
       "      <td>don think donald trump was bragging about getting away with sexual assault in the access hollywood tapes first of all yes of course it is sexual assault to grab woman genitalia without their consent but it is not sexual assault if it consensual and that what donald trump is bragging about in the tape for reference here the transcript of the relevant portion trump yeah that her with the gold better use some tic tacs just in case start kissing her you know automatically attracted to beautiful just start kissing them it like magnet just kiss don even wait and when you re star they let you do it you can do anything bush whatever you want trump grab them by the you can do anything ve bolded the phrase they let you do it because that reference to consent with they referring to the woman on the receiving end of his actions trump is not bragging about his wealth and fame allowing him to get away with groping women without their consent which again absolutely would be sexual assault he is instead bragging that his wealth and his fame make him so sexually attractive to women that they consent to being groped by him and that why he and his defenders are so insistent on it being locker room talk because while bragging about sexual assault is not normal in locker rooms outlandish claims about one sexual attractiveness and prowess absolutely are and just to be clear not defending trump here think that trump did not brag about sexual assault in the tapes but not saying that if he did what he said he did those women actually did consent in fact given the stories from the women who have come forward so far think it likely that they did not and think the takeaway of my view trump believes he was bragging about consensual sexual activity is that trump doesn truly understand what consent is and that might actually be even worse but it worse in way that underlines just how deeply rooted misogyny is and that can be dismissed as trump sociopath and an aberration</td>\n",
       "      <td>0</td>\n",
       "      <td>1</td>\n",
       "    </tr>\n",
       "    <tr>\n",
       "      <th>2</th>\n",
       "      <td>124</td>\n",
       "      <td>except the unquestionably well recorded long history handed down generation to generation that any sociologist worth their salt would argue is absolutely real evidence that you can find records of an atrocity buried in the dust of ruined empire official whitewashed record is hardly leg to stand on and just for the record using lack of evidence as evidence when jewish people have holiday literally thousands of years old proof to the contrary seems particularly doltish even for reddit might remind you that many scholars believe jesus last supper was passover no matter lets forget egypt and instead use the whole rest of jewish history from the end of the roman empire through the dark ages crusades until today my point still stands satisfied</td>\n",
       "      <td>1</td>\n",
       "      <td>1</td>\n",
       "    </tr>\n",
       "    <tr>\n",
       "      <th>3</th>\n",
       "      <td>116</td>\n",
       "      <td>yeah uh thats not understanding pro choice the point is that the women can how to regard the fetus do you think that the women who exercises her choice by carrying the child to term regards it as parasite of course not it the child she psyched to have however what the pro choice individual believes is that women_ gets to decide how to regard the fetus because it is her body_ and she doen have to set aside her right to determine how to regard things that take up residence inside her for any reason of course there are other reasons people are pro choice but this hardly shift from the mainstream perspective on choice</td>\n",
       "      <td>0</td>\n",
       "      <td>1</td>\n",
       "    </tr>\n",
       "    <tr>\n",
       "      <th>4</th>\n",
       "      <td>17</td>\n",
       "      <td>your inability to understand clear sentences is not failing on my part also it spelled you re</td>\n",
       "      <td>1</td>\n",
       "      <td>1</td>\n",
       "    </tr>\n",
       "    <tr>\n",
       "      <th>5</th>\n",
       "      <td>13</td>\n",
       "      <td>it is more effective to report it than downvote it speaking of which</td>\n",
       "      <td>0</td>\n",
       "      <td>1</td>\n",
       "    </tr>\n",
       "  </tbody>\n",
       "</table>\n",
       "</div>"
      ],
      "text/plain": [
       "   length  \\\n",
       "0  343      \n",
       "1  358      \n",
       "2  124      \n",
       "3  116      \n",
       "4  17       \n",
       "5  13       \n",
       "\n",
       "                                                                                                                                                                                                                                                                                                                                                                                                                                                                                                                                                                                                                                                                                                                                                                                                                                                                                                                                                                                                                                                                                                                                                                                                                                                                                                                                                                                                                                                                                                                                                                                                                                                                                                                                                                                                                                                                                                                                                                                                                                                    body  \\\n",
       "0  alright here the meat of my aggressiveness you show great lack of empathy for those who didn have the opportunities that you did while you were busy with college some of the people you don want making higher wage were already busy in the work force why does their time working and years of experience count as less work than your school work did that tight budget allow you to purchase home and vehicle feed kid pay all your bills and tuition costs or did you have outside help as well it varies by state where live the minimum wage is hour and again wages should keep up with inflation cost of living and worker productivity americans have the longest working hours of all the industrialized nations with the least amount of vacation days per year also the us sits at th in median individual to sum this up you re basically arguing to keep minimum wages low which keeps median wages from going as well you re advocating against future raise for yourself then you re short sighted individual who doesn understand economics and slightly selfish ass to boot ll explain let make it simple if you re an entrepreneur what do you want the most profits how do you get those profits if people use your service or consume your product or use your product how will they do that buy buying it that means you and me will spend money to buy things what do the entrepreneur do with those profits he ll take some home and the rest he ll re invest in his business to make it grow make it grow how if you re manufacturer or producer you will increase manufacturing or production capacity this will mean buying machines employing more people using up more raw materials for the process of production and manufacturing giving the people at the bottom more power to support their lives is good for everyone including you and its why you should not only care about your wages but others as well                                                                                                       \n",
       "1  don think donald trump was bragging about getting away with sexual assault in the access hollywood tapes first of all yes of course it is sexual assault to grab woman genitalia without their consent but it is not sexual assault if it consensual and that what donald trump is bragging about in the tape for reference here the transcript of the relevant portion trump yeah that her with the gold better use some tic tacs just in case start kissing her you know automatically attracted to beautiful just start kissing them it like magnet just kiss don even wait and when you re star they let you do it you can do anything bush whatever you want trump grab them by the you can do anything ve bolded the phrase they let you do it because that reference to consent with they referring to the woman on the receiving end of his actions trump is not bragging about his wealth and fame allowing him to get away with groping women without their consent which again absolutely would be sexual assault he is instead bragging that his wealth and his fame make him so sexually attractive to women that they consent to being groped by him and that why he and his defenders are so insistent on it being locker room talk because while bragging about sexual assault is not normal in locker rooms outlandish claims about one sexual attractiveness and prowess absolutely are and just to be clear not defending trump here think that trump did not brag about sexual assault in the tapes but not saying that if he did what he said he did those women actually did consent in fact given the stories from the women who have come forward so far think it likely that they did not and think the takeaway of my view trump believes he was bragging about consensual sexual activity is that trump doesn truly understand what consent is and that might actually be even worse but it worse in way that underlines just how deeply rooted misogyny is and that can be dismissed as trump sociopath and an aberration   \n",
       "2  except the unquestionably well recorded long history handed down generation to generation that any sociologist worth their salt would argue is absolutely real evidence that you can find records of an atrocity buried in the dust of ruined empire official whitewashed record is hardly leg to stand on and just for the record using lack of evidence as evidence when jewish people have holiday literally thousands of years old proof to the contrary seems particularly doltish even for reddit might remind you that many scholars believe jesus last supper was passover no matter lets forget egypt and instead use the whole rest of jewish history from the end of the roman empire through the dark ages crusades until today my point still stands satisfied                                                                                                                                                                                                                                                                                                                                                                                                                                                                                                                                                                                                                                                                                                                                                                                                                                                                                                                                                                                                                                                                                                                                                                                                                                                                             \n",
       "3  yeah uh thats not understanding pro choice the point is that the women can how to regard the fetus do you think that the women who exercises her choice by carrying the child to term regards it as parasite of course not it the child she psyched to have however what the pro choice individual believes is that women_ gets to decide how to regard the fetus because it is her body_ and she doen have to set aside her right to determine how to regard things that take up residence inside her for any reason of course there are other reasons people are pro choice but this hardly shift from the mainstream perspective on choice                                                                                                                                                                                                                                                                                                                                                                                                                                                                                                                                                                                                                                                                                                                                                                                                                                                                                                                                                                                                                                                                                                                                                                                                                                                                                                                                                                                                           \n",
       "4  your inability to understand clear sentences is not failing on my part also it spelled you re                                                                                                                                                                                                                                                                                                                                                                                                                                                                                                                                                                                                                                                                                                                                                                                                                                                                                                                                                                                                                                                                                                                                                                                                                                                                                                                                                                                                                                                                                                                                                                                                                                                                                                                                                                                                                                                                                                                                                           \n",
       "5  it is more effective to report it than downvote it speaking of which                                                                                                                                                                                                                                                                                                                                                                                                                                                                                                                                                                                                                                                                                                                                                                                                                                                                                                                                                                                                                                                                                                                                                                                                                                                                                                                                                                                                                                                                                                                                                                                                                                                                                                                                                                                                                                                                                                                                                                                    \n",
       "\n",
       "   isAdHominem  NN/TFIDF  \n",
       "0  1            1         \n",
       "1  0            1         \n",
       "2  1            1         \n",
       "3  0            1         \n",
       "4  1            1         \n",
       "5  0            1         "
      ]
     },
     "execution_count": 10,
     "metadata": {},
     "output_type": "execute_result"
    }
   ],
   "source": [
    "df_samples[\"NN/TFIDF\"] = ynew\n",
    "df_samples"
   ]
  },
  {
   "cell_type": "markdown",
   "metadata": {},
   "source": [
    "## Neural Network/Word2Vec\n",
    "From [here](../02_tfidf/tfidf.ipynb)."
   ]
  },
  {
   "cell_type": "code",
   "execution_count": 11,
   "metadata": {},
   "outputs": [],
   "source": [
    "# I can't run it on my local computer due to memory limitations"
   ]
  },
  {
   "cell_type": "markdown",
   "metadata": {},
   "source": [
    "## LinearSVC/Word2Vec\n",
    "From [here](../02_tfidf/tfidf.ipynb)."
   ]
  },
  {
   "cell_type": "code",
   "execution_count": 12,
   "metadata": {},
   "outputs": [],
   "source": [
    "# I can't run it on my local computer due to memory limitations"
   ]
  },
  {
   "cell_type": "markdown",
   "metadata": {},
   "source": [
    "# SVMs/TFIDF\n",
    "\n",
    "SVMs tested:\n",
    "* `svm.NuSVC([nu, kernel, degree, gamma, …])`: Nu-Support Vector Classification.\n",
    "* `svm.SVC([C, kernel, degree, gamma, coef0, …])`: C-Support Vector Classification.\n",
    "* `svm.LinearSVR([epsilon, tol, C, loss, …])`: Linear Support Vector Regression.\n",
    "\n",
    "Kernels tested:\n",
    "* `linear`\n",
    "* `poly`\n",
    "* `sigmoid`\n",
    "* `rbf`\n",
    "\n",
    "From [here](../05_SVM/SVMs-kernels.ipynb)."
   ]
  },
  {
   "cell_type": "code",
   "execution_count": 13,
   "metadata": {},
   "outputs": [],
   "source": [
    "from sklearn.multiclass import OneVsOneClassifier\n",
    "from sklearn.svm import LinearSVC, NuSVC, OneClassSVM, SVC, SVR, l1_min_c\n",
    "from sklearn.model_selection import train_test_split\n",
    "import pandas as pd\n",
    "import numpy as np\n",
    "import gensim\n",
    "import sys\n",
    "sys.path.insert(0, '/home/mcunha/Documents/Classes/KW/G0B34a_knowledge_and_the_web/')\n",
    "import data.ad_hominem.tokenize_df\n",
    "from sklearn.metrics import confusion_matrix\n",
    "import itertools\n",
    "import matplotlib.pyplot as plt\n",
    "from sklearn.feature_extraction.text import TfidfVectorizer"
   ]
  },
  {
   "cell_type": "markdown",
   "metadata": {},
   "source": [
    "#### TdidfVectorizer used [here](../02_tfidf/tfidf.ipynb)."
   ]
  },
  {
   "cell_type": "code",
   "execution_count": 14,
   "metadata": {},
   "outputs": [],
   "source": [
    "v = TfidfVectorizer(ngram_range = (1, 1), max_features=3000)\n",
    "desired_indices = [i for i in range(len(df.index)) if i not in indexes]\n",
    "df_notInSamples = df.iloc[desired_indices]\n",
    "\n",
    "train_data, test_data = train_test_split(df_notInSamples, test_size=0.3, random_state=3)\n",
    "v.fit(train_data['body'].values.astype('U'))\n",
    "\n",
    "x_train_tfidf = v.transform(train_data['body'].values.astype('U'))\n",
    "y_train = list(train_data[\"isAdHominem\"])\n",
    "\n",
    "x_test_tfidf = v.transform(df_samples['body'].values.astype('U'))\n",
    "y_test = list(df_samples[\"isAdHominem\"])"
   ]
  },
  {
   "cell_type": "markdown",
   "metadata": {},
   "source": [
    "## NuSVC/TFIDF\n",
    "The kernels to be used are:\n",
    "* `linear`\n",
    "* `poly`\n",
    "* `sigmoid`\n",
    "* `rbf`\n",
    "\n",
    "The kernel `rbf` was used in the [SVMs.ipynb](./SVMs.ipynb). Here for comparison."
   ]
  },
  {
   "cell_type": "code",
   "execution_count": 15,
   "metadata": {
    "scrolled": false
   },
   "outputs": [
    {
     "name": "stdout",
     "output_type": "stream",
     "text": [
      "Fitting NuSVC model...\n",
      "Done!\n",
      "CPU times: user 3min 22s, sys: 380 ms, total: 3min 22s\n",
      "Wall time: 3min 23s\n"
     ]
    }
   ],
   "source": [
    "%%time\n",
    "\n",
    "print(\"Fitting NuSVC model...\")\n",
    "nuModel = NuSVC(nu=0.05, kernel='linear').fit(x_train_tfidf, y_train)\n",
    "print(\"Done!\")\n",
    "\n",
    "predicted = nuModel.predict(x_test_tfidf)\n",
    "df_samples[\"NuSVC-linear/TFIDF\"] = predicted"
   ]
  },
  {
   "cell_type": "code",
   "execution_count": 16,
   "metadata": {
    "scrolled": false
   },
   "outputs": [
    {
     "name": "stdout",
     "output_type": "stream",
     "text": [
      "Fitting NuSVC model...\n",
      "Done!\n",
      "CPU times: user 12.8 s, sys: 31.5 ms, total: 12.8 s\n",
      "Wall time: 13 s\n"
     ]
    }
   ],
   "source": [
    "%%time\n",
    "\n",
    "print(\"Fitting NuSVC model...\")\n",
    "nuModel = NuSVC(nu=0.05, kernel='poly').fit(x_train_tfidf, y_train)\n",
    "print(\"Done!\")\n",
    "\n",
    "predicted = nuModel.predict(x_test_tfidf)\n",
    "\n",
    "df_samples[\"NuSVC-poly/TFIDF\"] = predicted"
   ]
  },
  {
   "cell_type": "code",
   "execution_count": 17,
   "metadata": {},
   "outputs": [
    {
     "name": "stdout",
     "output_type": "stream",
     "text": [
      "Fitting NuSVC model...\n",
      "Done!\n",
      "CPU times: user 14.8 s, sys: 128 ms, total: 15 s\n",
      "Wall time: 15.1 s\n"
     ]
    }
   ],
   "source": [
    "%%time\n",
    "\n",
    "print(\"Fitting NuSVC model...\")\n",
    "nuModel = NuSVC(nu=0.05, kernel='sigmoid').fit(x_train_tfidf, y_train)\n",
    "print(\"Done!\")\n",
    "\n",
    "predicted = nuModel.predict(x_test_tfidf)\n",
    "\n",
    "df_samples[\"NuSVC-sigmoid/TFIDF\"] = predicted"
   ]
  },
  {
   "cell_type": "code",
   "execution_count": 18,
   "metadata": {
    "scrolled": false
   },
   "outputs": [
    {
     "name": "stdout",
     "output_type": "stream",
     "text": [
      "Fitting NuSVC model...\n",
      "Done!\n",
      "CPU times: user 15 s, sys: 75.8 ms, total: 15.1 s\n",
      "Wall time: 15.1 s\n"
     ]
    }
   ],
   "source": [
    "%%time\n",
    "\n",
    "print(\"Fitting NuSVC model...\")\n",
    "nuModel = NuSVC(nu=0.05, kernel='rbf').fit(x_train_tfidf, y_train)\n",
    "print(\"Done!\")\n",
    "\n",
    "predicted = nuModel.predict(x_test_tfidf)\n",
    "\n",
    "df_samples[\"NuSVC-rbf/TFIDF\"] = predicted"
   ]
  },
  {
   "cell_type": "markdown",
   "metadata": {},
   "source": [
    "## SVC/TFIDF\n",
    "Theoretically equivalent to other methods (LinearSVC and NuSVC), but uses different implementations.\n",
    "* `LinearSVC` is equivalent to `SVC(kernel = 'linear')`\n",
    "* From documentation: *`SVC` and `NuSVC` are similar methods, but accept slightly different sets of parameters and have different mathematical formulations (see section [Mathematical formulation](https://scikit-learn.org/stable/modules/svm.html#svm-mathematical-formulation))\n",
    "\n",
    "The kernels to be used are:\n",
    "* `linear`\n",
    "* `poly`\n",
    "* `sigmoid`\n",
    "* `rbf`"
   ]
  },
  {
   "cell_type": "code",
   "execution_count": 19,
   "metadata": {
    "scrolled": true
   },
   "outputs": [
    {
     "name": "stdout",
     "output_type": "stream",
     "text": [
      "Fitting SVC model...\n",
      "Done!\n",
      "CPU times: user 37.6 s, sys: 180 ms, total: 37.8 s\n",
      "Wall time: 37.9 s\n"
     ]
    }
   ],
   "source": [
    "%%time\n",
    "\n",
    "print(\"Fitting SVC model...\")\n",
    "svcModel = SVC(kernel='poly').fit(x_train_tfidf, y_train)\n",
    "print(\"Done!\")\n",
    "\n",
    "predicted = svcModel.predict(x_test_tfidf)\n",
    "\n",
    "df_samples[\"SVC-poly/TFIDF\"] = predicted"
   ]
  },
  {
   "cell_type": "code",
   "execution_count": 20,
   "metadata": {
    "scrolled": true
   },
   "outputs": [
    {
     "name": "stdout",
     "output_type": "stream",
     "text": [
      "Fitting SVC model...\n",
      "Done!\n",
      "CPU times: user 39.7 s, sys: 220 ms, total: 39.9 s\n",
      "Wall time: 40 s\n"
     ]
    }
   ],
   "source": [
    "%%time\n",
    "\n",
    "print(\"Fitting SVC model...\")\n",
    "svcModel = SVC(kernel='sigmoid').fit(x_train_tfidf, y_train)\n",
    "print(\"Done!\")\n",
    "\n",
    "predicted = svcModel.predict(x_test_tfidf)\n",
    "\n",
    "df_samples[\"SVC-sigmoid/TFIDF\"] = predicted"
   ]
  },
  {
   "cell_type": "code",
   "execution_count": 21,
   "metadata": {
    "scrolled": true
   },
   "outputs": [
    {
     "name": "stdout",
     "output_type": "stream",
     "text": [
      "Fitting SVC model...\n",
      "Done!\n",
      "CPU times: user 49.1 s, sys: 327 ms, total: 49.4 s\n",
      "Wall time: 50 s\n"
     ]
    }
   ],
   "source": [
    "%%time\n",
    "\n",
    "print(\"Fitting SVC model...\")\n",
    "svcModel = SVC(kernel='rbf').fit(x_train_tfidf, y_train)\n",
    "print(\"Done!\")\n",
    "\n",
    "predicted = svcModel.predict(x_test_tfidf)\n",
    "\n",
    "df_samples[\"SVC-rbf/TFIDF\"] = predicted"
   ]
  },
  {
   "cell_type": "code",
   "execution_count": 22,
   "metadata": {
    "scrolled": false
   },
   "outputs": [
    {
     "name": "stdout",
     "output_type": "stream",
     "text": [
      "Fitting SVC model...\n",
      "Done!\n",
      "CPU times: user 1min 2s, sys: 168 ms, total: 1min 2s\n",
      "Wall time: 1min 3s\n"
     ]
    }
   ],
   "source": [
    "%%time\n",
    "\n",
    "print(\"Fitting SVC model...\")\n",
    "svcModel = SVC(kernel='linear').fit(x_train_tfidf, y_train)\n",
    "print(\"Done!\")\n",
    "\n",
    "predicted = svcModel.predict(x_test_tfidf)\n",
    "\n",
    "df_samples[\"SVC-linear/TFIDF\"] = predicted"
   ]
  },
  {
   "cell_type": "markdown",
   "metadata": {},
   "source": [
    "## LinearSVC/TFIDF\n",
    "As seen before, it is equivalent to `SVC(kernel='linear'`, with implementation differences."
   ]
  },
  {
   "cell_type": "code",
   "execution_count": 23,
   "metadata": {},
   "outputs": [
    {
     "name": "stdout",
     "output_type": "stream",
     "text": [
      "Fitting linear model...\n",
      "Done!\n",
      "CPU times: user 411 ms, sys: 0 ns, total: 411 ms\n",
      "Wall time: 425 ms\n"
     ]
    }
   ],
   "source": [
    "%%time\n",
    "\n",
    "print(\"Fitting linear model...\")\n",
    "linearModel = LinearSVC().fit(x_train_tfidf, y_train)\n",
    "print(\"Done!\")\n",
    "\n",
    "predicted = linearModel.predict(x_test_tfidf)\n",
    "\n",
    "df_samples[\"linearSVC/TFIDF\"] = predicted"
   ]
  },
  {
   "cell_type": "markdown",
   "metadata": {},
   "source": [
    "## Analyze the results\n",
    "See the classifications for the examples below"
   ]
  },
  {
   "cell_type": "code",
   "execution_count": 24,
   "metadata": {
    "scrolled": true
   },
   "outputs": [
    {
     "data": {
      "text/html": [
       "<div>\n",
       "<style scoped>\n",
       "    .dataframe tbody tr th:only-of-type {\n",
       "        vertical-align: middle;\n",
       "    }\n",
       "\n",
       "    .dataframe tbody tr th {\n",
       "        vertical-align: top;\n",
       "    }\n",
       "\n",
       "    .dataframe thead th {\n",
       "        text-align: right;\n",
       "    }\n",
       "</style>\n",
       "<table border=\"1\" class=\"dataframe\">\n",
       "  <thead>\n",
       "    <tr style=\"text-align: right;\">\n",
       "      <th></th>\n",
       "      <th>length</th>\n",
       "      <th>body</th>\n",
       "      <th>isAdHominem</th>\n",
       "      <th>NN/TFIDF</th>\n",
       "      <th>NuSVC-linear/TFIDF</th>\n",
       "      <th>NuSVC-poly/TFIDF</th>\n",
       "      <th>NuSVC-sigmoid/TFIDF</th>\n",
       "      <th>NuSVC-rbf/TFIDF</th>\n",
       "      <th>SVC-poly/TFIDF</th>\n",
       "      <th>SVC-sigmoid/TFIDF</th>\n",
       "      <th>SVC-rbf/TFIDF</th>\n",
       "      <th>SVC-linear/TFIDF</th>\n",
       "      <th>linearSVC/TFIDF</th>\n",
       "    </tr>\n",
       "  </thead>\n",
       "  <tbody>\n",
       "    <tr>\n",
       "      <th>0</th>\n",
       "      <td>343</td>\n",
       "      <td>alright here the meat of m...</td>\n",
       "      <td>1</td>\n",
       "      <td>1</td>\n",
       "      <td>1</td>\n",
       "      <td>1</td>\n",
       "      <td>1</td>\n",
       "      <td>1</td>\n",
       "      <td>0</td>\n",
       "      <td>0</td>\n",
       "      <td>0</td>\n",
       "      <td>0</td>\n",
       "      <td>0</td>\n",
       "    </tr>\n",
       "    <tr>\n",
       "      <th>1</th>\n",
       "      <td>358</td>\n",
       "      <td>don think donald trump was...</td>\n",
       "      <td>0</td>\n",
       "      <td>1</td>\n",
       "      <td>0</td>\n",
       "      <td>0</td>\n",
       "      <td>0</td>\n",
       "      <td>0</td>\n",
       "      <td>0</td>\n",
       "      <td>0</td>\n",
       "      <td>0</td>\n",
       "      <td>0</td>\n",
       "      <td>0</td>\n",
       "    </tr>\n",
       "    <tr>\n",
       "      <th>2</th>\n",
       "      <td>124</td>\n",
       "      <td>except the unquestionably ...</td>\n",
       "      <td>1</td>\n",
       "      <td>1</td>\n",
       "      <td>0</td>\n",
       "      <td>0</td>\n",
       "      <td>0</td>\n",
       "      <td>1</td>\n",
       "      <td>0</td>\n",
       "      <td>0</td>\n",
       "      <td>0</td>\n",
       "      <td>0</td>\n",
       "      <td>0</td>\n",
       "    </tr>\n",
       "    <tr>\n",
       "      <th>3</th>\n",
       "      <td>116</td>\n",
       "      <td>yeah uh thats not understa...</td>\n",
       "      <td>0</td>\n",
       "      <td>1</td>\n",
       "      <td>1</td>\n",
       "      <td>0</td>\n",
       "      <td>0</td>\n",
       "      <td>1</td>\n",
       "      <td>0</td>\n",
       "      <td>0</td>\n",
       "      <td>0</td>\n",
       "      <td>0</td>\n",
       "      <td>0</td>\n",
       "    </tr>\n",
       "    <tr>\n",
       "      <th>4</th>\n",
       "      <td>17</td>\n",
       "      <td>your inability to understa...</td>\n",
       "      <td>1</td>\n",
       "      <td>1</td>\n",
       "      <td>0</td>\n",
       "      <td>0</td>\n",
       "      <td>0</td>\n",
       "      <td>1</td>\n",
       "      <td>0</td>\n",
       "      <td>0</td>\n",
       "      <td>0</td>\n",
       "      <td>0</td>\n",
       "      <td>0</td>\n",
       "    </tr>\n",
       "    <tr>\n",
       "      <th>5</th>\n",
       "      <td>13</td>\n",
       "      <td>it is more effective to re...</td>\n",
       "      <td>0</td>\n",
       "      <td>1</td>\n",
       "      <td>0</td>\n",
       "      <td>0</td>\n",
       "      <td>0</td>\n",
       "      <td>0</td>\n",
       "      <td>0</td>\n",
       "      <td>0</td>\n",
       "      <td>0</td>\n",
       "      <td>0</td>\n",
       "      <td>0</td>\n",
       "    </tr>\n",
       "  </tbody>\n",
       "</table>\n",
       "</div>"
      ],
      "text/plain": [
       "   length                           body  isAdHominem  NN/TFIDF  \\\n",
       "0     343  alright here the meat of m...            1         1   \n",
       "1     358  don think donald trump was...            0         1   \n",
       "2     124  except the unquestionably ...            1         1   \n",
       "3     116  yeah uh thats not understa...            0         1   \n",
       "4      17  your inability to understa...            1         1   \n",
       "5      13  it is more effective to re...            0         1   \n",
       "\n",
       "   NuSVC-linear/TFIDF  NuSVC-poly/TFIDF  NuSVC-sigmoid/TFIDF  NuSVC-rbf/TFIDF  \\\n",
       "0                   1                 1                    1                1   \n",
       "1                   0                 0                    0                0   \n",
       "2                   0                 0                    0                1   \n",
       "3                   1                 0                    0                1   \n",
       "4                   0                 0                    0                1   \n",
       "5                   0                 0                    0                0   \n",
       "\n",
       "   SVC-poly/TFIDF  SVC-sigmoid/TFIDF  SVC-rbf/TFIDF  SVC-linear/TFIDF  \\\n",
       "0               0                  0              0                 0   \n",
       "1               0                  0              0                 0   \n",
       "2               0                  0              0                 0   \n",
       "3               0                  0              0                 0   \n",
       "4               0                  0              0                 0   \n",
       "5               0                  0              0                 0   \n",
       "\n",
       "   linearSVC/TFIDF  \n",
       "0                0  \n",
       "1                0  \n",
       "2                0  \n",
       "3                0  \n",
       "4                0  \n",
       "5                0  "
      ]
     },
     "execution_count": 24,
     "metadata": {},
     "output_type": "execute_result"
    }
   ],
   "source": [
    "pd.set_option('display.max_colwidth', 30)\n",
    "df_samples"
   ]
  },
  {
   "cell_type": "markdown",
   "metadata": {},
   "source": [
    "## Mixed Neural Network/Word2Vec + POS tags + Doc2Vec"
   ]
  },
  {
   "cell_type": "code",
   "execution_count": 25,
   "metadata": {},
   "outputs": [],
   "source": [
    "# Can't run locally due to memory limitations."
   ]
  },
  {
   "cell_type": "markdown",
   "metadata": {},
   "source": [
    "## Using Doc2Vec..."
   ]
  },
  {
   "cell_type": "code",
   "execution_count": 26,
   "metadata": {},
   "outputs": [],
   "source": [
    "from gensim.models.doc2vec import Doc2Vec\n",
    "doc2vec_model = Doc2Vec.load(\"reddit-doc2vec.model\")"
   ]
  },
  {
   "cell_type": "code",
   "execution_count": 27,
   "metadata": {},
   "outputs": [
    {
     "name": "stdout",
     "output_type": "stream",
     "text": [
      "CPU times: user 1min 43s, sys: 212 ms, total: 1min 43s\n",
      "Wall time: 1min 43s\n"
     ]
    }
   ],
   "source": [
    "%%time\n",
    "\n",
    "train_data = train_data.reset_index(drop=True)\n",
    "\n",
    "x_train_vec = list(train_data[\"body\"].apply(lambda x:simple_preprocess(str(x), deacc=True))) # Tokenize bodies\n",
    "x_train_vec = [doc2vec_model.infer_vector(i) for i in x_train_vec]                           # Infer vectors\n",
    "y_train = list(train_data[\"isAdHominem\"])                                                    # Same as before, here for reference\n",
    "\n",
    "x_test_vec = list(df_samples[\"body\"].apply(lambda x:simple_preprocess(str(x), deacc=True))) # Tokenize bodies\n",
    "x_test_vec = [doc2vec_model.infer_vector(i) for i in x_test_vec]                            # Infer vectors\n",
    "y_test = list(df_samples[\"isAdHominem\"])                                                    # Same as before, here for reference"
   ]
  },
  {
   "cell_type": "markdown",
   "metadata": {},
   "source": [
    "## NuSVC/Doc2Vec\n",
    "The kernels to be used are:\n",
    "* `linear`\n",
    "* `poly`\n",
    "* `sigmoid`\n",
    "* `rbf`\n",
    "\n",
    "The kernel `rbf` was used in the [SVMs.ipynb](./SVMs.ipynb). Here for comparison."
   ]
  },
  {
   "cell_type": "code",
   "execution_count": 28,
   "metadata": {
    "scrolled": false
   },
   "outputs": [
    {
     "name": "stdout",
     "output_type": "stream",
     "text": [
      "Fitting NuSVC model...\n",
      "Done!\n",
      "CPU times: user 3min 50s, sys: 728 ms, total: 3min 51s\n",
      "Wall time: 3min 51s\n"
     ]
    }
   ],
   "source": [
    "%%time\n",
    "\n",
    "print(\"Fitting NuSVC model...\")\n",
    "nuModel = NuSVC(nu=0.05, kernel='linear').fit(x_train_vec, y_train)\n",
    "print(\"Done!\")\n",
    "\n",
    "predicted = nuModel.predict(x_test_vec)\n",
    "df_samples[\"NuSVC-linear/Doc2Vec\"] = predicted"
   ]
  },
  {
   "cell_type": "code",
   "execution_count": 29,
   "metadata": {
    "scrolled": false
   },
   "outputs": [
    {
     "name": "stdout",
     "output_type": "stream",
     "text": [
      "Fitting NuSVC model...\n",
      "Done!\n",
      "CPU times: user 25.5 s, sys: 220 ms, total: 25.7 s\n",
      "Wall time: 25.7 s\n"
     ]
    }
   ],
   "source": [
    "%%time\n",
    "\n",
    "print(\"Fitting NuSVC model...\")\n",
    "nuModel = NuSVC(nu=0.05, kernel='poly').fit(x_train_vec, y_train)\n",
    "print(\"Done!\")\n",
    "\n",
    "predicted = nuModel.predict(x_test_vec)\n",
    "\n",
    "df_samples[\"NuSVC-poly/Doc2Vec\"] = predicted"
   ]
  },
  {
   "cell_type": "code",
   "execution_count": 30,
   "metadata": {},
   "outputs": [
    {
     "name": "stdout",
     "output_type": "stream",
     "text": [
      "Fitting NuSVC model...\n",
      "Done!\n",
      "CPU times: user 35.5 s, sys: 268 ms, total: 35.7 s\n",
      "Wall time: 35.8 s\n"
     ]
    }
   ],
   "source": [
    "%%time\n",
    "\n",
    "print(\"Fitting NuSVC model...\")\n",
    "nuModel = NuSVC(nu=0.05, kernel='sigmoid').fit(x_train_vec, y_train)\n",
    "print(\"Done!\")\n",
    "\n",
    "predicted = nuModel.predict(x_test_vec)\n",
    "\n",
    "df_samples[\"NuSVC-sigmoid/Doc2Vec\"] = predicted"
   ]
  },
  {
   "cell_type": "code",
   "execution_count": 31,
   "metadata": {
    "scrolled": false
   },
   "outputs": [
    {
     "name": "stdout",
     "output_type": "stream",
     "text": [
      "Fitting NuSVC model...\n",
      "Done!\n",
      "CPU times: user 1min 2s, sys: 412 ms, total: 1min 2s\n",
      "Wall time: 1min 2s\n"
     ]
    }
   ],
   "source": [
    "%%time\n",
    "\n",
    "print(\"Fitting NuSVC model...\")\n",
    "nuModel = NuSVC(nu=0.05, kernel='rbf').fit(x_train_vec, y_train)\n",
    "print(\"Done!\")\n",
    "\n",
    "predicted = nuModel.predict(x_test_vec)\n",
    "\n",
    "df_samples[\"NuSVC-rbf/Doc2Vec\"] = predicted"
   ]
  },
  {
   "cell_type": "markdown",
   "metadata": {},
   "source": [
    "## SVC/Doc2Vec\n",
    "Theoretically equivalent to other methods (LinearSVC and NuSVC), but uses different implementations.\n",
    "* `LinearSVC` is equivalent to `SVC(kernel = 'linear')`\n",
    "* From documentation: *`SVC` and `NuSVC` are similar methods, but accept slightly different sets of parameters and have different mathematical formulations (see section [Mathematical formulation](https://scikit-learn.org/stable/modules/svm.html#svm-mathematical-formulation))\n",
    "\n",
    "The kernels to be used are:\n",
    "* `linear`\n",
    "* `poly`\n",
    "* `sigmoid`\n",
    "* `rbf`"
   ]
  },
  {
   "cell_type": "code",
   "execution_count": 32,
   "metadata": {
    "scrolled": true
   },
   "outputs": [
    {
     "name": "stdout",
     "output_type": "stream",
     "text": [
      "Fitting SVC model...\n",
      "Done!\n",
      "CPU times: user 1min 27s, sys: 508 ms, total: 1min 28s\n",
      "Wall time: 1min 28s\n"
     ]
    }
   ],
   "source": [
    "%%time\n",
    "\n",
    "print(\"Fitting SVC model...\")\n",
    "svcModel = SVC(kernel='poly').fit(x_train_vec, y_train)\n",
    "print(\"Done!\")\n",
    "\n",
    "predicted = svcModel.predict(x_test_vec)\n",
    "\n",
    "df_samples[\"SVC-poly/Doc2Vec\"] = predicted"
   ]
  },
  {
   "cell_type": "code",
   "execution_count": 33,
   "metadata": {
    "scrolled": true
   },
   "outputs": [
    {
     "name": "stdout",
     "output_type": "stream",
     "text": [
      "Fitting SVC model...\n",
      "Done!\n",
      "CPU times: user 1min 45s, sys: 428 ms, total: 1min 45s\n",
      "Wall time: 1min 46s\n"
     ]
    }
   ],
   "source": [
    "%%time\n",
    "\n",
    "print(\"Fitting SVC model...\")\n",
    "svcModel = SVC(kernel='sigmoid').fit(x_train_vec, y_train)\n",
    "print(\"Done!\")\n",
    "\n",
    "predicted = svcModel.predict(x_test_vec)\n",
    "\n",
    "df_samples[\"SVC-sigmoid/Doc2Vec\"] = predicted"
   ]
  },
  {
   "cell_type": "code",
   "execution_count": 34,
   "metadata": {
    "scrolled": true
   },
   "outputs": [
    {
     "name": "stdout",
     "output_type": "stream",
     "text": [
      "Fitting SVC model...\n",
      "Done!\n",
      "CPU times: user 1min 59s, sys: 396 ms, total: 1min 59s\n",
      "Wall time: 1min 59s\n"
     ]
    }
   ],
   "source": [
    "%%time\n",
    "\n",
    "print(\"Fitting SVC model...\")\n",
    "svcModel = SVC(kernel='rbf').fit(x_train_vec, y_train)\n",
    "print(\"Done!\")\n",
    "\n",
    "predicted = svcModel.predict(x_test_vec)\n",
    "\n",
    "df_samples[\"SVC-rbf/Doc2Vec\"] = predicted"
   ]
  },
  {
   "cell_type": "code",
   "execution_count": 35,
   "metadata": {
    "scrolled": false
   },
   "outputs": [
    {
     "name": "stdout",
     "output_type": "stream",
     "text": [
      "Fitting SVC model...\n",
      "Done!\n",
      "CPU times: user 7min 5s, sys: 639 ms, total: 7min 6s\n",
      "Wall time: 7min 8s\n"
     ]
    }
   ],
   "source": [
    "%%time\n",
    "\n",
    "print(\"Fitting SVC model...\")\n",
    "svcModel = SVC(kernel='linear').fit(x_train_vec, y_train)\n",
    "print(\"Done!\")\n",
    "\n",
    "predicted = svcModel.predict(x_test_vec)\n",
    "\n",
    "df_samples[\"SVC-linear/Doc2Vec\"] = predicted"
   ]
  },
  {
   "cell_type": "markdown",
   "metadata": {},
   "source": [
    "## LinearSVC/Doc2Vec\n",
    "As seen before, it is equivalent to `SVC(kernel='linear')`, with implementation differences."
   ]
  },
  {
   "cell_type": "code",
   "execution_count": 36,
   "metadata": {},
   "outputs": [
    {
     "name": "stdout",
     "output_type": "stream",
     "text": [
      "Fitting linear model...\n",
      "Done!\n",
      "CPU times: user 58.1 s, sys: 196 ms, total: 58.3 s\n",
      "Wall time: 58.7 s\n"
     ]
    }
   ],
   "source": [
    "%%time\n",
    "\n",
    "print(\"Fitting linear model...\")\n",
    "linearModel = LinearSVC().fit(x_train_vec, y_train)\n",
    "print(\"Done!\")\n",
    "\n",
    "predicted = linearModel.predict(x_test_vec)\n",
    "\n",
    "df_samples[\"linearSVC/Doc2Vec\"] = predicted"
   ]
  },
  {
   "cell_type": "markdown",
   "metadata": {},
   "source": [
    "## Once again, let's look at the results\n",
    "See the classifications for the examples below"
   ]
  },
  {
   "cell_type": "code",
   "execution_count": 37,
   "metadata": {},
   "outputs": [
    {
     "data": {
      "text/html": [
       "<div>\n",
       "<style scoped>\n",
       "    .dataframe tbody tr th:only-of-type {\n",
       "        vertical-align: middle;\n",
       "    }\n",
       "\n",
       "    .dataframe tbody tr th {\n",
       "        vertical-align: top;\n",
       "    }\n",
       "\n",
       "    .dataframe thead th {\n",
       "        text-align: right;\n",
       "    }\n",
       "</style>\n",
       "<table border=\"1\" class=\"dataframe\">\n",
       "  <thead>\n",
       "    <tr style=\"text-align: right;\">\n",
       "      <th></th>\n",
       "      <th>length</th>\n",
       "      <th>body</th>\n",
       "      <th>isAdHominem</th>\n",
       "      <th>NuSVC-linear/TFIDF</th>\n",
       "      <th>NuSVC-poly/TFIDF</th>\n",
       "      <th>NuSVC-sigmoid/TFIDF</th>\n",
       "      <th>NuSVC-rbf/TFIDF</th>\n",
       "      <th>SVC-poly/TFIDF</th>\n",
       "      <th>SVC-sigmoid/TFIDF</th>\n",
       "      <th>SVC-rbf/TFIDF</th>\n",
       "      <th>...</th>\n",
       "      <th>linearSVC/TFIDF</th>\n",
       "      <th>NuSVC-linear/Doc2Vec</th>\n",
       "      <th>NuSVC-poly/Doc2Vec</th>\n",
       "      <th>NuSVC-sigmoid/Doc2Vec</th>\n",
       "      <th>NuSVC-rbf/Doc2Vec</th>\n",
       "      <th>SVC-poly/Doc2Vec</th>\n",
       "      <th>SVC-sigmoid/Doc2Vec</th>\n",
       "      <th>SVC-rbf/Doc2Vec</th>\n",
       "      <th>SVC-linear/Doc2Vec</th>\n",
       "      <th>linearSVC/Doc2Vec</th>\n",
       "    </tr>\n",
       "  </thead>\n",
       "  <tbody>\n",
       "    <tr>\n",
       "      <th>0</th>\n",
       "      <td>343</td>\n",
       "      <td>alright here the meat of m...</td>\n",
       "      <td>1</td>\n",
       "      <td>1</td>\n",
       "      <td>1</td>\n",
       "      <td>1</td>\n",
       "      <td>1</td>\n",
       "      <td>0</td>\n",
       "      <td>0</td>\n",
       "      <td>0</td>\n",
       "      <td>...</td>\n",
       "      <td>0</td>\n",
       "      <td>0</td>\n",
       "      <td>1</td>\n",
       "      <td>0</td>\n",
       "      <td>0</td>\n",
       "      <td>0</td>\n",
       "      <td>0</td>\n",
       "      <td>0</td>\n",
       "      <td>0</td>\n",
       "      <td>1</td>\n",
       "    </tr>\n",
       "    <tr>\n",
       "      <th>1</th>\n",
       "      <td>358</td>\n",
       "      <td>don think donald trump was...</td>\n",
       "      <td>0</td>\n",
       "      <td>0</td>\n",
       "      <td>0</td>\n",
       "      <td>0</td>\n",
       "      <td>0</td>\n",
       "      <td>0</td>\n",
       "      <td>0</td>\n",
       "      <td>0</td>\n",
       "      <td>...</td>\n",
       "      <td>0</td>\n",
       "      <td>1</td>\n",
       "      <td>1</td>\n",
       "      <td>1</td>\n",
       "      <td>0</td>\n",
       "      <td>0</td>\n",
       "      <td>0</td>\n",
       "      <td>0</td>\n",
       "      <td>0</td>\n",
       "      <td>0</td>\n",
       "    </tr>\n",
       "    <tr>\n",
       "      <th>2</th>\n",
       "      <td>124</td>\n",
       "      <td>except the unquestionably ...</td>\n",
       "      <td>1</td>\n",
       "      <td>0</td>\n",
       "      <td>0</td>\n",
       "      <td>0</td>\n",
       "      <td>1</td>\n",
       "      <td>0</td>\n",
       "      <td>0</td>\n",
       "      <td>0</td>\n",
       "      <td>...</td>\n",
       "      <td>0</td>\n",
       "      <td>0</td>\n",
       "      <td>1</td>\n",
       "      <td>1</td>\n",
       "      <td>1</td>\n",
       "      <td>0</td>\n",
       "      <td>0</td>\n",
       "      <td>0</td>\n",
       "      <td>0</td>\n",
       "      <td>0</td>\n",
       "    </tr>\n",
       "    <tr>\n",
       "      <th>3</th>\n",
       "      <td>116</td>\n",
       "      <td>yeah uh thats not understa...</td>\n",
       "      <td>0</td>\n",
       "      <td>1</td>\n",
       "      <td>0</td>\n",
       "      <td>0</td>\n",
       "      <td>1</td>\n",
       "      <td>0</td>\n",
       "      <td>0</td>\n",
       "      <td>0</td>\n",
       "      <td>...</td>\n",
       "      <td>0</td>\n",
       "      <td>0</td>\n",
       "      <td>1</td>\n",
       "      <td>1</td>\n",
       "      <td>0</td>\n",
       "      <td>0</td>\n",
       "      <td>0</td>\n",
       "      <td>0</td>\n",
       "      <td>0</td>\n",
       "      <td>0</td>\n",
       "    </tr>\n",
       "    <tr>\n",
       "      <th>4</th>\n",
       "      <td>17</td>\n",
       "      <td>your inability to understa...</td>\n",
       "      <td>1</td>\n",
       "      <td>0</td>\n",
       "      <td>0</td>\n",
       "      <td>0</td>\n",
       "      <td>1</td>\n",
       "      <td>0</td>\n",
       "      <td>0</td>\n",
       "      <td>0</td>\n",
       "      <td>...</td>\n",
       "      <td>0</td>\n",
       "      <td>0</td>\n",
       "      <td>1</td>\n",
       "      <td>0</td>\n",
       "      <td>1</td>\n",
       "      <td>0</td>\n",
       "      <td>0</td>\n",
       "      <td>0</td>\n",
       "      <td>0</td>\n",
       "      <td>0</td>\n",
       "    </tr>\n",
       "    <tr>\n",
       "      <th>5</th>\n",
       "      <td>13</td>\n",
       "      <td>it is more effective to re...</td>\n",
       "      <td>0</td>\n",
       "      <td>0</td>\n",
       "      <td>0</td>\n",
       "      <td>0</td>\n",
       "      <td>0</td>\n",
       "      <td>0</td>\n",
       "      <td>0</td>\n",
       "      <td>0</td>\n",
       "      <td>...</td>\n",
       "      <td>0</td>\n",
       "      <td>1</td>\n",
       "      <td>1</td>\n",
       "      <td>0</td>\n",
       "      <td>0</td>\n",
       "      <td>0</td>\n",
       "      <td>0</td>\n",
       "      <td>0</td>\n",
       "      <td>0</td>\n",
       "      <td>0</td>\n",
       "    </tr>\n",
       "  </tbody>\n",
       "</table>\n",
       "<p>6 rows × 21 columns</p>\n",
       "</div>"
      ],
      "text/plain": [
       "   length                           body  isAdHominem  NuSVC-linear/TFIDF  \\\n",
       "0     343  alright here the meat of m...            1                   1   \n",
       "1     358  don think donald trump was...            0                   0   \n",
       "2     124  except the unquestionably ...            1                   0   \n",
       "3     116  yeah uh thats not understa...            0                   1   \n",
       "4      17  your inability to understa...            1                   0   \n",
       "5      13  it is more effective to re...            0                   0   \n",
       "\n",
       "   NuSVC-poly/TFIDF  NuSVC-sigmoid/TFIDF  NuSVC-rbf/TFIDF  SVC-poly/TFIDF  \\\n",
       "0                 1                    1                1               0   \n",
       "1                 0                    0                0               0   \n",
       "2                 0                    0                1               0   \n",
       "3                 0                    0                1               0   \n",
       "4                 0                    0                1               0   \n",
       "5                 0                    0                0               0   \n",
       "\n",
       "   SVC-sigmoid/TFIDF  SVC-rbf/TFIDF        ...          linearSVC/TFIDF  \\\n",
       "0                  0              0        ...                        0   \n",
       "1                  0              0        ...                        0   \n",
       "2                  0              0        ...                        0   \n",
       "3                  0              0        ...                        0   \n",
       "4                  0              0        ...                        0   \n",
       "5                  0              0        ...                        0   \n",
       "\n",
       "   NuSVC-linear/Doc2Vec  NuSVC-poly/Doc2Vec  NuSVC-sigmoid/Doc2Vec  \\\n",
       "0                     0                   1                      0   \n",
       "1                     1                   1                      1   \n",
       "2                     0                   1                      1   \n",
       "3                     0                   1                      1   \n",
       "4                     0                   1                      0   \n",
       "5                     1                   1                      0   \n",
       "\n",
       "   NuSVC-rbf/Doc2Vec  SVC-poly/Doc2Vec  SVC-sigmoid/Doc2Vec  SVC-rbf/Doc2Vec  \\\n",
       "0                  0                 0                    0                0   \n",
       "1                  0                 0                    0                0   \n",
       "2                  1                 0                    0                0   \n",
       "3                  0                 0                    0                0   \n",
       "4                  1                 0                    0                0   \n",
       "5                  0                 0                    0                0   \n",
       "\n",
       "   SVC-linear/Doc2Vec  linearSVC/Doc2Vec  \n",
       "0                   0                  1  \n",
       "1                   0                  0  \n",
       "2                   0                  0  \n",
       "3                   0                  0  \n",
       "4                   0                  0  \n",
       "5                   0                  0  \n",
       "\n",
       "[6 rows x 21 columns]"
      ]
     },
     "execution_count": 37,
     "metadata": {},
     "output_type": "execute_result"
    }
   ],
   "source": [
    "df_samples.drop('NN/TFIDF', axis=1) # Dropped. In the script, it didn't improve in accuraccy with training..."
   ]
  },
  {
   "cell_type": "code",
   "execution_count": null,
   "metadata": {},
   "outputs": [],
   "source": []
  }
 ],
 "metadata": {
  "kernelspec": {
   "display_name": "Python 3",
   "language": "python",
   "name": "python3"
  },
  "language_info": {
   "codemirror_mode": {
    "name": "ipython",
    "version": 3
   },
   "file_extension": ".py",
   "mimetype": "text/x-python",
   "name": "python",
   "nbconvert_exporter": "python",
   "pygments_lexer": "ipython3",
   "version": "3.6.5"
  }
 },
 "nbformat": 4,
 "nbformat_minor": 2
}
