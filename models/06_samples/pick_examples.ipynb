{
 "cells": [
  {
   "cell_type": "markdown",
   "metadata": {},
   "source": [
    "# Selecting the examples for analisys\n",
    "Long, medium and short text entries\n"
   ]
  },
  {
   "cell_type": "code",
   "execution_count": 47,
   "metadata": {},
   "outputs": [],
   "source": [
    "import numpy as np\n",
    "import pandas as pd\n",
    "import random\n",
    "from gensim.utils import simple_preprocess\n",
    "import matplotlib.pyplot as plt"
   ]
  },
  {
   "cell_type": "markdown",
   "metadata": {},
   "source": [
    "#### Defining a function that will be used later..."
   ]
  },
  {
   "cell_type": "code",
   "execution_count": 48,
   "metadata": {},
   "outputs": [],
   "source": [
    "def plot_confusion_matrix(cm, classes,\n",
    "                          normalize=False,\n",
    "                          title='Confusion matrix',\n",
    "                          cmap=plt.cm.Blues):\n",
    "    \"\"\"\n",
    "    This function prints and plots the confusion matrix.\n",
    "    Normalization can be applied by setting `normalize=True`.\n",
    "    \"\"\"\n",
    "    if normalize:\n",
    "        cm = cm.astype('float') / cm.sum(axis=1)[:, np.newaxis]\n",
    "        print(\"Normalized confusion matrix\")\n",
    "    else:\n",
    "        print('Confusion matrix, without normalization')\n",
    "\n",
    "    print(cm)\n",
    "\n",
    "    plt.imshow(cm, interpolation='nearest', cmap=cmap)\n",
    "    plt.title(title)\n",
    "    plt.colorbar()\n",
    "    tick_marks = np.arange(len(classes))\n",
    "    plt.xticks(tick_marks, classes, rotation=45)\n",
    "    plt.yticks(tick_marks, classes)\n",
    "\n",
    "    fmt = '.2f' if normalize else 'd'\n",
    "    thresh = cm.max() / 2.\n",
    "    \n",
    "    for i, j in itertools.product(range(cm.shape[0]), range(cm.shape[1])):\n",
    "        plt.text(j, i, format(cm[i, j], fmt),\n",
    "                 horizontalalignment=\"center\",\n",
    "                 color=\"white\" if cm[i, j] > thresh else \"black\")\n",
    "        \n",
    "    plt.tight_layout()\n",
    "    plt.ylabel('True label')\n",
    "    plt.xlabel('Predicted label')"
   ]
  },
  {
   "cell_type": "markdown",
   "metadata": {},
   "source": [
    "## Importing data"
   ]
  },
  {
   "cell_type": "code",
   "execution_count": 49,
   "metadata": {},
   "outputs": [
    {
     "name": "stdout",
     "output_type": "stream",
     "text": [
      "(29218, 2)\n"
     ]
    }
   ],
   "source": [
    "df = pd.read_csv(\"../../data/ad_hominem/ad_hominems_cleaned_Murilo.csv\", sep=\",\", index_col=0, header=0, names=[\"body\", \"isAdHominem\"])\n",
    "df = df[~df.isin([np.nan, np.inf, -np.inf, 'nan']).any(1)] ## Remove rows with NaN values\n",
    "print(df.shape)"
   ]
  },
  {
   "cell_type": "code",
   "execution_count": 50,
   "metadata": {},
   "outputs": [],
   "source": [
    "df[\"length\"] = df[\"body\"].apply(lambda x: len(simple_preprocess(x, deacc=True))) # Make row for length\n",
    "df = df.reset_index(drop=True)"
   ]
  },
  {
   "cell_type": "code",
   "execution_count": 51,
   "metadata": {},
   "outputs": [
    {
     "data": {
      "text/html": [
       "<div>\n",
       "<style scoped>\n",
       "    .dataframe tbody tr th:only-of-type {\n",
       "        vertical-align: middle;\n",
       "    }\n",
       "\n",
       "    .dataframe tbody tr th {\n",
       "        vertical-align: top;\n",
       "    }\n",
       "\n",
       "    .dataframe thead th {\n",
       "        text-align: right;\n",
       "    }\n",
       "</style>\n",
       "<table border=\"1\" class=\"dataframe\">\n",
       "  <thead>\n",
       "    <tr style=\"text-align: right;\">\n",
       "      <th></th>\n",
       "      <th>body</th>\n",
       "      <th>isAdHominem</th>\n",
       "      <th>length</th>\n",
       "    </tr>\n",
       "  </thead>\n",
       "  <tbody>\n",
       "    <tr>\n",
       "      <th>0</th>\n",
       "      <td>What makes corporations different in this case? They have interests too.</td>\n",
       "      <td>0</td>\n",
       "      <td>11</td>\n",
       "    </tr>\n",
       "    <tr>\n",
       "      <th>1</th>\n",
       "      <td>I'm sorry if your smugness gets in the way. Like I said elsewhere in this thread. Somolia is not close to anything I advocate for so why on earth would I move there? Any time the Somolia \"argument\" is brought up, I instantly know I'm dealing with someone who refuses to learn the difference between a voluntary society and a third world country ravaged by warlords and foreign policies of other countries. If you want a thoughtful response to an argument, make sure you're not comparing Antarctica to the Bahamas. Otherwise, take your circlejerk, \"arguments\" elsewhere. You have contributed absolutely nothing to this thread but ad hominem Attacks and the typical liberal/conservative talking points and almost everyone in here knows it.</td>\n",
       "      <td>1</td>\n",
       "      <td>114</td>\n",
       "    </tr>\n",
       "    <tr>\n",
       "      <th>2</th>\n",
       "      <td>Basically to believe a patriarchy exists, you must believe that men are maintaining a system of oppression against women, despite knowing the harm it does to both women and men.EG - Wanting to maintain a system that, among other things, condones severe anti-male bias in all facets of the legal system, simply isn't rational. Thus men, being the ones in power, want to oppress women so much they are willing to harm themselves to do it. It'd be like cutting off your own arm so you had something to club someone with.A long time ago one could say it was ignorance, but with how mainstream feminism thoughts are today this can no longer be true. So the actions of men to maintain the patriarchy must also be willful.How can a person believe this, and not hate men?</td>\n",
       "      <td>0</td>\n",
       "      <td>135</td>\n",
       "    </tr>\n",
       "    <tr>\n",
       "      <th>3</th>\n",
       "      <td>The punishment for heresy was being burned at the stake.</td>\n",
       "      <td>0</td>\n",
       "      <td>10</td>\n",
       "    </tr>\n",
       "    <tr>\n",
       "      <th>4</th>\n",
       "      <td>No it doesn't. Sex is defined by DNA. DNA cannot be changed from male to female. A sex change is putting lipstick on a pig. It may look different but it's still a pig</td>\n",
       "      <td>0</td>\n",
       "      <td>31</td>\n",
       "    </tr>\n",
       "  </tbody>\n",
       "</table>\n",
       "</div>"
      ],
      "text/plain": [
       "                                                                                                                                                                                                                                                                                                                                                                                                                                                                                                                                                                                                                                                                                                                                                                                          body  \\\n",
       "0  What makes corporations different in this case? They have interests too.                                                                                                                                                                                                                                                                                                                                                                                                                                                                                                                                                                                                                                                                                                                      \n",
       "1  I'm sorry if your smugness gets in the way. Like I said elsewhere in this thread. Somolia is not close to anything I advocate for so why on earth would I move there? Any time the Somolia \"argument\" is brought up, I instantly know I'm dealing with someone who refuses to learn the difference between a voluntary society and a third world country ravaged by warlords and foreign policies of other countries. If you want a thoughtful response to an argument, make sure you're not comparing Antarctica to the Bahamas. Otherwise, take your circlejerk, \"arguments\" elsewhere. You have contributed absolutely nothing to this thread but ad hominem Attacks and the typical liberal/conservative talking points and almost everyone in here knows it.                             \n",
       "2  Basically to believe a patriarchy exists, you must believe that men are maintaining a system of oppression against women, despite knowing the harm it does to both women and men.EG - Wanting to maintain a system that, among other things, condones severe anti-male bias in all facets of the legal system, simply isn't rational. Thus men, being the ones in power, want to oppress women so much they are willing to harm themselves to do it. It'd be like cutting off your own arm so you had something to club someone with.A long time ago one could say it was ignorance, but with how mainstream feminism thoughts are today this can no longer be true. So the actions of men to maintain the patriarchy must also be willful.How can a person believe this, and not hate men?   \n",
       "3  The punishment for heresy was being burned at the stake.                                                                                                                                                                                                                                                                                                                                                                                                                                                                                                                                                                                                                                                                                                                                      \n",
       "4  No it doesn't. Sex is defined by DNA. DNA cannot be changed from male to female. A sex change is putting lipstick on a pig. It may look different but it's still a pig                                                                                                                                                                                                                                                                                                                                                                                                                                                                                                                                                                                                                        \n",
       "\n",
       "   isAdHominem  length  \n",
       "0  0            11      \n",
       "1  1            114     \n",
       "2  0            135     \n",
       "3  0            10      \n",
       "4  0            31      "
      ]
     },
     "execution_count": 51,
     "metadata": {},
     "output_type": "execute_result"
    }
   ],
   "source": [
    "pd.set_option('display.max_colwidth', 0)\n",
    "df.head(n=5)"
   ]
  },
  {
   "cell_type": "code",
   "execution_count": 52,
   "metadata": {},
   "outputs": [
    {
     "name": "stdout",
     "output_type": "stream",
     "text": [
      "The indexes for the examples picked (in the original data frame) are 6608, 14258, 12268, 15433, 3798 and 7773.\n"
     ]
    }
   ],
   "source": [
    "ilong_true = df.loc[(df[\"length\"] > 300) & (df[\"length\"] < 400) & (df['isAdHominem'] == 1)].sample(n=1).index[0]\n",
    "ilong_false = df.loc[(df[\"length\"] > 300) & (df[\"length\"] < 400) & (df['isAdHominem'] == 0)].sample(n=1).index[0]\n",
    "imed_true = df.loc[(df[\"length\"] > 100) & (df[\"length\"] < 150) & (df['isAdHominem'] == 1)].sample(n=1).index[0]\n",
    "imed_false = df.loc[(df[\"length\"] > 100) & (df[\"length\"] < 150) & (df['isAdHominem'] == 0)].sample(n=1).index[0]\n",
    "ishort_true = df.loc[(df[\"length\"] > 10)  & (df[\"length\"] < 20)  & (df['isAdHominem'] == 1)].sample(n=1).index[0]\n",
    "ishort_false = df.loc[(df[\"length\"] > 10)  & (df[\"length\"] < 20)  & (df['isAdHominem'] == 0)].sample(n=1).index[0]\n",
    "print(\"The indexes for the examples picked (in the original data frame) are {}, {}, {}, {}, {} and {}.\".format(ilong_true, ilong_false, imed_true, imed_false, ishort_true, ishort_false))"
   ]
  },
  {
   "cell_type": "code",
   "execution_count": 53,
   "metadata": {},
   "outputs": [],
   "source": [
    "indexes = [ilong_true, ilong_false, imed_true, imed_false, ishort_true, ishort_false]\n",
    "df_samples = df.loc[indexes,:]"
   ]
  },
  {
   "cell_type": "markdown",
   "metadata": {},
   "source": [
    "## Filtering the dataset"
   ]
  },
  {
   "cell_type": "code",
   "execution_count": 54,
   "metadata": {},
   "outputs": [
    {
     "data": {
      "text/html": [
       "<div>\n",
       "<style scoped>\n",
       "    .dataframe tbody tr th:only-of-type {\n",
       "        vertical-align: middle;\n",
       "    }\n",
       "\n",
       "    .dataframe tbody tr th {\n",
       "        vertical-align: top;\n",
       "    }\n",
       "\n",
       "    .dataframe thead th {\n",
       "        text-align: right;\n",
       "    }\n",
       "</style>\n",
       "<table border=\"1\" class=\"dataframe\">\n",
       "  <thead>\n",
       "    <tr style=\"text-align: right;\">\n",
       "      <th></th>\n",
       "      <th>length</th>\n",
       "      <th>body</th>\n",
       "      <th>isAdHominem</th>\n",
       "    </tr>\n",
       "  </thead>\n",
       "  <tbody>\n",
       "    <tr>\n",
       "      <th>0</th>\n",
       "      <td>391</td>\n",
       "      <td>there no need to debate it just sent you the meriam webster definition so take it up with them interesting love for you to show me where said that but digress trump then goes on to suggest border wall stretching over the entire border not only is this inefficient but it is waste of money and there are number of arguments against wall you have to build it over rivers people homes and property rough terrain this is bad solution and it is absolutely bigoted think you should work on your reading comprehension skills posted my exact quote did never at any point say what you are wrongly attributing to me in fact in my response to you to clarify specifically noted that clearly you didn read it though so ll post it again lastly if you personally believe that trump border wall is good policy love to hear from you and ll gladly debate you on it don think you re necessarily bigot you might be for supporting the border wall but trump campaign promise for border wall was bigotry in my opinion and if you tell me you want wall to keep out those drug dealer murder rapists think you were bigot too you use strawmans over and over to argue with me kind of sad ll try and clarify again for you you re absolutely right if trump supports border wall because he is intolerant of mexicans that doesn make the border wall bad that is fallacy the border wall is bad for the many reasons posted and more but if trump supports border wall because he is intolerant yes he is being bigoted his reasons are not logical but racist that is bigotry and we know this because he said the reason for the border wall was that illegal mexican immigrants are drug dealers racists murderers that bigotry don think all trump supporters or all people who support the wall are bigoted they might be can read millions of people minds there is nothing inherent about wall that is racist or bigoted but if you support the wall because you don like mexicans that is bigotry if you support the wall because you think all illegal immigrants from mexico are drug dealers rapists murderers that is bigotry hopefully this helps you catch up and quit playing strawman</td>\n",
       "      <td>1</td>\n",
       "    </tr>\n",
       "    <tr>\n",
       "      <th>1</th>\n",
       "      <td>365</td>\n",
       "      <td>bullying is defined as the act of physical or emotional violence towards others at first glance that sounds bad and even looks bad when you see it between strangers teachers have campaigned to stop bullying and there have been expensive programs to curb this animalistic act here to argue that bullying is actually beneficial to not just society but to the individuals themselves the society as we all know not all humans are equal bullying is way for the fitter humans to rise above weaker humans this leads to gradual increase in fittness of the entire human race over time the fitter humans are given more power resources and mating options which benefits the entire human race over time this also lets families cut their losses early because if they have child not able to survive bullying then the child would be less likely to survive the environment and it would be waste of resources to invest in the doomed child evolutionarily speaking of course not morally the individual it may seem obvious that younger brother being bullied by his older brother is horrible and bad for the family unit as whole but what does the younger sibling do when he bullied does he cry yes does he hate his brother yes does he also go out and try to become better man to not be bullied anymore yes so even though bullying hurts the child emotionally and physicially in the short term the child actually makes physical and emotional gains in the long term because to not make those gains will just lead to more bullying the bullied child will actually become better version of his parallel self that was not bullied in parallel universe he ll be emotionally harder physicially stronger etc this is just the tip of the iceberg of course but should be enough to generilize my views to change them please prove that bullying has net negative effect on society and the bullied individual know bullying can cause negatives like longterm injuries that were meant to be short term but no system is perfect so please look at the average macro scale here maybe there are negatives that overlooking though</td>\n",
       "      <td>0</td>\n",
       "    </tr>\n",
       "    <tr>\n",
       "      <th>2</th>\n",
       "      <td>105</td>\n",
       "      <td>was just making sure you understood the word imply is very similar to the word suggest because that exactly what the ad does it states there are enemies it states they are violent and dangerous it states they should be fought with the clenched fist of truth it states the viewer should join that fight it follows those statements by reminding the viewer that this nice message of division comes from an organization centered around objects used to shoot people nice ad hominem though classy oh and playing that you didn understand my question to make me look dumb clever rhetorical strategies you have there</td>\n",
       "      <td>1</td>\n",
       "    </tr>\n",
       "    <tr>\n",
       "      <th>3</th>\n",
       "      <td>142</td>\n",
       "      <td>that kind of ridiculous thing to say by bringing guns to sit in they have threatened to shoot people they occupied federal building they are there illegally and it is the duty of the police to remove them they have forced showdown with law enforcement and they brought guns to it what non violent purpose do you have to bring guns to sit in either because want to shoot people or to make people afraid that you will shoot them if your goal is to make people afraid you will shoot them regardless of your personal subjective intent to pull the trigger you are outright threatening people you don get to use guns to defend yourself from law enforcement that is doing exactly their job if selling drugs and police officer tries to arrest me it not self defense if shoot him</td>\n",
       "      <td>0</td>\n",
       "    </tr>\n",
       "    <tr>\n",
       "      <th>4</th>\n",
       "      <td>14</td>\n",
       "      <td>ve been going to church all my life and you sound little grouchy too</td>\n",
       "      <td>1</td>\n",
       "    </tr>\n",
       "    <tr>\n",
       "      <th>5</th>\n",
       "      <td>15</td>\n",
       "      <td>number of times he actually grabbed woman by her pussy zerohe was stroking his ego</td>\n",
       "      <td>0</td>\n",
       "    </tr>\n",
       "  </tbody>\n",
       "</table>\n",
       "</div>"
      ],
      "text/plain": [
       "   length  \\\n",
       "0  391      \n",
       "1  365      \n",
       "2  105      \n",
       "3  142      \n",
       "4  14       \n",
       "5  15       \n",
       "\n",
       "                                                                                                                                                                                                                                                                                                                                                                                                                                                                                                                                                                                                                                                                                                                                                                                                                                                                                                                                                                                                                                                                                                                                                                                                                                                                                                                                                                                                                                                                                                                                                                                                                                                                                                                                                                                                                                                                                                                                                                                                                                                                                                                                                                                                                  body  \\\n",
       "0  there no need to debate it just sent you the meriam webster definition so take it up with them interesting love for you to show me where said that but digress trump then goes on to suggest border wall stretching over the entire border not only is this inefficient but it is waste of money and there are number of arguments against wall you have to build it over rivers people homes and property rough terrain this is bad solution and it is absolutely bigoted think you should work on your reading comprehension skills posted my exact quote did never at any point say what you are wrongly attributing to me in fact in my response to you to clarify specifically noted that clearly you didn read it though so ll post it again lastly if you personally believe that trump border wall is good policy love to hear from you and ll gladly debate you on it don think you re necessarily bigot you might be for supporting the border wall but trump campaign promise for border wall was bigotry in my opinion and if you tell me you want wall to keep out those drug dealer murder rapists think you were bigot too you use strawmans over and over to argue with me kind of sad ll try and clarify again for you you re absolutely right if trump supports border wall because he is intolerant of mexicans that doesn make the border wall bad that is fallacy the border wall is bad for the many reasons posted and more but if trump supports border wall because he is intolerant yes he is being bigoted his reasons are not logical but racist that is bigotry and we know this because he said the reason for the border wall was that illegal mexican immigrants are drug dealers racists murderers that bigotry don think all trump supporters or all people who support the wall are bigoted they might be can read millions of people minds there is nothing inherent about wall that is racist or bigoted but if you support the wall because you don like mexicans that is bigotry if you support the wall because you think all illegal immigrants from mexico are drug dealers rapists murderers that is bigotry hopefully this helps you catch up and quit playing strawman   \n",
       "1  bullying is defined as the act of physical or emotional violence towards others at first glance that sounds bad and even looks bad when you see it between strangers teachers have campaigned to stop bullying and there have been expensive programs to curb this animalistic act here to argue that bullying is actually beneficial to not just society but to the individuals themselves the society as we all know not all humans are equal bullying is way for the fitter humans to rise above weaker humans this leads to gradual increase in fittness of the entire human race over time the fitter humans are given more power resources and mating options which benefits the entire human race over time this also lets families cut their losses early because if they have child not able to survive bullying then the child would be less likely to survive the environment and it would be waste of resources to invest in the doomed child evolutionarily speaking of course not morally the individual it may seem obvious that younger brother being bullied by his older brother is horrible and bad for the family unit as whole but what does the younger sibling do when he bullied does he cry yes does he hate his brother yes does he also go out and try to become better man to not be bullied anymore yes so even though bullying hurts the child emotionally and physicially in the short term the child actually makes physical and emotional gains in the long term because to not make those gains will just lead to more bullying the bullied child will actually become better version of his parallel self that was not bullied in parallel universe he ll be emotionally harder physicially stronger etc this is just the tip of the iceberg of course but should be enough to generilize my views to change them please prove that bullying has net negative effect on society and the bullied individual know bullying can cause negatives like longterm injuries that were meant to be short term but no system is perfect so please look at the average macro scale here maybe there are negatives that overlooking though                                                     \n",
       "2  was just making sure you understood the word imply is very similar to the word suggest because that exactly what the ad does it states there are enemies it states they are violent and dangerous it states they should be fought with the clenched fist of truth it states the viewer should join that fight it follows those statements by reminding the viewer that this nice message of division comes from an organization centered around objects used to shoot people nice ad hominem though classy oh and playing that you didn understand my question to make me look dumb clever rhetorical strategies you have there                                                                                                                                                                                                                                                                                                                                                                                                                                                                                                                                                                                                                                                                                                                                                                                                                                                                                                                                                                                                                                                                                                                                                                                                                                                                                                                                                                                                                                                                                                                                                                                       \n",
       "3  that kind of ridiculous thing to say by bringing guns to sit in they have threatened to shoot people they occupied federal building they are there illegally and it is the duty of the police to remove them they have forced showdown with law enforcement and they brought guns to it what non violent purpose do you have to bring guns to sit in either because want to shoot people or to make people afraid that you will shoot them if your goal is to make people afraid you will shoot them regardless of your personal subjective intent to pull the trigger you are outright threatening people you don get to use guns to defend yourself from law enforcement that is doing exactly their job if selling drugs and police officer tries to arrest me it not self defense if shoot him                                                                                                                                                                                                                                                                                                                                                                                                                                                                                                                                                                                                                                                                                                                                                                                                                                                                                                                                                                                                                                                                                                                                                                                                                                                                                                                                                                                                                    \n",
       "4  ve been going to church all my life and you sound little grouchy too                                                                                                                                                                                                                                                                                                                                                                                                                                                                                                                                                                                                                                                                                                                                                                                                                                                                                                                                                                                                                                                                                                                                                                                                                                                                                                                                                                                                                                                                                                                                                                                                                                                                                                                                                                                                                                                                                                                                                                                                                                                                                                                                                  \n",
       "5  number of times he actually grabbed woman by her pussy zerohe was stroking his ego                                                                                                                                                                                                                                                                                                                                                                                                                                                                                                                                                                                                                                                                                                                                                                                                                                                                                                                                                                                                                                                                                                                                                                                                                                                                                                                                                                                                                                                                                                                                                                                                                                                                                                                                                                                                                                                                                                                                                                                                                                                                                                                                    \n",
       "\n",
       "   isAdHominem  \n",
       "0  1            \n",
       "1  0            \n",
       "2  1            \n",
       "3  0            \n",
       "4  1            \n",
       "5  0            "
      ]
     },
     "execution_count": 54,
     "metadata": {},
     "output_type": "execute_result"
    }
   ],
   "source": [
    "df_samples[\"body\"] = df_samples[\"body\"].apply(lambda x: \" \".join(simple_preprocess(str(x), deacc=True))) # Remove stop words, special characters, make everything lower case, etc.\n",
    "df_samples = df_samples.reset_index(drop=True).reindex([\"length\", \"body\", \"isAdHominem\"], axis=1)        # Reset new indexes for data frame and reorder columns (visualization purposes)\n",
    "df_samples"
   ]
  },
  {
   "cell_type": "markdown",
   "metadata": {},
   "source": [
    "## Neural Network/TFIDF\n",
    "From [here](../02_tfidf/neural_network.ipynb)."
   ]
  },
  {
   "cell_type": "code",
   "execution_count": 55,
   "metadata": {},
   "outputs": [
    {
     "data": {
      "text/plain": [
       "(6, 3000)"
      ]
     },
     "execution_count": 55,
     "metadata": {},
     "output_type": "execute_result"
    }
   ],
   "source": [
    "from keras import utils\n",
    "from keras.preprocessing import text, sequence\n",
    "from sklearn.model_selection import train_test_split\n",
    "from keras.models import model_from_json\n",
    "\n",
    "vocab_size = 3000\n",
    "\n",
    "tokenize = text.Tokenizer(num_words=vocab_size)\n",
    "#tokenize.fit_on_texts(result.headline_text)\n",
    "\n",
    "tokenize.fit_on_texts(df_samples[\"body\"]) # only fit on train\n",
    "x_test = tokenize.texts_to_matrix(df_samples[\"body\"])\n",
    "x_test.shape"
   ]
  },
  {
   "cell_type": "code",
   "execution_count": 56,
   "metadata": {},
   "outputs": [
    {
     "name": "stdout",
     "output_type": "stream",
     "text": [
      "Loaded model from disk\n"
     ]
    }
   ],
   "source": [
    "# load json and create model\n",
    "json_file = open('../02_tfidf/model.json', 'r')\n",
    "loaded_model_json = json_file.read()\n",
    "json_file.close()\n",
    "loaded_model = model_from_json(loaded_model_json)\n",
    "# load weights into new model\n",
    "loaded_model.load_weights(\"../02_tfidf/model.h5\")\n",
    "print(\"Loaded model from disk\")\n",
    " \n",
    "# evaluate loaded model on test data\n",
    "loaded_model.compile(loss='binary_crossentropy', optimizer='adam', metrics=['accuracy'])\n",
    "#score = loaded_model.evaluate(x_test, df_samples['isAdHominem'], verbose=0)\n",
    "ynew = loaded_model.predict_classes(x_test)"
   ]
  },
  {
   "cell_type": "code",
   "execution_count": 57,
   "metadata": {},
   "outputs": [
    {
     "data": {
      "text/html": [
       "<div>\n",
       "<style scoped>\n",
       "    .dataframe tbody tr th:only-of-type {\n",
       "        vertical-align: middle;\n",
       "    }\n",
       "\n",
       "    .dataframe tbody tr th {\n",
       "        vertical-align: top;\n",
       "    }\n",
       "\n",
       "    .dataframe thead th {\n",
       "        text-align: right;\n",
       "    }\n",
       "</style>\n",
       "<table border=\"1\" class=\"dataframe\">\n",
       "  <thead>\n",
       "    <tr style=\"text-align: right;\">\n",
       "      <th></th>\n",
       "      <th>length</th>\n",
       "      <th>body</th>\n",
       "      <th>isAdHominem</th>\n",
       "      <th>NN/TFIDF</th>\n",
       "    </tr>\n",
       "  </thead>\n",
       "  <tbody>\n",
       "    <tr>\n",
       "      <th>0</th>\n",
       "      <td>391</td>\n",
       "      <td>there no need to debate it just sent you the meriam webster definition so take it up with them interesting love for you to show me where said that but digress trump then goes on to suggest border wall stretching over the entire border not only is this inefficient but it is waste of money and there are number of arguments against wall you have to build it over rivers people homes and property rough terrain this is bad solution and it is absolutely bigoted think you should work on your reading comprehension skills posted my exact quote did never at any point say what you are wrongly attributing to me in fact in my response to you to clarify specifically noted that clearly you didn read it though so ll post it again lastly if you personally believe that trump border wall is good policy love to hear from you and ll gladly debate you on it don think you re necessarily bigot you might be for supporting the border wall but trump campaign promise for border wall was bigotry in my opinion and if you tell me you want wall to keep out those drug dealer murder rapists think you were bigot too you use strawmans over and over to argue with me kind of sad ll try and clarify again for you you re absolutely right if trump supports border wall because he is intolerant of mexicans that doesn make the border wall bad that is fallacy the border wall is bad for the many reasons posted and more but if trump supports border wall because he is intolerant yes he is being bigoted his reasons are not logical but racist that is bigotry and we know this because he said the reason for the border wall was that illegal mexican immigrants are drug dealers racists murderers that bigotry don think all trump supporters or all people who support the wall are bigoted they might be can read millions of people minds there is nothing inherent about wall that is racist or bigoted but if you support the wall because you don like mexicans that is bigotry if you support the wall because you think all illegal immigrants from mexico are drug dealers rapists murderers that is bigotry hopefully this helps you catch up and quit playing strawman</td>\n",
       "      <td>1</td>\n",
       "      <td>1</td>\n",
       "    </tr>\n",
       "    <tr>\n",
       "      <th>1</th>\n",
       "      <td>365</td>\n",
       "      <td>bullying is defined as the act of physical or emotional violence towards others at first glance that sounds bad and even looks bad when you see it between strangers teachers have campaigned to stop bullying and there have been expensive programs to curb this animalistic act here to argue that bullying is actually beneficial to not just society but to the individuals themselves the society as we all know not all humans are equal bullying is way for the fitter humans to rise above weaker humans this leads to gradual increase in fittness of the entire human race over time the fitter humans are given more power resources and mating options which benefits the entire human race over time this also lets families cut their losses early because if they have child not able to survive bullying then the child would be less likely to survive the environment and it would be waste of resources to invest in the doomed child evolutionarily speaking of course not morally the individual it may seem obvious that younger brother being bullied by his older brother is horrible and bad for the family unit as whole but what does the younger sibling do when he bullied does he cry yes does he hate his brother yes does he also go out and try to become better man to not be bullied anymore yes so even though bullying hurts the child emotionally and physicially in the short term the child actually makes physical and emotional gains in the long term because to not make those gains will just lead to more bullying the bullied child will actually become better version of his parallel self that was not bullied in parallel universe he ll be emotionally harder physicially stronger etc this is just the tip of the iceberg of course but should be enough to generilize my views to change them please prove that bullying has net negative effect on society and the bullied individual know bullying can cause negatives like longterm injuries that were meant to be short term but no system is perfect so please look at the average macro scale here maybe there are negatives that overlooking though</td>\n",
       "      <td>0</td>\n",
       "      <td>1</td>\n",
       "    </tr>\n",
       "    <tr>\n",
       "      <th>2</th>\n",
       "      <td>105</td>\n",
       "      <td>was just making sure you understood the word imply is very similar to the word suggest because that exactly what the ad does it states there are enemies it states they are violent and dangerous it states they should be fought with the clenched fist of truth it states the viewer should join that fight it follows those statements by reminding the viewer that this nice message of division comes from an organization centered around objects used to shoot people nice ad hominem though classy oh and playing that you didn understand my question to make me look dumb clever rhetorical strategies you have there</td>\n",
       "      <td>1</td>\n",
       "      <td>1</td>\n",
       "    </tr>\n",
       "    <tr>\n",
       "      <th>3</th>\n",
       "      <td>142</td>\n",
       "      <td>that kind of ridiculous thing to say by bringing guns to sit in they have threatened to shoot people they occupied federal building they are there illegally and it is the duty of the police to remove them they have forced showdown with law enforcement and they brought guns to it what non violent purpose do you have to bring guns to sit in either because want to shoot people or to make people afraid that you will shoot them if your goal is to make people afraid you will shoot them regardless of your personal subjective intent to pull the trigger you are outright threatening people you don get to use guns to defend yourself from law enforcement that is doing exactly their job if selling drugs and police officer tries to arrest me it not self defense if shoot him</td>\n",
       "      <td>0</td>\n",
       "      <td>1</td>\n",
       "    </tr>\n",
       "    <tr>\n",
       "      <th>4</th>\n",
       "      <td>14</td>\n",
       "      <td>ve been going to church all my life and you sound little grouchy too</td>\n",
       "      <td>1</td>\n",
       "      <td>1</td>\n",
       "    </tr>\n",
       "    <tr>\n",
       "      <th>5</th>\n",
       "      <td>15</td>\n",
       "      <td>number of times he actually grabbed woman by her pussy zerohe was stroking his ego</td>\n",
       "      <td>0</td>\n",
       "      <td>1</td>\n",
       "    </tr>\n",
       "  </tbody>\n",
       "</table>\n",
       "</div>"
      ],
      "text/plain": [
       "   length  \\\n",
       "0  391      \n",
       "1  365      \n",
       "2  105      \n",
       "3  142      \n",
       "4  14       \n",
       "5  15       \n",
       "\n",
       "                                                                                                                                                                                                                                                                                                                                                                                                                                                                                                                                                                                                                                                                                                                                                                                                                                                                                                                                                                                                                                                                                                                                                                                                                                                                                                                                                                                                                                                                                                                                                                                                                                                                                                                                                                                                                                                                                                                                                                                                                                                                                                                                                                                                                  body  \\\n",
       "0  there no need to debate it just sent you the meriam webster definition so take it up with them interesting love for you to show me where said that but digress trump then goes on to suggest border wall stretching over the entire border not only is this inefficient but it is waste of money and there are number of arguments against wall you have to build it over rivers people homes and property rough terrain this is bad solution and it is absolutely bigoted think you should work on your reading comprehension skills posted my exact quote did never at any point say what you are wrongly attributing to me in fact in my response to you to clarify specifically noted that clearly you didn read it though so ll post it again lastly if you personally believe that trump border wall is good policy love to hear from you and ll gladly debate you on it don think you re necessarily bigot you might be for supporting the border wall but trump campaign promise for border wall was bigotry in my opinion and if you tell me you want wall to keep out those drug dealer murder rapists think you were bigot too you use strawmans over and over to argue with me kind of sad ll try and clarify again for you you re absolutely right if trump supports border wall because he is intolerant of mexicans that doesn make the border wall bad that is fallacy the border wall is bad for the many reasons posted and more but if trump supports border wall because he is intolerant yes he is being bigoted his reasons are not logical but racist that is bigotry and we know this because he said the reason for the border wall was that illegal mexican immigrants are drug dealers racists murderers that bigotry don think all trump supporters or all people who support the wall are bigoted they might be can read millions of people minds there is nothing inherent about wall that is racist or bigoted but if you support the wall because you don like mexicans that is bigotry if you support the wall because you think all illegal immigrants from mexico are drug dealers rapists murderers that is bigotry hopefully this helps you catch up and quit playing strawman   \n",
       "1  bullying is defined as the act of physical or emotional violence towards others at first glance that sounds bad and even looks bad when you see it between strangers teachers have campaigned to stop bullying and there have been expensive programs to curb this animalistic act here to argue that bullying is actually beneficial to not just society but to the individuals themselves the society as we all know not all humans are equal bullying is way for the fitter humans to rise above weaker humans this leads to gradual increase in fittness of the entire human race over time the fitter humans are given more power resources and mating options which benefits the entire human race over time this also lets families cut their losses early because if they have child not able to survive bullying then the child would be less likely to survive the environment and it would be waste of resources to invest in the doomed child evolutionarily speaking of course not morally the individual it may seem obvious that younger brother being bullied by his older brother is horrible and bad for the family unit as whole but what does the younger sibling do when he bullied does he cry yes does he hate his brother yes does he also go out and try to become better man to not be bullied anymore yes so even though bullying hurts the child emotionally and physicially in the short term the child actually makes physical and emotional gains in the long term because to not make those gains will just lead to more bullying the bullied child will actually become better version of his parallel self that was not bullied in parallel universe he ll be emotionally harder physicially stronger etc this is just the tip of the iceberg of course but should be enough to generilize my views to change them please prove that bullying has net negative effect on society and the bullied individual know bullying can cause negatives like longterm injuries that were meant to be short term but no system is perfect so please look at the average macro scale here maybe there are negatives that overlooking though                                                     \n",
       "2  was just making sure you understood the word imply is very similar to the word suggest because that exactly what the ad does it states there are enemies it states they are violent and dangerous it states they should be fought with the clenched fist of truth it states the viewer should join that fight it follows those statements by reminding the viewer that this nice message of division comes from an organization centered around objects used to shoot people nice ad hominem though classy oh and playing that you didn understand my question to make me look dumb clever rhetorical strategies you have there                                                                                                                                                                                                                                                                                                                                                                                                                                                                                                                                                                                                                                                                                                                                                                                                                                                                                                                                                                                                                                                                                                                                                                                                                                                                                                                                                                                                                                                                                                                                                                                       \n",
       "3  that kind of ridiculous thing to say by bringing guns to sit in they have threatened to shoot people they occupied federal building they are there illegally and it is the duty of the police to remove them they have forced showdown with law enforcement and they brought guns to it what non violent purpose do you have to bring guns to sit in either because want to shoot people or to make people afraid that you will shoot them if your goal is to make people afraid you will shoot them regardless of your personal subjective intent to pull the trigger you are outright threatening people you don get to use guns to defend yourself from law enforcement that is doing exactly their job if selling drugs and police officer tries to arrest me it not self defense if shoot him                                                                                                                                                                                                                                                                                                                                                                                                                                                                                                                                                                                                                                                                                                                                                                                                                                                                                                                                                                                                                                                                                                                                                                                                                                                                                                                                                                                                                    \n",
       "4  ve been going to church all my life and you sound little grouchy too                                                                                                                                                                                                                                                                                                                                                                                                                                                                                                                                                                                                                                                                                                                                                                                                                                                                                                                                                                                                                                                                                                                                                                                                                                                                                                                                                                                                                                                                                                                                                                                                                                                                                                                                                                                                                                                                                                                                                                                                                                                                                                                                                  \n",
       "5  number of times he actually grabbed woman by her pussy zerohe was stroking his ego                                                                                                                                                                                                                                                                                                                                                                                                                                                                                                                                                                                                                                                                                                                                                                                                                                                                                                                                                                                                                                                                                                                                                                                                                                                                                                                                                                                                                                                                                                                                                                                                                                                                                                                                                                                                                                                                                                                                                                                                                                                                                                                                    \n",
       "\n",
       "   isAdHominem  NN/TFIDF  \n",
       "0  1            1         \n",
       "1  0            1         \n",
       "2  1            1         \n",
       "3  0            1         \n",
       "4  1            1         \n",
       "5  0            1         "
      ]
     },
     "execution_count": 57,
     "metadata": {},
     "output_type": "execute_result"
    }
   ],
   "source": [
    "df_samples[\"NN/TFIDF\"] = ynew\n",
    "df_samples"
   ]
  },
  {
   "cell_type": "markdown",
   "metadata": {},
   "source": [
    "## Neural Network/Word2Vec\n",
    "From [here](../02_tfidf/tfidf.ipynb)."
   ]
  },
  {
   "cell_type": "code",
   "execution_count": 58,
   "metadata": {},
   "outputs": [],
   "source": [
    "# I can't run it on my local computer due to memory limitations"
   ]
  },
  {
   "cell_type": "markdown",
   "metadata": {},
   "source": [
    "## LinearSVC/Word2Vec\n",
    "From [here](../02_tfidf/tfidf.ipynb)."
   ]
  },
  {
   "cell_type": "code",
   "execution_count": 59,
   "metadata": {},
   "outputs": [],
   "source": [
    "# I can't run it on my local computer due to memory limitations"
   ]
  },
  {
   "cell_type": "markdown",
   "metadata": {},
   "source": [
    "# SVMs/TFIDF\n",
    "\n",
    "SVMs tested:\n",
    "* `svm.NuSVC([nu, kernel, degree, gamma, …])`: Nu-Support Vector Classification.\n",
    "* `svm.SVC([C, kernel, degree, gamma, coef0, …])`: C-Support Vector Classification.\n",
    "* `svm.LinearSVR([epsilon, tol, C, loss, …])`: Linear Support Vector Regression.\n",
    "\n",
    "Kernels tested:\n",
    "* `linear`\n",
    "* `poly`\n",
    "* `sigmoid`\n",
    "* `rbf`\n",
    "\n",
    "From [here](../05_SVM/SVMs-kernels.ipynb)."
   ]
  },
  {
   "cell_type": "code",
   "execution_count": 60,
   "metadata": {},
   "outputs": [],
   "source": [
    "from sklearn.multiclass import OneVsOneClassifier\n",
    "from sklearn.svm import LinearSVC, NuSVC, OneClassSVM, SVC, SVR, l1_min_c\n",
    "from sklearn.model_selection import train_test_split\n",
    "import pandas as pd\n",
    "import numpy as np\n",
    "import gensim\n",
    "import sys\n",
    "sys.path.insert(0, '/home/mcunha/Documents/Classes/KW/G0B34a_knowledge_and_the_web/')\n",
    "import data.ad_hominem.tokenize_df\n",
    "from sklearn.metrics import confusion_matrix\n",
    "import itertools\n",
    "import matplotlib.pyplot as plt\n",
    "from sklearn.feature_extraction.text import TfidfVectorizer"
   ]
  },
  {
   "cell_type": "markdown",
   "metadata": {},
   "source": [
    "#### TdidfVectorizer used from [here](../02_tfidf/tfidf.ipynb)."
   ]
  },
  {
   "cell_type": "code",
   "execution_count": 66,
   "metadata": {},
   "outputs": [],
   "source": [
    "v = TfidfVectorizer(ngram_range = (1, 1), max_features=3000)\n",
    "desired_indices = [i for i in range(len(df.index)) if i not in indexes]\n",
    "df_notInSamples = df.iloc[desired_indices]\n",
    "\n",
    "train_data, test_data = train_test_split(df_notInSamples, test_size=0.3, random_state=3)\n",
    "v.fit(train_data['body'].values.astype('U'))\n",
    "\n",
    "x_train = v.transform(train_data['body'].values.astype('U'))\n",
    "y_train = list(train_data[\"isAdHominem\"])\n",
    "\n",
    "x_test = v.transform(df_samples['body'].values.astype('U'))\n",
    "y_test = list(df_samples[\"isAdHominem\"])"
   ]
  },
  {
   "cell_type": "markdown",
   "metadata": {},
   "source": [
    "## NuSVC/TFIDF\n",
    "The kernels to be used are:\n",
    "* `linear`\n",
    "* `poly`\n",
    "* `sigmoid`\n",
    "* `rbf`\n",
    "\n",
    "The kernel `rbf` was used in the [SVMs.ipynb](./SVMs.ipynb). Here for comparison."
   ]
  },
  {
   "cell_type": "code",
   "execution_count": 70,
   "metadata": {
    "scrolled": false
   },
   "outputs": [
    {
     "name": "stdout",
     "output_type": "stream",
     "text": [
      "Fitting NuSVC model...\n",
      "Done!\n",
      "CPU times: user 3min 3s, sys: 165 ms, total: 3min 3s\n",
      "Wall time: 3min 3s\n"
     ]
    }
   ],
   "source": [
    "%%time\n",
    "\n",
    "print(\"Fitting NuSVC model...\")\n",
    "nuModel = NuSVC(nu=0.05, kernel='linear').fit(x_train, y_train)\n",
    "print(\"Done!\")\n",
    "\n",
    "predicted = nuModel.predict(x_test)\n",
    "df_samples[\"NuSVC-linear/TFIDF\"] = predicted"
   ]
  },
  {
   "cell_type": "code",
   "execution_count": 71,
   "metadata": {
    "scrolled": false
   },
   "outputs": [
    {
     "name": "stdout",
     "output_type": "stream",
     "text": [
      "Fitting NuSVC model...\n",
      "Done!\n",
      "CPU times: user 9.91 s, sys: 4.02 ms, total: 9.92 s\n",
      "Wall time: 9.91 s\n"
     ]
    }
   ],
   "source": [
    "%%time\n",
    "\n",
    "print(\"Fitting NuSVC model...\")\n",
    "nuModel = NuSVC(nu=0.05, kernel='poly').fit(x_train, y_train)\n",
    "print(\"Done!\")\n",
    "\n",
    "predicted = nuModel.predict(x_test)\n",
    "\n",
    "df_samples[\"NuSVC-poly/TFIDF\"] = predicted"
   ]
  },
  {
   "cell_type": "code",
   "execution_count": 72,
   "metadata": {},
   "outputs": [
    {
     "name": "stdout",
     "output_type": "stream",
     "text": [
      "Fitting NuSVC model...\n",
      "Done!\n",
      "CPU times: user 12 s, sys: 4.5 ms, total: 12 s\n",
      "Wall time: 12 s\n"
     ]
    }
   ],
   "source": [
    "%%time\n",
    "\n",
    "print(\"Fitting NuSVC model...\")\n",
    "nuModel = NuSVC(nu=0.05, kernel='sigmoid').fit(x_train, y_train)\n",
    "print(\"Done!\")\n",
    "\n",
    "predicted = nuModel.predict(x_test)\n",
    "\n",
    "df_samples[\"NuSVC-sigmoid/TFIDF\"] = predicted"
   ]
  },
  {
   "cell_type": "code",
   "execution_count": 73,
   "metadata": {
    "scrolled": false
   },
   "outputs": [
    {
     "name": "stdout",
     "output_type": "stream",
     "text": [
      "Fitting NuSVC model...\n",
      "Done!\n",
      "CPU times: user 13.5 s, sys: 164 µs, total: 13.5 s\n",
      "Wall time: 13.5 s\n"
     ]
    }
   ],
   "source": [
    "%%time\n",
    "\n",
    "print(\"Fitting NuSVC model...\")\n",
    "nuModel = NuSVC(nu=0.05, kernel='rbf').fit(x_train, y_train)\n",
    "print(\"Done!\")\n",
    "\n",
    "predicted = nuModel.predict(x_test)\n",
    "\n",
    "df_samples[\"NuSVC-rbf/TFIDF\"] = predicted"
   ]
  },
  {
   "cell_type": "markdown",
   "metadata": {},
   "source": [
    "## SVC\n",
    "Theoretically equivalent to other methods (LinearSVC and NuSVC), but uses different implementations.\n",
    "* `LinearSVC` is equivalent to `SVC(kernel = 'linear')`\n",
    "* From documentation: *`SVC` and `NuSVC` are similar methods, but accept slightly different sets of parameters and have different mathematical formulations (see section [Mathematical formulation](https://scikit-learn.org/stable/modules/svm.html#svm-mathematical-formulation))\n",
    "\n",
    "The kernels to be used are:\n",
    "* `linear`\n",
    "* `poly`\n",
    "* `sigmoid`\n",
    "* `rbf`"
   ]
  },
  {
   "cell_type": "code",
   "execution_count": 74,
   "metadata": {
    "scrolled": true
   },
   "outputs": [
    {
     "name": "stdout",
     "output_type": "stream",
     "text": [
      "Fitting SVC model...\n",
      "Done!\n",
      "CPU times: user 35.2 s, sys: 51.8 ms, total: 35.2 s\n",
      "Wall time: 35.4 s\n"
     ]
    }
   ],
   "source": [
    "%%time\n",
    "\n",
    "print(\"Fitting SVC model...\")\n",
    "svcModel = SVC(kernel='poly').fit(x_train, y_train)\n",
    "print(\"Done!\")\n",
    "\n",
    "predicted = svcModel.predict(x_test)\n",
    "\n",
    "df_samples[\"SVC-poly/TFIDF\"] = predicted"
   ]
  },
  {
   "cell_type": "code",
   "execution_count": 75,
   "metadata": {
    "scrolled": true
   },
   "outputs": [
    {
     "name": "stdout",
     "output_type": "stream",
     "text": [
      "Fitting SVC model...\n",
      "Done!\n",
      "CPU times: user 37.1 s, sys: 76.4 ms, total: 37.2 s\n",
      "Wall time: 37.5 s\n"
     ]
    }
   ],
   "source": [
    "%%time\n",
    "\n",
    "print(\"Fitting SVC model...\")\n",
    "svcModel = SVC(kernel='sigmoid').fit(x_train, y_train)\n",
    "print(\"Done!\")\n",
    "\n",
    "predicted = svcModel.predict(x_test)\n",
    "\n",
    "df_samples[\"SVC-sigmoid/TFIDF\"] = predicted"
   ]
  },
  {
   "cell_type": "code",
   "execution_count": 76,
   "metadata": {
    "scrolled": true
   },
   "outputs": [
    {
     "name": "stdout",
     "output_type": "stream",
     "text": [
      "Fitting SVC model...\n",
      "Done!\n",
      "CPU times: user 39.2 s, sys: 87.2 ms, total: 39.3 s\n",
      "Wall time: 39.6 s\n"
     ]
    }
   ],
   "source": [
    "%%time\n",
    "\n",
    "print(\"Fitting SVC model...\")\n",
    "svcModel = SVC(kernel='rbf').fit(x_train, y_train)\n",
    "print(\"Done!\")\n",
    "\n",
    "predicted = svcModel.predict(x_test)\n",
    "\n",
    "df_samples[\"SVC-rbf/TFIDF\"] = predicted"
   ]
  },
  {
   "cell_type": "code",
   "execution_count": 77,
   "metadata": {
    "scrolled": false
   },
   "outputs": [
    {
     "name": "stdout",
     "output_type": "stream",
     "text": [
      "Fitting SVC model...\n",
      "Done!\n",
      "CPU times: user 59.4 s, sys: 207 ms, total: 59.6 s\n",
      "Wall time: 1min\n"
     ]
    }
   ],
   "source": [
    "%%time\n",
    "\n",
    "print(\"Fitting SVC model...\")\n",
    "svcModel = SVC(kernel='linear').fit(x_train, y_train)\n",
    "print(\"Done!\")\n",
    "\n",
    "predicted = svcModel.predict(x_test)\n",
    "\n",
    "df_samples[\"SVC-linear/TFIDF\"] = predicted"
   ]
  },
  {
   "cell_type": "markdown",
   "metadata": {},
   "source": [
    "## LinearSVC/TFIDF\n",
    "As seen before, it is equivalent to `SVC(kernel='linear'`, with implementation differences."
   ]
  },
  {
   "cell_type": "code",
   "execution_count": 78,
   "metadata": {},
   "outputs": [
    {
     "name": "stdout",
     "output_type": "stream",
     "text": [
      "Fitting linear model...\n",
      "Done!\n",
      "CPU times: user 258 ms, sys: 7.81 ms, total: 266 ms\n",
      "Wall time: 282 ms\n"
     ]
    }
   ],
   "source": [
    "%%time\n",
    "\n",
    "print(\"Fitting linear model...\")\n",
    "linearModel = LinearSVC().fit(x_train, y_train)\n",
    "print(\"Done!\")\n",
    "\n",
    "predicted = linearModel.predict(x_test)\n",
    "\n",
    "df_samples[\"linearSVC/TFIDF\"] = predicted"
   ]
  },
  {
   "cell_type": "code",
   "execution_count": 82,
   "metadata": {
    "scrolled": false
   },
   "outputs": [
    {
     "data": {
      "text/html": [
       "<div>\n",
       "<style scoped>\n",
       "    .dataframe tbody tr th:only-of-type {\n",
       "        vertical-align: middle;\n",
       "    }\n",
       "\n",
       "    .dataframe tbody tr th {\n",
       "        vertical-align: top;\n",
       "    }\n",
       "\n",
       "    .dataframe thead th {\n",
       "        text-align: right;\n",
       "    }\n",
       "</style>\n",
       "<table border=\"1\" class=\"dataframe\">\n",
       "  <thead>\n",
       "    <tr style=\"text-align: right;\">\n",
       "      <th></th>\n",
       "      <th>length</th>\n",
       "      <th>body</th>\n",
       "      <th>isAdHominem</th>\n",
       "      <th>NN/TFIDF</th>\n",
       "      <th>NuSVC-linear/TFIDF</th>\n",
       "      <th>NuSVC-poly/TFIDF</th>\n",
       "      <th>NuSVC-sigmoid/TFIDF</th>\n",
       "      <th>NuSVC-rbf/TFIDF</th>\n",
       "      <th>SVC-poly/TFIDF</th>\n",
       "      <th>SVC-sigmoid/TFIDF</th>\n",
       "      <th>SVC-rbf/TFIDF</th>\n",
       "      <th>SVC-linear/TFIDF</th>\n",
       "      <th>linearSVC/TFIDF</th>\n",
       "    </tr>\n",
       "  </thead>\n",
       "  <tbody>\n",
       "    <tr>\n",
       "      <th>0</th>\n",
       "      <td>391</td>\n",
       "      <td>there no need to debate it...</td>\n",
       "      <td>1</td>\n",
       "      <td>1</td>\n",
       "      <td>1</td>\n",
       "      <td>0</td>\n",
       "      <td>0</td>\n",
       "      <td>0</td>\n",
       "      <td>0</td>\n",
       "      <td>0</td>\n",
       "      <td>0</td>\n",
       "      <td>0</td>\n",
       "      <td>0</td>\n",
       "    </tr>\n",
       "    <tr>\n",
       "      <th>1</th>\n",
       "      <td>365</td>\n",
       "      <td>bullying is defined as the...</td>\n",
       "      <td>0</td>\n",
       "      <td>1</td>\n",
       "      <td>0</td>\n",
       "      <td>0</td>\n",
       "      <td>0</td>\n",
       "      <td>0</td>\n",
       "      <td>0</td>\n",
       "      <td>0</td>\n",
       "      <td>0</td>\n",
       "      <td>0</td>\n",
       "      <td>0</td>\n",
       "    </tr>\n",
       "    <tr>\n",
       "      <th>2</th>\n",
       "      <td>105</td>\n",
       "      <td>was just making sure you u...</td>\n",
       "      <td>1</td>\n",
       "      <td>1</td>\n",
       "      <td>0</td>\n",
       "      <td>0</td>\n",
       "      <td>0</td>\n",
       "      <td>1</td>\n",
       "      <td>0</td>\n",
       "      <td>0</td>\n",
       "      <td>0</td>\n",
       "      <td>0</td>\n",
       "      <td>0</td>\n",
       "    </tr>\n",
       "    <tr>\n",
       "      <th>3</th>\n",
       "      <td>142</td>\n",
       "      <td>that kind of ridiculous th...</td>\n",
       "      <td>0</td>\n",
       "      <td>1</td>\n",
       "      <td>0</td>\n",
       "      <td>0</td>\n",
       "      <td>0</td>\n",
       "      <td>1</td>\n",
       "      <td>0</td>\n",
       "      <td>0</td>\n",
       "      <td>0</td>\n",
       "      <td>0</td>\n",
       "      <td>0</td>\n",
       "    </tr>\n",
       "    <tr>\n",
       "      <th>4</th>\n",
       "      <td>14</td>\n",
       "      <td>ve been going to church al...</td>\n",
       "      <td>1</td>\n",
       "      <td>1</td>\n",
       "      <td>0</td>\n",
       "      <td>0</td>\n",
       "      <td>0</td>\n",
       "      <td>1</td>\n",
       "      <td>0</td>\n",
       "      <td>0</td>\n",
       "      <td>0</td>\n",
       "      <td>0</td>\n",
       "      <td>0</td>\n",
       "    </tr>\n",
       "    <tr>\n",
       "      <th>5</th>\n",
       "      <td>15</td>\n",
       "      <td>number of times he actuall...</td>\n",
       "      <td>0</td>\n",
       "      <td>1</td>\n",
       "      <td>0</td>\n",
       "      <td>0</td>\n",
       "      <td>0</td>\n",
       "      <td>0</td>\n",
       "      <td>0</td>\n",
       "      <td>0</td>\n",
       "      <td>0</td>\n",
       "      <td>0</td>\n",
       "      <td>0</td>\n",
       "    </tr>\n",
       "  </tbody>\n",
       "</table>\n",
       "</div>"
      ],
      "text/plain": [
       "   length                           body  isAdHominem  NN/TFIDF  \\\n",
       "0     391  there no need to debate it...            1         1   \n",
       "1     365  bullying is defined as the...            0         1   \n",
       "2     105  was just making sure you u...            1         1   \n",
       "3     142  that kind of ridiculous th...            0         1   \n",
       "4      14  ve been going to church al...            1         1   \n",
       "5      15  number of times he actuall...            0         1   \n",
       "\n",
       "   NuSVC-linear/TFIDF  NuSVC-poly/TFIDF  NuSVC-sigmoid/TFIDF  NuSVC-rbf/TFIDF  \\\n",
       "0                   1                 0                    0                0   \n",
       "1                   0                 0                    0                0   \n",
       "2                   0                 0                    0                1   \n",
       "3                   0                 0                    0                1   \n",
       "4                   0                 0                    0                1   \n",
       "5                   0                 0                    0                0   \n",
       "\n",
       "   SVC-poly/TFIDF  SVC-sigmoid/TFIDF  SVC-rbf/TFIDF  SVC-linear/TFIDF  \\\n",
       "0               0                  0              0                 0   \n",
       "1               0                  0              0                 0   \n",
       "2               0                  0              0                 0   \n",
       "3               0                  0              0                 0   \n",
       "4               0                  0              0                 0   \n",
       "5               0                  0              0                 0   \n",
       "\n",
       "   linearSVC/TFIDF  \n",
       "0                0  \n",
       "1                0  \n",
       "2                0  \n",
       "3                0  \n",
       "4                0  \n",
       "5                0  "
      ]
     },
     "execution_count": 82,
     "metadata": {},
     "output_type": "execute_result"
    }
   ],
   "source": [
    "pd.set_option('display.max_colwidth', 30)\n",
    "df_samples"
   ]
  },
  {
   "cell_type": "markdown",
   "metadata": {},
   "source": [
    "## Mixed Neural Network/Word2Vec + POS tags + Doc2Vec"
   ]
  },
  {
   "cell_type": "code",
   "execution_count": 84,
   "metadata": {},
   "outputs": [],
   "source": [
    "# Can't run locally due to memory limitations."
   ]
  },
  {
   "cell_type": "code",
   "execution_count": 85,
   "metadata": {},
   "outputs": [
    {
     "data": {
      "text/plain": [
       "<20448x3000 sparse matrix of type '<class 'numpy.float64'>'\n",
       "\twith 796531 stored elements in Compressed Sparse Row format>"
      ]
     },
     "execution_count": 85,
     "metadata": {},
     "output_type": "execute_result"
    }
   ],
   "source": [
    "x_train #doc2vec: vector_size=500"
   ]
  }
 ],
 "metadata": {
  "kernelspec": {
   "display_name": "Python 3",
   "language": "python",
   "name": "python3"
  },
  "language_info": {
   "codemirror_mode": {
    "name": "ipython",
    "version": 3
   },
   "file_extension": ".py",
   "mimetype": "text/x-python",
   "name": "python",
   "nbconvert_exporter": "python",
   "pygments_lexer": "ipython3",
   "version": "3.6.5"
  }
 },
 "nbformat": 4,
 "nbformat_minor": 2
}
