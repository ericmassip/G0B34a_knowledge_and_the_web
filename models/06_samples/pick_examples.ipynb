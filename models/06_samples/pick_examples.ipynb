{
 "cells": [
  {
   "cell_type": "markdown",
   "metadata": {},
   "source": [
    "# Selecting the examples for analisys\n",
    "Long, medium and short text entries\n"
   ]
  },
  {
   "cell_type": "code",
   "execution_count": 40,
   "metadata": {},
   "outputs": [],
   "source": [
    "import numpy as np\n",
    "import pandas as pd\n",
    "import random\n",
    "from gensim.utils import simple_preprocess"
   ]
  },
  {
   "cell_type": "code",
   "execution_count": 41,
   "metadata": {},
   "outputs": [
    {
     "name": "stdout",
     "output_type": "stream",
     "text": [
      "(29218, 2)\n"
     ]
    }
   ],
   "source": [
    "df = pd.read_csv(\"../../data/ad_hominem/ad_hominems_cleaned_Murilo.csv\", sep=\",\", index_col=0, header=0, names=[\"body\", \"isAdHominem\"])\n",
    "df = df[~df.isin([np.nan, np.inf, -np.inf, 'nan']).any(1)] ## Remove rows with NaN values\n",
    "print(df.shape)"
   ]
  },
  {
   "cell_type": "code",
   "execution_count": 42,
   "metadata": {},
   "outputs": [],
   "source": [
    "df[\"length\"] = df[\"body\"].apply(lambda x: len(simple_preprocess(x, deacc=True)))"
   ]
  },
  {
   "cell_type": "code",
   "execution_count": 43,
   "metadata": {},
   "outputs": [
    {
     "data": {
      "text/html": [
       "<div>\n",
       "<style scoped>\n",
       "    .dataframe tbody tr th:only-of-type {\n",
       "        vertical-align: middle;\n",
       "    }\n",
       "\n",
       "    .dataframe tbody tr th {\n",
       "        vertical-align: top;\n",
       "    }\n",
       "\n",
       "    .dataframe thead th {\n",
       "        text-align: right;\n",
       "    }\n",
       "</style>\n",
       "<table border=\"1\" class=\"dataframe\">\n",
       "  <thead>\n",
       "    <tr style=\"text-align: right;\">\n",
       "      <th></th>\n",
       "      <th>body</th>\n",
       "      <th>isAdHominem</th>\n",
       "      <th>length</th>\n",
       "    </tr>\n",
       "  </thead>\n",
       "  <tbody>\n",
       "    <tr>\n",
       "      <th>0</th>\n",
       "      <td>What makes corporations different in this case? They have interests too.</td>\n",
       "      <td>0</td>\n",
       "      <td>11</td>\n",
       "    </tr>\n",
       "    <tr>\n",
       "      <th>1</th>\n",
       "      <td>I'm sorry if your smugness gets in the way. Like I said elsewhere in this thread. Somolia is not close to anything I advocate for so why on earth would I move there? Any time the Somolia \"argument\" is brought up, I instantly know I'm dealing with someone who refuses to learn the difference between a voluntary society and a third world country ravaged by warlords and foreign policies of other countries. If you want a thoughtful response to an argument, make sure you're not comparing Antarctica to the Bahamas. Otherwise, take your circlejerk, \"arguments\" elsewhere. You have contributed absolutely nothing to this thread but ad hominem Attacks and the typical liberal/conservative talking points and almost everyone in here knows it.</td>\n",
       "      <td>1</td>\n",
       "      <td>114</td>\n",
       "    </tr>\n",
       "    <tr>\n",
       "      <th>2</th>\n",
       "      <td>Basically to believe a patriarchy exists, you must believe that men are maintaining a system of oppression against women, despite knowing the harm it does to both women and men.EG - Wanting to maintain a system that, among other things, condones severe anti-male bias in all facets of the legal system, simply isn't rational. Thus men, being the ones in power, want to oppress women so much they are willing to harm themselves to do it. It'd be like cutting off your own arm so you had something to club someone with.A long time ago one could say it was ignorance, but with how mainstream feminism thoughts are today this can no longer be true. So the actions of men to maintain the patriarchy must also be willful.How can a person believe this, and not hate men?</td>\n",
       "      <td>0</td>\n",
       "      <td>135</td>\n",
       "    </tr>\n",
       "    <tr>\n",
       "      <th>3</th>\n",
       "      <td>The punishment for heresy was being burned at the stake.</td>\n",
       "      <td>0</td>\n",
       "      <td>10</td>\n",
       "    </tr>\n",
       "    <tr>\n",
       "      <th>4</th>\n",
       "      <td>No it doesn't. Sex is defined by DNA. DNA cannot be changed from male to female. A sex change is putting lipstick on a pig. It may look different but it's still a pig</td>\n",
       "      <td>0</td>\n",
       "      <td>31</td>\n",
       "    </tr>\n",
       "  </tbody>\n",
       "</table>\n",
       "</div>"
      ],
      "text/plain": [
       "                                                                                                                                                                                                                                                                                                                                                                                                                                                                                                                                                                                                                                                                                                                                                                                          body  \\\n",
       "0  What makes corporations different in this case? They have interests too.                                                                                                                                                                                                                                                                                                                                                                                                                                                                                                                                                                                                                                                                                                                      \n",
       "1  I'm sorry if your smugness gets in the way. Like I said elsewhere in this thread. Somolia is not close to anything I advocate for so why on earth would I move there? Any time the Somolia \"argument\" is brought up, I instantly know I'm dealing with someone who refuses to learn the difference between a voluntary society and a third world country ravaged by warlords and foreign policies of other countries. If you want a thoughtful response to an argument, make sure you're not comparing Antarctica to the Bahamas. Otherwise, take your circlejerk, \"arguments\" elsewhere. You have contributed absolutely nothing to this thread but ad hominem Attacks and the typical liberal/conservative talking points and almost everyone in here knows it.                             \n",
       "2  Basically to believe a patriarchy exists, you must believe that men are maintaining a system of oppression against women, despite knowing the harm it does to both women and men.EG - Wanting to maintain a system that, among other things, condones severe anti-male bias in all facets of the legal system, simply isn't rational. Thus men, being the ones in power, want to oppress women so much they are willing to harm themselves to do it. It'd be like cutting off your own arm so you had something to club someone with.A long time ago one could say it was ignorance, but with how mainstream feminism thoughts are today this can no longer be true. So the actions of men to maintain the patriarchy must also be willful.How can a person believe this, and not hate men?   \n",
       "3  The punishment for heresy was being burned at the stake.                                                                                                                                                                                                                                                                                                                                                                                                                                                                                                                                                                                                                                                                                                                                      \n",
       "4  No it doesn't. Sex is defined by DNA. DNA cannot be changed from male to female. A sex change is putting lipstick on a pig. It may look different but it's still a pig                                                                                                                                                                                                                                                                                                                                                                                                                                                                                                                                                                                                                        \n",
       "\n",
       "   isAdHominem  length  \n",
       "0  0            11      \n",
       "1  1            114     \n",
       "2  0            135     \n",
       "3  0            10      \n",
       "4  0            31      "
      ]
     },
     "execution_count": 43,
     "metadata": {},
     "output_type": "execute_result"
    }
   ],
   "source": [
    "pd.set_option('display.max_colwidth', 0)\n",
    "df.head(n=5)"
   ]
  },
  {
   "cell_type": "code",
   "execution_count": 44,
   "metadata": {},
   "outputs": [
    {
     "name": "stdout",
     "output_type": "stream",
     "text": [
      "The indexes for the examples picked are 13816, 18153, 14708, 18461, 15940 and 60407.\n"
     ]
    }
   ],
   "source": [
    "ilong_true = df.loc[(df[\"length\"] > 300) & (df[\"length\"] < 400) & (df['isAdHominem'] == 1)].sample(n=1).index[0]\n",
    "ilong_false = df.loc[(df[\"length\"] > 300) & (df[\"length\"] < 400) & (df['isAdHominem'] == 0)].sample(n=1).index[0]\n",
    "imed_true = df.loc[(df[\"length\"] > 100) & (df[\"length\"] < 150) & (df['isAdHominem'] == 1)].sample(n=1).index[0]\n",
    "imed_false = df.loc[(df[\"length\"] > 100) & (df[\"length\"] < 150) & (df['isAdHominem'] == 0)].sample(n=1).index[0]\n",
    "ishort_true = df.loc[(df[\"length\"] > 10)  & (df[\"length\"] < 20)  & (df['isAdHominem'] == 1)].sample(n=1).index[0]\n",
    "ishort_false = df.loc[(df[\"length\"] > 10)  & (df[\"length\"] < 20)  & (df['isAdHominem'] == 0)].sample(n=1).index[0]\n",
    "print(\"The indexes for the examples picked are {}, {}, {}, {}, {} and {}.\".format(ilong_true, ilong_false, imed_true, imed_false, ishort_true, ishort_false))"
   ]
  },
  {
   "cell_type": "code",
   "execution_count": 45,
   "metadata": {},
   "outputs": [],
   "source": [
    "indexes = [ilong_true, ilong_false, imed_true, imed_false, ishort_true, ishort_false]\n",
    "df_samples = df.loc[indexes,:]"
   ]
  },
  {
   "cell_type": "markdown",
   "metadata": {},
   "source": [
    "## Cleaning the dataset"
   ]
  },
  {
   "cell_type": "code",
   "execution_count": 46,
   "metadata": {},
   "outputs": [
    {
     "data": {
      "text/html": [
       "<div>\n",
       "<style scoped>\n",
       "    .dataframe tbody tr th:only-of-type {\n",
       "        vertical-align: middle;\n",
       "    }\n",
       "\n",
       "    .dataframe tbody tr th {\n",
       "        vertical-align: top;\n",
       "    }\n",
       "\n",
       "    .dataframe thead th {\n",
       "        text-align: right;\n",
       "    }\n",
       "</style>\n",
       "<table border=\"1\" class=\"dataframe\">\n",
       "  <thead>\n",
       "    <tr style=\"text-align: right;\">\n",
       "      <th></th>\n",
       "      <th>length</th>\n",
       "      <th>body</th>\n",
       "      <th>isAdHominem</th>\n",
       "    </tr>\n",
       "  </thead>\n",
       "  <tbody>\n",
       "    <tr>\n",
       "      <th>0</th>\n",
       "      <td>326</td>\n",
       "      <td>lying is the act of intentionally saying something that you know is wrong it is not saying something that you think is true but might be wrong so no it not basically lying anyway can find the tribes was thinking about know saw some documentary about it way back but can for the life of me remember what it was called but found something called koteka it basically penis sheath and is worn in some tribes on new guinea while it still covers the penis it only covers the penis not the scrotum and not the skin around the penis it also looks like penis though often very long go figure the same concept can also be found in tropical africa and northern south america it possible the documentary saw was about people with penis gourds in other news just remembered one somewhat famous culture in which people don cover their genitals nudism there are also records of casual nudity as in non sexual during certain festivals as well as exercise in th century bce sparta and of course ancient greek olympic athletes competed naked tl dr not lying might ve been wrong but by definition wasn lying some tribes in africa south america and oceania wear penis gourds and casual nudity isn unheard of neither in history nor today edit also what do you mean that your point you never tried to make the point that don know if there are cultures around the world that don cover their genitals you someone else said that no part of the human body is inherently sexy to which replied that the penis and vagina are inherently sexy but that that still doesn necessarily mean we should cover them as there are cultures around the world that don though ll admit was wrong that there are plenty of these you then asked for examples you never tried to make point at least not to me edit couple words</td>\n",
       "      <td>1</td>\n",
       "    </tr>\n",
       "    <tr>\n",
       "      <th>1</th>\n",
       "      <td>362</td>\n",
       "      <td>voted republican in the past elections so since you re simply asking for explanations of these views ll offer few can say don care at all what people do in the privacy of their own homes but also don believe the government should be in the business of defining what marriage is one way or the other the concept of marriage is deeply tied to cultural and religious values which obviously vary drastically and will constantly be butting up against whatever legal definition we give it today but realize the tax benefits are an issue and don really know how to solve it most importantly though this is not deal breaker for me nor is it for almost any other republican personally know you re right it stupid most republicans know agree on immigration first we have to be with any claims about how many illegal immigrants are actually here seeing as there are pretty big discrepancies among the data but assuming pew is correct it doesn really get to the heart of the issue as trump supporter what see from majority of the people on the left is an unwillingness to admit that we should strive to eliminate illegal immigration and that this has to start with enforcement of the current law of the land see people demonized for simply acknowledging million illegals receiving many benefits that us citizens is definitely not ideal it will suck for some people to be denied entry but the intention is to bring them over legally not keep them out forever don really care about the wall care that our current laws are enforced the majority people recently who have stated this clearly and unambiguously are republicans but your argument here seems to be illegal immigration is decreasing faster than most republicans acknowledge and to that would say yes you are right will not get into the statistical claims because the debate see is about whether or not we should treat immigration to the usa as right or privilege people holding up nowall signs are most often against the idea of simply keeping people out not that the wall costs too much in my experience</td>\n",
       "      <td>0</td>\n",
       "    </tr>\n",
       "    <tr>\n",
       "      <th>2</th>\n",
       "      <td>112</td>\n",
       "      <td>you don seem to have any true concept of what hardship is people endure all kinds of hardships for variety of reasons work multiple jobs to support family march across the continent to protect your home support new idea in the face of hostile criticism travel to the new world to establish new life the list goes on and on and on compared to these many people would consider it privilege to colonize planet seriously it boggles my mind after all the hardships people have suffered including colonizing america that you think there would not be people willing to colonize mars maybe it time to get offline and experience some real life</td>\n",
       "      <td>1</td>\n",
       "    </tr>\n",
       "    <tr>\n",
       "      <th>3</th>\n",
       "      <td>136</td>\n",
       "      <td>this one pretty self explanatory satanism is religion and if you respect all religions that inherently must include satanism and this means that in any circumstance where it would be appropriate to for example say god bless or promote christian imagery besides churches or other places of worship of course where it is reasonable to only be promoting that particular religion it must be equally acceptable to say hail satan as well either that or all religions should be equally silenced but that would be just as unfair as well as oppressive to all religious people edit since people don get it apparently respect all religions is commonly used phrase regarding non discrimination against religions also pastafarianism is irrelevant wether or not it is religion changes nothing about satanism so you can cut that out too</td>\n",
       "      <td>0</td>\n",
       "    </tr>\n",
       "    <tr>\n",
       "      <th>4</th>\n",
       "      <td>12</td>\n",
       "      <td>it called atrocity tourism you come to gawk at all the stupid</td>\n",
       "      <td>1</td>\n",
       "    </tr>\n",
       "    <tr>\n",
       "      <th>5</th>\n",
       "      <td>16</td>\n",
       "      <td>the more the species raises their young as opposed to leaving them to fend for themselves</td>\n",
       "      <td>0</td>\n",
       "    </tr>\n",
       "  </tbody>\n",
       "</table>\n",
       "</div>"
      ],
      "text/plain": [
       "   length  \\\n",
       "0  326      \n",
       "1  362      \n",
       "2  112      \n",
       "3  136      \n",
       "4  12       \n",
       "5  16       \n",
       "\n",
       "                                                                                                                                                                                                                                                                                                                                                                                                                                                                                                                                                                                                                                                                                                                                                                                                                                                                                                                                                                                                                                                                                                                                                                                                                                                                                                                                                                                                                                                                                                                                                                                                                                                                                                                                                                                                                                                                                                                                                                                                                                                                                                                                body  \\\n",
       "0  lying is the act of intentionally saying something that you know is wrong it is not saying something that you think is true but might be wrong so no it not basically lying anyway can find the tribes was thinking about know saw some documentary about it way back but can for the life of me remember what it was called but found something called koteka it basically penis sheath and is worn in some tribes on new guinea while it still covers the penis it only covers the penis not the scrotum and not the skin around the penis it also looks like penis though often very long go figure the same concept can also be found in tropical africa and northern south america it possible the documentary saw was about people with penis gourds in other news just remembered one somewhat famous culture in which people don cover their genitals nudism there are also records of casual nudity as in non sexual during certain festivals as well as exercise in th century bce sparta and of course ancient greek olympic athletes competed naked tl dr not lying might ve been wrong but by definition wasn lying some tribes in africa south america and oceania wear penis gourds and casual nudity isn unheard of neither in history nor today edit also what do you mean that your point you never tried to make the point that don know if there are cultures around the world that don cover their genitals you someone else said that no part of the human body is inherently sexy to which replied that the penis and vagina are inherently sexy but that that still doesn necessarily mean we should cover them as there are cultures around the world that don though ll admit was wrong that there are plenty of these you then asked for examples you never tried to make point at least not to me edit couple words                                                                                                                                                                                                                                                                                     \n",
       "1  voted republican in the past elections so since you re simply asking for explanations of these views ll offer few can say don care at all what people do in the privacy of their own homes but also don believe the government should be in the business of defining what marriage is one way or the other the concept of marriage is deeply tied to cultural and religious values which obviously vary drastically and will constantly be butting up against whatever legal definition we give it today but realize the tax benefits are an issue and don really know how to solve it most importantly though this is not deal breaker for me nor is it for almost any other republican personally know you re right it stupid most republicans know agree on immigration first we have to be with any claims about how many illegal immigrants are actually here seeing as there are pretty big discrepancies among the data but assuming pew is correct it doesn really get to the heart of the issue as trump supporter what see from majority of the people on the left is an unwillingness to admit that we should strive to eliminate illegal immigration and that this has to start with enforcement of the current law of the land see people demonized for simply acknowledging million illegals receiving many benefits that us citizens is definitely not ideal it will suck for some people to be denied entry but the intention is to bring them over legally not keep them out forever don really care about the wall care that our current laws are enforced the majority people recently who have stated this clearly and unambiguously are republicans but your argument here seems to be illegal immigration is decreasing faster than most republicans acknowledge and to that would say yes you are right will not get into the statistical claims because the debate see is about whether or not we should treat immigration to the usa as right or privilege people holding up nowall signs are most often against the idea of simply keeping people out not that the wall costs too much in my experience   \n",
       "2  you don seem to have any true concept of what hardship is people endure all kinds of hardships for variety of reasons work multiple jobs to support family march across the continent to protect your home support new idea in the face of hostile criticism travel to the new world to establish new life the list goes on and on and on compared to these many people would consider it privilege to colonize planet seriously it boggles my mind after all the hardships people have suffered including colonizing america that you think there would not be people willing to colonize mars maybe it time to get offline and experience some real life                                                                                                                                                                                                                                                                                                                                                                                                                                                                                                                                                                                                                                                                                                                                                                                                                                                                                                                                                                                                                                                                                                                                                                                                                                                                                                                                                                                                                                                                          \n",
       "3  this one pretty self explanatory satanism is religion and if you respect all religions that inherently must include satanism and this means that in any circumstance where it would be appropriate to for example say god bless or promote christian imagery besides churches or other places of worship of course where it is reasonable to only be promoting that particular religion it must be equally acceptable to say hail satan as well either that or all religions should be equally silenced but that would be just as unfair as well as oppressive to all religious people edit since people don get it apparently respect all religions is commonly used phrase regarding non discrimination against religions also pastafarianism is irrelevant wether or not it is religion changes nothing about satanism so you can cut that out too                                                                                                                                                                                                                                                                                                                                                                                                                                                                                                                                                                                                                                                                                                                                                                                                                                                                                                                                                                                                                                                                                                                                                                                                                                                                               \n",
       "4  it called atrocity tourism you come to gawk at all the stupid                                                                                                                                                                                                                                                                                                                                                                                                                                                                                                                                                                                                                                                                                                                                                                                                                                                                                                                                                                                                                                                                                                                                                                                                                                                                                                                                                                                                                                                                                                                                                                                                                                                                                                                                                                                                                                                                                                                                                                                                                                                                       \n",
       "5  the more the species raises their young as opposed to leaving them to fend for themselves                                                                                                                                                                                                                                                                                                                                                                                                                                                                                                                                                                                                                                                                                                                                                                                                                                                                                                                                                                                                                                                                                                                                                                                                                                                                                                                                                                                                                                                                                                                                                                                                                                                                                                                                                                                                                                                                                                                                                                                                                                           \n",
       "\n",
       "   isAdHominem  \n",
       "0  1            \n",
       "1  0            \n",
       "2  1            \n",
       "3  0            \n",
       "4  1            \n",
       "5  0            "
      ]
     },
     "execution_count": 46,
     "metadata": {},
     "output_type": "execute_result"
    }
   ],
   "source": [
    "df_samples[\"body\"] = df_samples[\"body\"].apply(lambda x: \" \".join(simple_preprocess(str(x), deacc=True)))\n",
    "df_samples = df_samples.reset_index(drop=True).reindex([\"length\", \"body\", \"isAdHominem\"], axis=1)\n",
    "df_samples"
   ]
  },
  {
   "cell_type": "markdown",
   "metadata": {},
   "source": [
    "## Neural Network/TFIDF\n",
    "From [here](../02_tfidf/neural_network.ipynb)."
   ]
  },
  {
   "cell_type": "code",
   "execution_count": 47,
   "metadata": {},
   "outputs": [
    {
     "data": {
      "text/plain": [
       "(6, 3000)"
      ]
     },
     "execution_count": 47,
     "metadata": {},
     "output_type": "execute_result"
    }
   ],
   "source": [
    "from keras import utils\n",
    "from keras.preprocessing import text, sequence\n",
    "from sklearn.model_selection import train_test_split\n",
    "from keras.models import model_from_json\n",
    "\n",
    "vocab_size = 3000\n",
    "\n",
    "tokenize = text.Tokenizer(num_words=vocab_size)\n",
    "#tokenize.fit_on_texts(result.headline_text)\n",
    "\n",
    "tokenize.fit_on_texts(df_samples[\"body\"]) # only fit on train\n",
    "x_test = tokenize.texts_to_matrix(df_samples[\"body\"])\n",
    "x_test.shape"
   ]
  },
  {
   "cell_type": "code",
   "execution_count": 48,
   "metadata": {},
   "outputs": [
    {
     "name": "stdout",
     "output_type": "stream",
     "text": [
      "Loaded model from disk\n"
     ]
    }
   ],
   "source": [
    "# load json and create model\n",
    "json_file = open('../02_tfidf/model.json', 'r')\n",
    "loaded_model_json = json_file.read()\n",
    "json_file.close()\n",
    "loaded_model = model_from_json(loaded_model_json)\n",
    "# load weights into new model\n",
    "loaded_model.load_weights(\"../02_tfidf/model.h5\")\n",
    "print(\"Loaded model from disk\")\n",
    " \n",
    "# evaluate loaded model on test data\n",
    "loaded_model.compile(loss='binary_crossentropy', optimizer='adam', metrics=['accuracy'])\n",
    "#score = loaded_model.evaluate(x_test, df_samples['isAdHominem'], verbose=0)\n",
    "ynew = loaded_model.predict_classes(x_test)"
   ]
  },
  {
   "cell_type": "code",
   "execution_count": 49,
   "metadata": {},
   "outputs": [
    {
     "data": {
      "text/html": [
       "<div>\n",
       "<style scoped>\n",
       "    .dataframe tbody tr th:only-of-type {\n",
       "        vertical-align: middle;\n",
       "    }\n",
       "\n",
       "    .dataframe tbody tr th {\n",
       "        vertical-align: top;\n",
       "    }\n",
       "\n",
       "    .dataframe thead th {\n",
       "        text-align: right;\n",
       "    }\n",
       "</style>\n",
       "<table border=\"1\" class=\"dataframe\">\n",
       "  <thead>\n",
       "    <tr style=\"text-align: right;\">\n",
       "      <th></th>\n",
       "      <th>length</th>\n",
       "      <th>body</th>\n",
       "      <th>isAdHominem</th>\n",
       "      <th>NN/TFIDF</th>\n",
       "    </tr>\n",
       "  </thead>\n",
       "  <tbody>\n",
       "    <tr>\n",
       "      <th>0</th>\n",
       "      <td>326</td>\n",
       "      <td>lying is the act of intentionally saying something that you know is wrong it is not saying something that you think is true but might be wrong so no it not basically lying anyway can find the tribes was thinking about know saw some documentary about it way back but can for the life of me remember what it was called but found something called koteka it basically penis sheath and is worn in some tribes on new guinea while it still covers the penis it only covers the penis not the scrotum and not the skin around the penis it also looks like penis though often very long go figure the same concept can also be found in tropical africa and northern south america it possible the documentary saw was about people with penis gourds in other news just remembered one somewhat famous culture in which people don cover their genitals nudism there are also records of casual nudity as in non sexual during certain festivals as well as exercise in th century bce sparta and of course ancient greek olympic athletes competed naked tl dr not lying might ve been wrong but by definition wasn lying some tribes in africa south america and oceania wear penis gourds and casual nudity isn unheard of neither in history nor today edit also what do you mean that your point you never tried to make the point that don know if there are cultures around the world that don cover their genitals you someone else said that no part of the human body is inherently sexy to which replied that the penis and vagina are inherently sexy but that that still doesn necessarily mean we should cover them as there are cultures around the world that don though ll admit was wrong that there are plenty of these you then asked for examples you never tried to make point at least not to me edit couple words</td>\n",
       "      <td>1</td>\n",
       "      <td>1</td>\n",
       "    </tr>\n",
       "    <tr>\n",
       "      <th>1</th>\n",
       "      <td>362</td>\n",
       "      <td>voted republican in the past elections so since you re simply asking for explanations of these views ll offer few can say don care at all what people do in the privacy of their own homes but also don believe the government should be in the business of defining what marriage is one way or the other the concept of marriage is deeply tied to cultural and religious values which obviously vary drastically and will constantly be butting up against whatever legal definition we give it today but realize the tax benefits are an issue and don really know how to solve it most importantly though this is not deal breaker for me nor is it for almost any other republican personally know you re right it stupid most republicans know agree on immigration first we have to be with any claims about how many illegal immigrants are actually here seeing as there are pretty big discrepancies among the data but assuming pew is correct it doesn really get to the heart of the issue as trump supporter what see from majority of the people on the left is an unwillingness to admit that we should strive to eliminate illegal immigration and that this has to start with enforcement of the current law of the land see people demonized for simply acknowledging million illegals receiving many benefits that us citizens is definitely not ideal it will suck for some people to be denied entry but the intention is to bring them over legally not keep them out forever don really care about the wall care that our current laws are enforced the majority people recently who have stated this clearly and unambiguously are republicans but your argument here seems to be illegal immigration is decreasing faster than most republicans acknowledge and to that would say yes you are right will not get into the statistical claims because the debate see is about whether or not we should treat immigration to the usa as right or privilege people holding up nowall signs are most often against the idea of simply keeping people out not that the wall costs too much in my experience</td>\n",
       "      <td>0</td>\n",
       "      <td>1</td>\n",
       "    </tr>\n",
       "    <tr>\n",
       "      <th>2</th>\n",
       "      <td>112</td>\n",
       "      <td>you don seem to have any true concept of what hardship is people endure all kinds of hardships for variety of reasons work multiple jobs to support family march across the continent to protect your home support new idea in the face of hostile criticism travel to the new world to establish new life the list goes on and on and on compared to these many people would consider it privilege to colonize planet seriously it boggles my mind after all the hardships people have suffered including colonizing america that you think there would not be people willing to colonize mars maybe it time to get offline and experience some real life</td>\n",
       "      <td>1</td>\n",
       "      <td>1</td>\n",
       "    </tr>\n",
       "    <tr>\n",
       "      <th>3</th>\n",
       "      <td>136</td>\n",
       "      <td>this one pretty self explanatory satanism is religion and if you respect all religions that inherently must include satanism and this means that in any circumstance where it would be appropriate to for example say god bless or promote christian imagery besides churches or other places of worship of course where it is reasonable to only be promoting that particular religion it must be equally acceptable to say hail satan as well either that or all religions should be equally silenced but that would be just as unfair as well as oppressive to all religious people edit since people don get it apparently respect all religions is commonly used phrase regarding non discrimination against religions also pastafarianism is irrelevant wether or not it is religion changes nothing about satanism so you can cut that out too</td>\n",
       "      <td>0</td>\n",
       "      <td>1</td>\n",
       "    </tr>\n",
       "    <tr>\n",
       "      <th>4</th>\n",
       "      <td>12</td>\n",
       "      <td>it called atrocity tourism you come to gawk at all the stupid</td>\n",
       "      <td>1</td>\n",
       "      <td>1</td>\n",
       "    </tr>\n",
       "    <tr>\n",
       "      <th>5</th>\n",
       "      <td>16</td>\n",
       "      <td>the more the species raises their young as opposed to leaving them to fend for themselves</td>\n",
       "      <td>0</td>\n",
       "      <td>1</td>\n",
       "    </tr>\n",
       "  </tbody>\n",
       "</table>\n",
       "</div>"
      ],
      "text/plain": [
       "   length  \\\n",
       "0  326      \n",
       "1  362      \n",
       "2  112      \n",
       "3  136      \n",
       "4  12       \n",
       "5  16       \n",
       "\n",
       "                                                                                                                                                                                                                                                                                                                                                                                                                                                                                                                                                                                                                                                                                                                                                                                                                                                                                                                                                                                                                                                                                                                                                                                                                                                                                                                                                                                                                                                                                                                                                                                                                                                                                                                                                                                                                                                                                                                                                                                                                                                                                                                                body  \\\n",
       "0  lying is the act of intentionally saying something that you know is wrong it is not saying something that you think is true but might be wrong so no it not basically lying anyway can find the tribes was thinking about know saw some documentary about it way back but can for the life of me remember what it was called but found something called koteka it basically penis sheath and is worn in some tribes on new guinea while it still covers the penis it only covers the penis not the scrotum and not the skin around the penis it also looks like penis though often very long go figure the same concept can also be found in tropical africa and northern south america it possible the documentary saw was about people with penis gourds in other news just remembered one somewhat famous culture in which people don cover their genitals nudism there are also records of casual nudity as in non sexual during certain festivals as well as exercise in th century bce sparta and of course ancient greek olympic athletes competed naked tl dr not lying might ve been wrong but by definition wasn lying some tribes in africa south america and oceania wear penis gourds and casual nudity isn unheard of neither in history nor today edit also what do you mean that your point you never tried to make the point that don know if there are cultures around the world that don cover their genitals you someone else said that no part of the human body is inherently sexy to which replied that the penis and vagina are inherently sexy but that that still doesn necessarily mean we should cover them as there are cultures around the world that don though ll admit was wrong that there are plenty of these you then asked for examples you never tried to make point at least not to me edit couple words                                                                                                                                                                                                                                                                                     \n",
       "1  voted republican in the past elections so since you re simply asking for explanations of these views ll offer few can say don care at all what people do in the privacy of their own homes but also don believe the government should be in the business of defining what marriage is one way or the other the concept of marriage is deeply tied to cultural and religious values which obviously vary drastically and will constantly be butting up against whatever legal definition we give it today but realize the tax benefits are an issue and don really know how to solve it most importantly though this is not deal breaker for me nor is it for almost any other republican personally know you re right it stupid most republicans know agree on immigration first we have to be with any claims about how many illegal immigrants are actually here seeing as there are pretty big discrepancies among the data but assuming pew is correct it doesn really get to the heart of the issue as trump supporter what see from majority of the people on the left is an unwillingness to admit that we should strive to eliminate illegal immigration and that this has to start with enforcement of the current law of the land see people demonized for simply acknowledging million illegals receiving many benefits that us citizens is definitely not ideal it will suck for some people to be denied entry but the intention is to bring them over legally not keep them out forever don really care about the wall care that our current laws are enforced the majority people recently who have stated this clearly and unambiguously are republicans but your argument here seems to be illegal immigration is decreasing faster than most republicans acknowledge and to that would say yes you are right will not get into the statistical claims because the debate see is about whether or not we should treat immigration to the usa as right or privilege people holding up nowall signs are most often against the idea of simply keeping people out not that the wall costs too much in my experience   \n",
       "2  you don seem to have any true concept of what hardship is people endure all kinds of hardships for variety of reasons work multiple jobs to support family march across the continent to protect your home support new idea in the face of hostile criticism travel to the new world to establish new life the list goes on and on and on compared to these many people would consider it privilege to colonize planet seriously it boggles my mind after all the hardships people have suffered including colonizing america that you think there would not be people willing to colonize mars maybe it time to get offline and experience some real life                                                                                                                                                                                                                                                                                                                                                                                                                                                                                                                                                                                                                                                                                                                                                                                                                                                                                                                                                                                                                                                                                                                                                                                                                                                                                                                                                                                                                                                                          \n",
       "3  this one pretty self explanatory satanism is religion and if you respect all religions that inherently must include satanism and this means that in any circumstance where it would be appropriate to for example say god bless or promote christian imagery besides churches or other places of worship of course where it is reasonable to only be promoting that particular religion it must be equally acceptable to say hail satan as well either that or all religions should be equally silenced but that would be just as unfair as well as oppressive to all religious people edit since people don get it apparently respect all religions is commonly used phrase regarding non discrimination against religions also pastafarianism is irrelevant wether or not it is religion changes nothing about satanism so you can cut that out too                                                                                                                                                                                                                                                                                                                                                                                                                                                                                                                                                                                                                                                                                                                                                                                                                                                                                                                                                                                                                                                                                                                                                                                                                                                                               \n",
       "4  it called atrocity tourism you come to gawk at all the stupid                                                                                                                                                                                                                                                                                                                                                                                                                                                                                                                                                                                                                                                                                                                                                                                                                                                                                                                                                                                                                                                                                                                                                                                                                                                                                                                                                                                                                                                                                                                                                                                                                                                                                                                                                                                                                                                                                                                                                                                                                                                                       \n",
       "5  the more the species raises their young as opposed to leaving them to fend for themselves                                                                                                                                                                                                                                                                                                                                                                                                                                                                                                                                                                                                                                                                                                                                                                                                                                                                                                                                                                                                                                                                                                                                                                                                                                                                                                                                                                                                                                                                                                                                                                                                                                                                                                                                                                                                                                                                                                                                                                                                                                           \n",
       "\n",
       "   isAdHominem  NN/TFIDF  \n",
       "0  1            1         \n",
       "1  0            1         \n",
       "2  1            1         \n",
       "3  0            1         \n",
       "4  1            1         \n",
       "5  0            1         "
      ]
     },
     "execution_count": 49,
     "metadata": {},
     "output_type": "execute_result"
    }
   ],
   "source": [
    "df_samples[\"NN/TFIDF\"] = ynew\n",
    "df_samples"
   ]
  },
  {
   "cell_type": "markdown",
   "metadata": {},
   "source": [
    "## Neural Network/Word2Vec\n",
    "From [here](../02_tfidf/tfidf.ipynb)."
   ]
  },
  {
   "cell_type": "code",
   "execution_count": null,
   "metadata": {},
   "outputs": [],
   "source": []
  },
  {
   "cell_type": "markdown",
   "metadata": {},
   "source": [
    "## LinearSVC/Word2Vec\n",
    "From [here](../02_tfidf/tfidf.ipynb)."
   ]
  },
  {
   "cell_type": "code",
   "execution_count": null,
   "metadata": {},
   "outputs": [],
   "source": []
  },
  {
   "cell_type": "code",
   "execution_count": null,
   "metadata": {},
   "outputs": [],
   "source": [
    "## LinearSVC/TFIDF\n",
    "From [here](../05)"
   ]
  },
  {
   "cell_type": "code",
   "execution_count": null,
   "metadata": {},
   "outputs": [],
   "source": [
    "from sklearn.model_selection import train_test_split\n",
    "\n",
    "train, test = train_test_split( df, test_size=0.3, random_state=1)\n",
    "\n",
    "print(\"In total, the train contains\", sum(train[\"isAdHominem\"] == True), \"ad hominems\")\n",
    "print(\"In total, the test contains\", sum(test[\"isAdHominem\"] == True), \"ad hominems\")"
   ]
  },
  {
   "cell_type": "code",
   "execution_count": null,
   "metadata": {},
   "outputs": [],
   "source": [
    "def plot_confusion_matrix(cm, classes,\n",
    "                          normalize=False,\n",
    "                          title='Confusion matrix',\n",
    "                          cmap=plt.cm.Blues):\n",
    "    \"\"\"\n",
    "    This function prints and plots the confusion matrix.\n",
    "    Normalization can be applied by setting `normalize=True`.\n",
    "    \"\"\"\n",
    "    if normalize:\n",
    "        cm = cm.astype('float') / cm.sum(axis=1)[:, np.newaxis]\n",
    "        print(\"Normalized confusion matrix\")\n",
    "    else:\n",
    "        print('Confusion matrix, without normalization')\n",
    "\n",
    "    print(cm)\n",
    "\n",
    "    plt.imshow(cm, interpolation='nearest', cmap=cmap, vmin=0)\n",
    "    plt.title(title)\n",
    "    plt.colorbar()\n",
    "    tick_marks = np.arange(len(classes))\n",
    "    plt.xticks(tick_marks, classes, rotation=45)\n",
    "    plt.yticks(tick_marks, classes)\n",
    "\n",
    "    fmt = '.2f' if normalize else 'd'\n",
    "    thresh = cm.max() / 2.\n",
    "    \n",
    "    for i, j in itertools.product(range(cm.shape[0]), range(cm.shape[1])):\n",
    "        plt.text(j, i, format(cm[i, j], fmt),\n",
    "                 horizontalalignment=\"center\",\n",
    "                 color=\"white\" if cm[i, j] > thresh else \"black\")\n",
    "        \n",
    "    plt.tight_layout()\n",
    "    plt.ylabel('True label')\n",
    "    plt.xlabel('Predicted label')"
   ]
  },
  {
   "cell_type": "code",
   "execution_count": null,
   "metadata": {},
   "outputs": [],
   "source": [
    "print(\"importing word2vec\")\n",
    "wv_from_bin = KeyedVectors.load_word2vec_format(\"~/notebooks/word2vec-GoogleNews-vectors/GoogleNews-vectors-negative300.bin.gz\", binary=True)  # C binary format\n",
    "print(\"imported word2vec\")"
   ]
  },
  {
   "cell_type": "code",
   "execution_count": null,
   "metadata": {},
   "outputs": [],
   "source": [
    "def combineData( dataset, length ):  \n",
    "    paragraphRepresentations = np.zeros((len(dataset), maxLength, 300))\n",
    "    \n",
    "    for i, paragraph in enumerate(dataset[\"body\"]):\n",
    "        if (100* i / dataset.shape[0] % 10 == 0):\n",
    "            print(\"{} of {} ({} %)\\r\".format(i, dataset.shape[0], 100* i / dataset.shape[0]))\n",
    "        \n",
    "        # Enumerate over the words in the tags-array (col 0 = words, col 1 = POS tags)\n",
    "        for j, word in enumerate(simple_preprocess(paragraph, deacc=True)):\n",
    "            #print(\"{}: {} ({})\".format(i, j, word))\n",
    "            if word.lower() in wv_from_bin:\n",
    "                paragraphRepresentations[i, j] = wv_from_bin[word.lower()] \n",
    "    return paragraphRepresentations"
   ]
  },
  {
   "cell_type": "code",
   "execution_count": null,
   "metadata": {},
   "outputs": [],
   "source": [
    "maxLength = df[\"length\"].max() \n",
    "print(\"Start train data\")\n",
    "train_vectors = combineData(train, maxLength)"
   ]
  },
  {
   "cell_type": "code",
   "execution_count": null,
   "metadata": {},
   "outputs": [],
   "source": [
    "test_vectors = combineData(test, maxLength)"
   ]
  },
  {
   "cell_type": "code",
   "execution_count": null,
   "metadata": {},
   "outputs": [],
   "source": [
    "train_vectors.shape"
   ]
  },
  {
   "cell_type": "code",
   "execution_count": null,
   "metadata": {},
   "outputs": [],
   "source": [
    "test_vectors.shape"
   ]
  },
  {
   "cell_type": "code",
   "execution_count": null,
   "metadata": {},
   "outputs": [],
   "source": [
    "batch_size = 128\n",
    "epochs = 10"
   ]
  },
  {
   "cell_type": "markdown",
   "metadata": {},
   "source": [
    "## Fix imbalance"
   ]
  },
  {
   "cell_type": "code",
   "execution_count": null,
   "metadata": {},
   "outputs": [],
   "source": [
    "from sklearn.utils import class_weight\n",
    "class_weights = class_weight.compute_class_weight('balanced',\n",
    "                                                 np.unique(train[\"isAdHominem\"]),\n",
    "                                                 train[\"isAdHominem\"])"
   ]
  },
  {
   "cell_type": "code",
   "execution_count": null,
   "metadata": {},
   "outputs": [],
   "source": [
    "class_weights"
   ]
  },
  {
   "cell_type": "code",
   "execution_count": null,
   "metadata": {},
   "outputs": [],
   "source": [
    "from keras.models import Sequential\n",
    "from keras.layers import Masking\n",
    "from keras.layers import LSTM, Bidirectional, GRU\n",
    "from keras.layers import Dense, Activation, Dropout\n",
    "from keras.callbacks import ModelCheckpoint\n",
    "from keras.utils import np_utils\n",
    "import tensorflow as tf\n",
    "\n",
    "model = Sequential()\n",
    "model.add(Masking(mask_value=0., input_shape=(maxLength, 300)))\n",
    "model.add(Bidirectional(GRU(10, return_sequences=True), merge_mode='concat'))\n",
    "model.add(Bidirectional(GRU(10), merge_mode='concat'))\n",
    "model.add(Dense(64))\n",
    "model.add(Dense(2, activation=\"softmax\"))\n",
    "#model.add(Activation('softmax'))\n",
    "model.compile(loss='binary_crossentropy', optimizer='adadelta', metrics=['accuracy'])"
   ]
  },
  {
   "cell_type": "code",
   "execution_count": null,
   "metadata": {},
   "outputs": [],
   "source": [
    "model.summary()"
   ]
  },
  {
   "cell_type": "code",
   "execution_count": null,
   "metadata": {},
   "outputs": [],
   "source": [
    "history = model.fit(train_vectors, np.array([train[\"isAdHominem\"], 1-train[\"isAdHominem\"]]).T,\n",
    "                    batch_size=batch_size,\n",
    "                    epochs=epochs,\n",
    "                    verbose=1,\n",
    "                    validation_split=0.1,\n",
    "                    class_weight=class_weights)"
   ]
  },
  {
   "cell_type": "code",
   "execution_count": null,
   "metadata": {},
   "outputs": [],
   "source": [
    "test_predicted = model.predict(test_vectors)"
   ]
  },
  {
   "cell_type": "raw",
   "metadata": {},
   "source": [
    "# Compute confusion matrix\n",
    "cnf_matrix = confusion_matrix(test[\"isAdHominem\"], test_predicted[:,0] > test_predicted[:,1])\n",
    "\n",
    "np.set_printoptions(precision=2)\n",
    "\n",
    "title=\"Confusion matrix for neural network with word2vec embeddings\"\n",
    "\n",
    "# Plot normalized confusion matrix\n",
    "fig = plt.figure()\n",
    "plot_confusion_matrix(cnf_matrix, classes=[\"no ad hominem\", \"ad hominem\"],normalize=False, \n",
    "                      title=title)\n",
    "\n",
    "#print('plots exported.png')\n",
    "#fig.savefig(\"model03_not_normalized.png\")\n",
    "\n",
    "# Plot non-normalized confusion matrix\n",
    "fig = plt.figure()\n",
    "plot_confusion_matrix(cnf_matrix, classes=[\"no ad hominem\", \"ad hominem\"],normalize=True, \n",
    "                      title=title)\n",
    "#fig.savefig(\"model03_normalized.png\")"
   ]
  },
  {
   "cell_type": "code",
   "execution_count": null,
   "metadata": {},
   "outputs": [],
   "source": [
    "model.save_weights(\"mode06.h5\")"
   ]
  },
  {
   "cell_type": "markdown",
   "metadata": {},
   "source": [
    "## Finally evaluate loss on train and validation set"
   ]
  },
  {
   "cell_type": "code",
   "execution_count": null,
   "metadata": {},
   "outputs": [],
   "source": [
    "plt.plot(history.history['loss'])\n",
    "plt.plot(history.history['val_loss'])\n",
    "plt.title('model loss')\n",
    "plt.ylabel('loss')\n",
    "plt.xlabel('epoch')\n",
    "plt.legend(['train', 'validation'], loc='upper left')\n",
    "plt.show()"
   ]
  },
  {
   "cell_type": "code",
   "execution_count": null,
   "metadata": {},
   "outputs": [],
   "source": []
  }
 ],
 "metadata": {
  "kernelspec": {
   "display_name": "Python 3",
   "language": "python",
   "name": "python3"
  },
  "language_info": {
   "codemirror_mode": {
    "name": "ipython",
    "version": 3
   },
   "file_extension": ".py",
   "mimetype": "text/x-python",
   "name": "python",
   "nbconvert_exporter": "python",
   "pygments_lexer": "ipython3",
   "version": "3.6.5"
  }
 },
 "nbformat": 4,
 "nbformat_minor": 2
}
