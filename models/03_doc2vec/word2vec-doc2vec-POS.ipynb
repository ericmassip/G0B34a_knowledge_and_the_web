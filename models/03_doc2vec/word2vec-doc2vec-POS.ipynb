{
 "cells": [
  {
   "cell_type": "markdown",
   "metadata": {},
   "source": [
    "# Word2vec model based on Fetahu\n",
    "This model uses a pretrained word2vec to vectorize the paragraphs, the sequential information of the sentences is maintained.\n",
    "\n",
    "A pretrained word2vec can be found on [this github repo](https://github.com/3Top/word2vec-api).\n",
    "\n",
    "The paper this is based on can be found [here](https://arxiv.org/pdf/1811.05740.pdf)."
   ]
  },
  {
   "cell_type": "code",
   "execution_count": 3,
   "metadata": {},
   "outputs": [],
   "source": [
    "import numpy as np\n",
    "import pandas as pd\n",
    "from sklearn.feature_extraction.text import TfidfVectorizer\n",
    "import matplotlib.pyplot as plt\n",
    "from gensim.models import Word2Vec\n",
    "from gensim.test.utils import datapath\n",
    "from gensim.models import KeyedVectors\n",
    "from sklearn.metrics import confusion_matrix\n",
    "from gensim.utils import simple_preprocess\n",
    "import itertools\n",
    "from gg_doc2vec import read_corpus, ggdoc2vec_train"
   ]
  },
  {
   "cell_type": "code",
   "execution_count": 5,
   "metadata": {},
   "outputs": [],
   "source": [
    "df = pd.read_csv(\"../../data/ad_hominem/ad_hominems_cleaned_Murilo.csv\", sep=\",\", index_col=0, header=0, names=[\"body\", \"isAdHominem\"])\n",
    "df = df[~df.isin([np.nan, np.inf, -np.inf, 'nan']).any(1)] ## Remove rows with NaN values\n",
    "df = df[0:3000]"
   ]
  },
  {
   "cell_type": "code",
   "execution_count": 6,
   "metadata": {},
   "outputs": [],
   "source": [
    "df[\"length\"] = df[\"body\"].apply( lambda x: len(simple_preprocess(x, deacc=True)))"
   ]
  },
  {
   "cell_type": "code",
   "execution_count": 7,
   "metadata": {},
   "outputs": [
    {
     "name": "stdout",
     "output_type": "stream",
     "text": [
      "Setting paragraph length at 2092 words.\n"
     ]
    }
   ],
   "source": [
    "print(\"Setting paragraph length at {} words.\".format(df[\"length\"].max()))"
   ]
  },
  {
   "cell_type": "code",
   "execution_count": 8,
   "metadata": {},
   "outputs": [
    {
     "name": "stdout",
     "output_type": "stream",
     "text": [
      "In total, the train contains 279 ad hominems\n",
      "In total, the test contains 121 ad hominems\n"
     ]
    }
   ],
   "source": [
    "from sklearn.model_selection import train_test_split\n",
    "\n",
    "train, test = train_test_split( df, test_size=0.3, random_state=1)\n",
    "\n",
    "print(\"In total, the train contains\", sum(train[\"isAdHominem\"] == True), \"ad hominems\")\n",
    "print(\"In total, the test contains\", sum(test[\"isAdHominem\"] == True), \"ad hominems\")"
   ]
  },
  {
   "cell_type": "code",
   "execution_count": 54,
   "metadata": {},
   "outputs": [],
   "source": [
    "def plot_confusion_matrix(cm, classes,\n",
    "                          normalize=False,\n",
    "                          title='Confusion matrix',\n",
    "                          cmap=plt.cm.Blues):\n",
    "    \"\"\"\n",
    "    This function prints and plots the confusion matrix.\n",
    "    Normalization can be applied by setting `normalize=True`.\n",
    "    \"\"\"\n",
    "    if normalize:\n",
    "        cm = cm.astype('float') / cm.sum(axis=1)[:, np.newaxis]\n",
    "        print(\"Normalized confusion matrix\")\n",
    "    else:\n",
    "        print('Confusion matrix, without normalization')\n",
    "\n",
    "    print(cm)\n",
    "\n",
    "    plt.imshow(cm, interpolation='nearest', cmap=cmap, vmin=0)\n",
    "    plt.title(title)\n",
    "    plt.colorbar()\n",
    "    tick_marks = np.arange(len(classes))\n",
    "    plt.xticks(tick_marks, classes, rotation=45)\n",
    "    plt.yticks(tick_marks, classes)\n",
    "\n",
    "    fmt = '.2f' if normalize else 'd'\n",
    "    thresh = cm.max() / 2.\n",
    "    \n",
    "    for i, j in itertools.product(range(cm.shape[0]), range(cm.shape[1])):\n",
    "        plt.text(j, i, format(cm[i, j], fmt),\n",
    "                 horizontalalignment=\"center\",\n",
    "                 color=\"white\" if cm[i, j] > thresh else \"black\")\n",
    "        \n",
    "    plt.tight_layout()\n",
    "    plt.ylabel('True label')\n",
    "    plt.xlabel('Predicted label')"
   ]
  },
  {
   "cell_type": "code",
   "execution_count": 33,
   "metadata": {},
   "outputs": [
    {
     "name": "stdout",
     "output_type": "stream",
     "text": [
      "importing word2vec\n",
      "imported word2vec\n"
     ]
    }
   ],
   "source": [
    "print(\"importing word2vec\")\n",
    "wv_from_bin = KeyedVectors.load_word2vec_format(datapath(\"/Users/pieterdelobelle/Downloads/GoogleNews-vectors-negative300.bin.gz\"), binary=True)  # C binary format\n",
    "print(\"imported word2vec\")"
   ]
  },
  {
   "cell_type": "code",
   "execution_count": 31,
   "metadata": {},
   "outputs": [],
   "source": [
    "docVectorLength = 500\n",
    "docModel = ggdoc2vec_train(train, vec_size=docVectorLength)"
   ]
  },
  {
   "cell_type": "code",
   "execution_count": 28,
   "metadata": {},
   "outputs": [],
   "source": [
    "def combineData( dataset, maxLength, docVectorLength ):\n",
    "    #dataset[\"length\"] = dataset[\"body\"].apply( lambda x: len(word_tokenize(x)))\n",
    "    #maxLength = dataset[\"length\"].max()    \n",
    "    paragraphRepresentations = np.zeros((len(dataset), maxLength, 300))\n",
    "    docVectors = np.zeros((len(dataset), docVectorLength))\n",
    "    \n",
    "    for i, paragraph in enumerate(dataset[\"body\"]):\n",
    "        if (100* i / dataset.shape[0] % 10 == 0):\n",
    "            print(\"{} of {} ({} %)\\r\".format(i, dataset.shape[0], 100* i / dataset.shape[0]))\n",
    "        #text = word_tokenize(paragraph)\n",
    "        #tags = np.array(nltk.pos_tag(text))\n",
    "        \n",
    "        # Split the sentence into an array of (cleaned) words\n",
    "        splittedSentence = simple_preprocess(paragraph, deacc=True)\n",
    "        \n",
    "        # Generate docVector first\n",
    "        docVectors[i] = docModel.infer_vector(splittedSentence)\n",
    "        \n",
    "        # Enumerate over the words in the tags-array (col 0 = words, col 1 = POS tags)\n",
    "        for j, word in enumerate(splittedSentence):\n",
    "            #print(\"{}: {} ({})\".format(i, j, word))\n",
    "            if word.lower() in wv_from_bin:\n",
    "                paragraphRepresentations[i, j] = wv_from_bin[word.lower()] \n",
    "    return paragraphRepresentations, docVectors"
   ]
  },
  {
   "cell_type": "code",
   "execution_count": 34,
   "metadata": {},
   "outputs": [
    {
     "name": "stdout",
     "output_type": "stream",
     "text": [
      "Start train data\n",
      "0 of 2100 (0.0 %)\n",
      "210 of 2100 (10.0 %)\n",
      "420 of 2100 (20.0 %)\n",
      "630 of 2100 (30.0 %)\n",
      "840 of 2100 (40.0 %)\n",
      "1050 of 2100 (50.0 %)\n",
      "1260 of 2100 (60.0 %)\n",
      "1470 of 2100 (70.0 %)\n",
      "1680 of 2100 (80.0 %)\n",
      "1890 of 2100 (90.0 %)\n"
     ]
    }
   ],
   "source": [
    "maxLength = df[\"length\"].max() \n",
    "print(\"Start train data\")\n",
    "train_vectors, train_doc_vectors = combineData(train, maxLength, docVectorLength)"
   ]
  },
  {
   "cell_type": "code",
   "execution_count": 51,
   "metadata": {},
   "outputs": [
    {
     "name": "stdout",
     "output_type": "stream",
     "text": [
      "0 of 900 (0.0 %)\n",
      "90 of 900 (10.0 %)\n",
      "180 of 900 (20.0 %)\n",
      "270 of 900 (30.0 %)\n",
      "360 of 900 (40.0 %)\n",
      "450 of 900 (50.0 %)\n",
      "540 of 900 (60.0 %)\n",
      "630 of 900 (70.0 %)\n",
      "720 of 900 (80.0 %)\n",
      "810 of 900 (90.0 %)\n"
     ]
    }
   ],
   "source": [
    "test_vectors, test_doc_vectors = combineData(test, maxLength, docVectorLength)"
   ]
  },
  {
   "cell_type": "code",
   "execution_count": 41,
   "metadata": {},
   "outputs": [],
   "source": [
    "batch_size = 50\n",
    "epochs = 10"
   ]
  },
  {
   "cell_type": "markdown",
   "metadata": {},
   "source": [
    "## Fix imbalance\n",
    "Since classes are imbalanced, this needs to be handled. Sklearn offers a nice function, whose weights can then be used in the keras model."
   ]
  },
  {
   "cell_type": "code",
   "execution_count": 127,
   "metadata": {},
   "outputs": [],
   "source": [
    "from sklearn.utils import class_weight\n",
    "class_weights = class_weight.compute_class_weight('balanced',\n",
    "                                                 np.unique(train[\"isAdHominem\"]),\n",
    "                                                 train[\"isAdHominem\"])"
   ]
  },
  {
   "cell_type": "code",
   "execution_count": 128,
   "metadata": {},
   "outputs": [
    {
     "data": {
      "text/plain": [
       "array([0.58, 3.76])"
      ]
     },
     "execution_count": 128,
     "metadata": {},
     "output_type": "execute_result"
    }
   ],
   "source": [
    "class_weights"
   ]
  },
  {
   "cell_type": "code",
   "execution_count": 201,
   "metadata": {},
   "outputs": [],
   "source": [
    "from keras.layers import Input, Embedding, GRU, Dense, Masking, Bidirectional, concatenate, Dropout\n",
    "from keras.models import Model\n",
    "\n",
    "word2vecInput = Input(shape=(maxLength, 300), name='word2vec')\n",
    "doc2vecInput = Input(shape=(docVectorLength,), name='doc2vec')\n",
    "\n",
    "# Network for word vectors\n",
    "x = Masking(mask_value=0., input_shape=(maxLength, 300))(word2vecInput)\n",
    "#x = Bidirectional(GRU(100, return_sequences=True), merge_mode='ave')(x) \n",
    "wordout = Bidirectional(GRU(100), merge_mode='ave')(x)\n",
    "\n",
    "# Add word vectors and doc vectors together\n",
    "x = concatenate([wordout, doc2vecInput])\n",
    "x = Dense(64)(x)\n",
    "x = Dropout(0.1)(x)\n",
    "x = Dense(64)(x)\n",
    "x = Dropout(0.1)(x)\n",
    "output = Dense(2, activation=\"sigmoid\", name=\"output\")(x)\n",
    "\n",
    "model = Model(inputs=[word2vecInput, doc2vecInput], outputs=[output])\n",
    "\n",
    "model.compile(optimizer='adadelta',\n",
    "              loss='binary_crossentropy',\n",
    "              metrics=['binary_accuracy'])"
   ]
  },
  {
   "cell_type": "code",
   "execution_count": 202,
   "metadata": {},
   "outputs": [
    {
     "name": "stdout",
     "output_type": "stream",
     "text": [
      "__________________________________________________________________________________________________\n",
      "Layer (type)                    Output Shape         Param #     Connected to                     \n",
      "==================================================================================================\n",
      "word2vec (InputLayer)           (None, 2092, 300)    0                                            \n",
      "__________________________________________________________________________________________________\n",
      "masking_22 (Masking)            (None, 2092, 300)    0           word2vec[0][0]                   \n",
      "__________________________________________________________________________________________________\n",
      "bidirectional_30 (Bidirectional (None, 100)          240600      masking_22[0][0]                 \n",
      "__________________________________________________________________________________________________\n",
      "doc2vec (InputLayer)            (None, 500)          0                                            \n",
      "__________________________________________________________________________________________________\n",
      "concatenate_17 (Concatenate)    (None, 600)          0           bidirectional_30[0][0]           \n",
      "                                                                 doc2vec[0][0]                    \n",
      "__________________________________________________________________________________________________\n",
      "dense_20 (Dense)                (None, 64)           38464       concatenate_17[0][0]             \n",
      "__________________________________________________________________________________________________\n",
      "dropout_3 (Dropout)             (None, 64)           0           dense_20[0][0]                   \n",
      "__________________________________________________________________________________________________\n",
      "dense_21 (Dense)                (None, 64)           4160        dropout_3[0][0]                  \n",
      "__________________________________________________________________________________________________\n",
      "dropout_4 (Dropout)             (None, 64)           0           dense_21[0][0]                   \n",
      "__________________________________________________________________________________________________\n",
      "output (Dense)                  (None, 2)            130         dropout_4[0][0]                  \n",
      "==================================================================================================\n",
      "Total params: 283,354\n",
      "Trainable params: 283,354\n",
      "Non-trainable params: 0\n",
      "__________________________________________________________________________________________________\n"
     ]
    }
   ],
   "source": [
    "model.summary()"
   ]
  },
  {
   "cell_type": "code",
   "execution_count": 203,
   "metadata": {},
   "outputs": [
    {
     "name": "stdout",
     "output_type": "stream",
     "text": [
      "Train on 1890 samples, validate on 210 samples\n",
      "Epoch 1/10\n",
      "1890/1890 [==============================] - 142s 75ms/step - loss: 0.4196 - binary_accuracy: 0.8476 - val_loss: 0.3219 - val_binary_accuracy: 0.8833\n",
      "Epoch 2/10\n",
      "1890/1890 [==============================] - 133s 70ms/step - loss: 0.3416 - binary_accuracy: 0.8738 - val_loss: 0.2786 - val_binary_accuracy: 0.9095\n",
      "Epoch 3/10\n",
      "1890/1890 [==============================] - 143s 76ms/step - loss: 0.3040 - binary_accuracy: 0.8757 - val_loss: 0.2565 - val_binary_accuracy: 0.9119\n",
      "Epoch 4/10\n",
      "1890/1890 [==============================] - 147s 78ms/step - loss: 0.2963 - binary_accuracy: 0.8799 - val_loss: 0.2649 - val_binary_accuracy: 0.9119\n",
      "Epoch 5/10\n",
      "1890/1890 [==============================] - 153s 81ms/step - loss: 0.2752 - binary_accuracy: 0.8950 - val_loss: 0.2602 - val_binary_accuracy: 0.9048\n",
      "Epoch 6/10\n",
      "1890/1890 [==============================] - 144s 76ms/step - loss: 0.2614 - binary_accuracy: 0.8947 - val_loss: 0.2526 - val_binary_accuracy: 0.9048\n",
      "Epoch 7/10\n",
      "1890/1890 [==============================] - 146s 77ms/step - loss: 0.2522 - binary_accuracy: 0.9005 - val_loss: 0.2574 - val_binary_accuracy: 0.8976\n",
      "Epoch 8/10\n",
      "1890/1890 [==============================] - 142s 75ms/step - loss: 0.2367 - binary_accuracy: 0.9077 - val_loss: 0.2997 - val_binary_accuracy: 0.8810\n",
      "Epoch 9/10\n",
      "1890/1890 [==============================] - 141s 75ms/step - loss: 0.2281 - binary_accuracy: 0.9098 - val_loss: 0.2843 - val_binary_accuracy: 0.9071\n",
      "Epoch 10/10\n",
      "1890/1890 [==============================] - 140s 74ms/step - loss: 0.2108 - binary_accuracy: 0.9146 - val_loss: 0.2872 - val_binary_accuracy: 0.8810\n"
     ]
    }
   ],
   "source": [
    "history = model.fit(\n",
    "            {'word2vec': train_vectors, 'doc2vec': train_doc_vectors},\n",
    "            {'output': np.array([1-train[\"isAdHominem\"], train[\"isAdHominem\"]]).T},\n",
    "            epochs=epochs,\n",
    "            batch_size=batch_size,\n",
    "            verbose=1,\n",
    "            validation_split=0.1,\n",
    "            class_weight=class_weights)"
   ]
  },
  {
   "cell_type": "code",
   "execution_count": 218,
   "metadata": {},
   "outputs": [],
   "source": [
    "test_predicted = model.predict({'word2vec': test_vectors, 'doc2vec': test_doc_vectors})"
   ]
  },
  {
   "cell_type": "code",
   "execution_count": 214,
   "metadata": {},
   "outputs": [],
   "source": [
    "model.save_weights(\"model05.h5\")"
   ]
  },
  {
   "cell_type": "code",
   "execution_count": 243,
   "metadata": {},
   "outputs": [
    {
     "name": "stdout",
     "output_type": "stream",
     "text": [
      "Confusion matrix, without normalization\n",
      "[[557 222]\n",
      " [ 37  84]]\n",
      "Normalized confusion matrix\n",
      "[[0.72 0.28]\n",
      " [0.31 0.69]]\n"
     ]
    },
    {
     "data": {
      "image/png": "[encoded data removed]",
      "text/plain": [
       "<Figure size 432x288 with 2 Axes>"
      ]
     },
     "metadata": {},
     "output_type": "display_data"
    },
    {
     "data": {
      "image/png": "[encoded data removed]",
      "text/plain": [
       "<Figure size 432x288 with 2 Axes>"
      ]
     },
     "metadata": {},
     "output_type": "display_data"
    }
   ],
   "source": [
    "# Compute confusion matrix\n",
    "cnf_matrix = confusion_matrix(test[\"isAdHominem\"], test_predicted[:,0] < 0.9)\n",
    "\n",
    "np.set_printoptions(precision=2)\n",
    "\n",
    "title=\"Confusion matrix for GRU word2vec model and additional doc2vec input\"\n",
    "\n",
    "# Plot normalized confusion matrix\n",
    "fig = plt.figure()\n",
    "plot_confusion_matrix(cnf_matrix, classes=[\"no ad hominem\", \"ad hominem\"],normalize=False, \n",
    "                      title=title)\n",
    "\n",
    "#print('plots exported.png')\n",
    "fig.savefig(\"model05_not_normalized.png\")\n",
    "\n",
    "# Plot non-normalized confusion matrix\n",
    "fig = plt.figure()\n",
    "plot_confusion_matrix(cnf_matrix, classes=[\"no ad hominem\", \"ad hominem\"],normalize=True, \n",
    "                      title=title)\n",
    "fig.savefig(\"model05_normalized.png\")"
   ]
  },
  {
   "cell_type": "markdown",
   "metadata": {},
   "source": [
    "## Finally evaluate loss on train and validation set"
   ]
  },
  {
   "cell_type": "code",
   "execution_count": 213,
   "metadata": {},
   "outputs": [
    {
     "data": {
      "image/png": "[encoded data removed]",
      "text/plain": [
       "<Figure size 432x288 with 1 Axes>"
      ]
     },
     "metadata": {},
     "output_type": "display_data"
    }
   ],
   "source": [
    "plt.plot(history.history['loss'])\n",
    "plt.plot(history.history['val_loss'])\n",
    "plt.title('model loss')\n",
    "plt.ylabel('loss')\n",
    "plt.xlabel('epoch')\n",
    "plt.legend(['train', 'validation'], loc='upper left')\n",
    "plt.show()"
   ]
  },
  {
   "cell_type": "code",
   "execution_count": 244,
   "metadata": {},
   "outputs": [
    {
     "data": {
      "image/png": "[encoded data removed]",
      "text/plain": [
       "<Figure size 432x288 with 1 Axes>"
      ]
     },
     "metadata": {},
     "output_type": "display_data"
    }
   ],
   "source": [
    "from sklearn.metrics import roc_curve, auc\n",
    "false_positive_rate, true_positive_rate, thresholds = roc_curve(test[\"isAdHominem\"], test_predicted[:,0] < 0.9)\n",
    "roc_auc = auc(false_positive_rate, true_positive_rate)\n",
    "plt.title('Receiver Operating Characteristic')\n",
    "plt.plot(false_positive_rate, true_positive_rate,\n",
    "label='AUC = %0.2f'% roc_auc)\n",
    "plt.legend(loc='lower right')\n",
    "plt.plot([0,1],[0,1],'r--')\n",
    "plt.xlim([-0.1,1.2])\n",
    "plt.ylim([-0.1,1.2])\n",
    "plt.ylabel('True Positive Rate')\n",
    "plt.xlabel('False Positive Rate')\n",
    "plt.show()\n"
   ]
  },
  {
   "cell_type": "code",
   "execution_count": null,
   "metadata": {},
   "outputs": [],
   "source": []
  }
 ],
 "metadata": {
  "kernelspec": {
   "display_name": "Python 3",
   "language": "python",
   "name": "python3"
  },
  "language_info": {
   "codemirror_mode": {
    "name": "ipython",
    "version": 3
   },
   "file_extension": ".py",
   "mimetype": "text/x-python",
   "name": "python",
   "nbconvert_exporter": "python",
   "pygments_lexer": "ipython3",
   "version": "3.6.5"
  }
 },
 "nbformat": 4,
 "nbformat_minor": 2
}
