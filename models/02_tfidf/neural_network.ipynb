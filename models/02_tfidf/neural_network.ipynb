{
 "cells": [
  {
   "cell_type": "code",
   "execution_count": 131,
   "metadata": {},
   "outputs": [],
   "source": [
    "import numpy as np\n",
    "import pandas as pd\n",
    "from sklearn.feature_extraction.text import TfidfVectorizer\n",
    "\n",
    "general = pd.read_csv(\"../../data/general/ad_hominem_attacks.csv\", sep=\";\")\n",
    "adHominem = pd.read_csv(\"../../data/ad_hominem/reddit_ad_hominem.csv\")\n",
    "\n",
    "general = general[ general[\"Pieter\"] + general[\"Murilo\"] + general[\"Eric\"] >= 2]"
   ]
  },
  {
   "cell_type": "code",
   "execution_count": 132,
   "metadata": {},
   "outputs": [
    {
     "data": {
      "text/html": [
       "<div>\n",
       "<style scoped>\n",
       "    .dataframe tbody tr th:only-of-type {\n",
       "        vertical-align: middle;\n",
       "    }\n",
       "\n",
       "    .dataframe tbody tr th {\n",
       "        vertical-align: top;\n",
       "    }\n",
       "\n",
       "    .dataframe thead th {\n",
       "        text-align: right;\n",
       "    }\n",
       "</style>\n",
       "<table border=\"1\" class=\"dataframe\">\n",
       "  <thead>\n",
       "    <tr style=\"text-align: right;\">\n",
       "      <th></th>\n",
       "      <th>fallacies.df.Topic</th>\n",
       "      <th>fallacies.df.Intended.Fallacy</th>\n",
       "      <th>fallacies.df.Text</th>\n",
       "      <th>Eric</th>\n",
       "      <th>Pieter</th>\n",
       "      <th>Murilo</th>\n",
       "      <th>isAdHominem</th>\n",
       "    </tr>\n",
       "  </thead>\n",
       "  <tbody>\n",
       "    <tr>\n",
       "      <th>0</th>\n",
       "      <td>Are humans to blame for certain animal extinct...</td>\n",
       "      <td>No Fallacy</td>\n",
       "      <td>Yes, human beings have hunted and eaten animal...</td>\n",
       "      <td>1.0</td>\n",
       "      <td>1</td>\n",
       "      <td>1</td>\n",
       "      <td>False</td>\n",
       "    </tr>\n",
       "    <tr>\n",
       "      <th>1</th>\n",
       "      <td>Are humans to blame for certain animal extinct...</td>\n",
       "      <td>No Fallacy</td>\n",
       "      <td>Humans are not to be blamed for animal extinct...</td>\n",
       "      <td>0.0</td>\n",
       "      <td>1</td>\n",
       "      <td>1</td>\n",
       "      <td>False</td>\n",
       "    </tr>\n",
       "    <tr>\n",
       "      <th>7</th>\n",
       "      <td>Are humans to blame for certain animal extinct...</td>\n",
       "      <td>No Fallacy</td>\n",
       "      <td>Humans don't care enough for living beings.</td>\n",
       "      <td>1.0</td>\n",
       "      <td>1</td>\n",
       "      <td>1</td>\n",
       "      <td>False</td>\n",
       "    </tr>\n",
       "    <tr>\n",
       "      <th>9</th>\n",
       "      <td>Are humans to blame for certain animal extinct...</td>\n",
       "      <td>Ad Hominem</td>\n",
       "      <td>Of course. You throw your garbage into the oce...</td>\n",
       "      <td>1.0</td>\n",
       "      <td>1</td>\n",
       "      <td>1</td>\n",
       "      <td>True</td>\n",
       "    </tr>\n",
       "    <tr>\n",
       "      <th>11</th>\n",
       "      <td>Are Quentin Tarantinos movies too violent?</td>\n",
       "      <td>Ad Hominem</td>\n",
       "      <td>Oh now, I'm not going to debate with you... Ha...</td>\n",
       "      <td>1.0</td>\n",
       "      <td>1</td>\n",
       "      <td>1</td>\n",
       "      <td>True</td>\n",
       "    </tr>\n",
       "  </tbody>\n",
       "</table>\n",
       "</div>"
      ],
      "text/plain": [
       "                                   fallacies.df.Topic  \\\n",
       "0   Are humans to blame for certain animal extinct...   \n",
       "1   Are humans to blame for certain animal extinct...   \n",
       "7   Are humans to blame for certain animal extinct...   \n",
       "9   Are humans to blame for certain animal extinct...   \n",
       "11         Are Quentin Tarantinos movies too violent?   \n",
       "\n",
       "   fallacies.df.Intended.Fallacy  \\\n",
       "0                     No Fallacy   \n",
       "1                     No Fallacy   \n",
       "7                     No Fallacy   \n",
       "9                     Ad Hominem   \n",
       "11                    Ad Hominem   \n",
       "\n",
       "                                    fallacies.df.Text  Eric  Pieter  Murilo  \\\n",
       "0   Yes, human beings have hunted and eaten animal...   1.0       1       1   \n",
       "1   Humans are not to be blamed for animal extinct...   0.0       1       1   \n",
       "7         Humans don't care enough for living beings.   1.0       1       1   \n",
       "9   Of course. You throw your garbage into the oce...   1.0       1       1   \n",
       "11  Oh now, I'm not going to debate with you... Ha...   1.0       1       1   \n",
       "\n",
       "    isAdHominem  \n",
       "0         False  \n",
       "1         False  \n",
       "7         False  \n",
       "9          True  \n",
       "11         True  "
      ]
     },
     "execution_count": 132,
     "metadata": {},
     "output_type": "execute_result"
    }
   ],
   "source": [
    "adHominem.shape\n",
    "\n",
    "general[\"isAdHominem\"] = np.where(general[\"fallacies.df.Intended.Fallacy\"] == \"Ad Hominem\",True, False)\n",
    "general.head()"
   ]
  },
  {
   "cell_type": "code",
   "execution_count": 232,
   "metadata": {},
   "outputs": [
    {
     "name": "stdout",
     "output_type": "stream",
     "text": [
      "(382, 7)\n",
      "(29281, 22)\n",
      "(29663, 2)\n"
     ]
    }
   ],
   "source": [
    "df = pd.concat([adHominem['body'], adHominem['ad_hominem']], axis=1, keys=['body', 'isAdHominem'])\n",
    "df = df.append(pd.concat([general['fallacies.df.Text'], general['isAdHominem']], axis=1, keys=['body', 'isAdHominem']))\n",
    "print(general.shape)\n",
    "print(adHominem.shape)\n",
    "print(df.shape)\n",
    "\n",
    "df[\"body\"] = df[\"body\"].astype(str)\n",
    "df[\"isAdHominem\"] = df[\"isAdHominem\"].astype(bool)\n",
    "df = df[~df.isin([np.nan, np.inf, -np.inf]).any(1)]"
   ]
  },
  {
   "cell_type": "code",
   "execution_count": 233,
   "metadata": {},
   "outputs": [
    {
     "name": "stdout",
     "output_type": "stream",
     "text": [
      "In total, the train contains 2765 ad hominems\n",
      "In total, the test contains 1228 ad hominems\n"
     ]
    }
   ],
   "source": [
    "from sklearn.model_selection import train_test_split\n",
    "\n",
    "train, test = train_test_split( df, test_size=0.3, random_state=3)\n",
    "\n",
    "print(\"In total, the train contains\", sum(train[\"isAdHominem\"] == True), \"ad hominems\")\n",
    "print(\"In total, the test contains\", sum(test[\"isAdHominem\"] == True), \"ad hominems\")"
   ]
  },
  {
   "cell_type": "code",
   "execution_count": 216,
   "metadata": {},
   "outputs": [],
   "source": [
    "from keras import utils\n",
    "from keras.preprocessing import text, sequence\n",
    "\n",
    "vocab_size = 100000\n",
    "\n",
    "tokenize = text.Tokenizer(num_words=vocab_size)\n",
    "#tokenize.fit_on_texts(result.headline_text)\n",
    "\n",
    "tokenize.fit_on_texts(df[\"body\"]) # only fit on train\n",
    "x_train = tokenize.texts_to_matrix(train[\"body\"])\n",
    "x_test = tokenize.texts_to_matrix(test[\"body\"])"
   ]
  },
  {
   "cell_type": "code",
   "execution_count": 217,
   "metadata": {},
   "outputs": [
    {
     "data": {
      "text/plain": [
       "body           object\n",
       "isAdHominem      bool\n",
       "dtype: object"
      ]
     },
     "execution_count": 217,
     "metadata": {},
     "output_type": "execute_result"
    }
   ],
   "source": [
    "df.dtypes"
   ]
  },
  {
   "cell_type": "code",
   "execution_count": 218,
   "metadata": {},
   "outputs": [
    {
     "data": {
      "text/plain": [
       "(267, 100000)"
      ]
     },
     "execution_count": 218,
     "metadata": {},
     "output_type": "execute_result"
    }
   ],
   "source": [
    "x_train.shape"
   ]
  },
  {
   "cell_type": "code",
   "execution_count": 219,
   "metadata": {},
   "outputs": [],
   "source": [
    "from keras.models import Sequential\n",
    "from keras.layers import Dense\n",
    "from keras.layers import Dropout\n",
    "from keras.layers import LSTM\n",
    "from keras.layers import Conv1D\n",
    "from keras.layers import Dense, Activation, Dropout\n",
    "from keras.callbacks import ModelCheckpoint\n",
    "from keras.utils import np_utils\n",
    "import tensorflow as tf\n",
    "\n",
    "model = Sequential()\n",
    "\n",
    "model.add(Dense(1024, input_shape=(vocab_size,)))\n",
    "model.add(Activation('relu'))\n",
    "model.add(Dropout(0.5))\n",
    "model.add(Dense(256))\n",
    "model.add(Activation('relu'))\n",
    "model.add(Dropout(0.5))\n",
    "model.add(Dense(1))\n",
    "model.add(Activation('softmax'))\n",
    "\n",
    "model.compile(loss='binary_crossentropy',\n",
    "              optimizer='adam',\n",
    "              metrics=['accuracy'])"
   ]
  },
  {
   "cell_type": "code",
   "execution_count": 220,
   "metadata": {},
   "outputs": [],
   "source": [
    "batch_size = 1024\n",
    "epochs = 4"
   ]
  },
  {
   "cell_type": "code",
   "execution_count": 221,
   "metadata": {},
   "outputs": [
    {
     "name": "stdout",
     "output_type": "stream",
     "text": [
      "_________________________________________________________________\n",
      "Layer (type)                 Output Shape              Param #   \n",
      "=================================================================\n",
      "dense_26 (Dense)             (None, 1024)              102401024 \n",
      "_________________________________________________________________\n",
      "activation_25 (Activation)   (None, 1024)              0         \n",
      "_________________________________________________________________\n",
      "dropout_14 (Dropout)         (None, 1024)              0         \n",
      "_________________________________________________________________\n",
      "dense_27 (Dense)             (None, 256)               262400    \n",
      "_________________________________________________________________\n",
      "activation_26 (Activation)   (None, 256)               0         \n",
      "_________________________________________________________________\n",
      "dropout_15 (Dropout)         (None, 256)               0         \n",
      "_________________________________________________________________\n",
      "dense_28 (Dense)             (None, 1)                 257       \n",
      "_________________________________________________________________\n",
      "activation_27 (Activation)   (None, 1)                 0         \n",
      "=================================================================\n",
      "Total params: 102,663,681\n",
      "Trainable params: 102,663,681\n",
      "Non-trainable params: 0\n",
      "_________________________________________________________________\n"
     ]
    }
   ],
   "source": [
    "model.summary()"
   ]
  },
  {
   "cell_type": "code",
   "execution_count": 222,
   "metadata": {},
   "outputs": [
    {
     "name": "stdout",
     "output_type": "stream",
     "text": [
      "Train on 240 samples, validate on 27 samples\n",
      "Epoch 1/4\n",
      "240/240 [==============================] - 8s 35ms/step - loss: 10.4290 - acc: 0.3458 - val_loss: 11.2187 - val_acc: 0.2963\n",
      "Epoch 2/4\n",
      "240/240 [==============================] - 3s 11ms/step - loss: 10.4290 - acc: 0.3458 - val_loss: 11.2187 - val_acc: 0.2963\n",
      "Epoch 3/4\n",
      "240/240 [==============================] - 2s 9ms/step - loss: 10.4290 - acc: 0.3458 - val_loss: 11.2187 - val_acc: 0.2963\n",
      "Epoch 4/4\n",
      "240/240 [==============================] - 2s 9ms/step - loss: 10.4290 - acc: 0.3458 - val_loss: 11.2187 - val_acc: 0.2963\n"
     ]
    }
   ],
   "source": [
    "history = model.fit(x_train, train[\"isAdHominem\"],\n",
    "                    batch_size=batch_size,\n",
    "                    epochs=epochs,\n",
    "                    verbose=1,\n",
    "                    validation_split=0.1)"
   ]
  }
 ],
 "metadata": {
  "kernelspec": {
   "display_name": "Python 3",
   "language": "python",
   "name": "python3"
  },
  "language_info": {
   "codemirror_mode": {
    "name": "ipython",
    "version": 3
   },
   "file_extension": ".py",
   "mimetype": "text/x-python",
   "name": "python",
   "nbconvert_exporter": "python",
   "pygments_lexer": "ipython3",
   "version": "3.6.5"
  }
 },
 "nbformat": 4,
 "nbformat_minor": 2
}
