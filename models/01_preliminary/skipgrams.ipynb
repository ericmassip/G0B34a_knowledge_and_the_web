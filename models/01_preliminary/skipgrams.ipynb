{
 "cells": [
  {
   "cell_type": "code",
   "execution_count": 3,
   "metadata": {},
   "outputs": [
    {
     "data": {
      "text/plain": [
       "[('Insurgents', 'killed'),\n",
       " ('Insurgents', 'in'),\n",
       " ('Insurgents', 'ongoing'),\n",
       " ('killed', 'in'),\n",
       " ('killed', 'ongoing'),\n",
       " ('killed', 'fighting'),\n",
       " ('in', 'ongoing'),\n",
       " ('in', 'fighting'),\n",
       " ('ongoing', 'fighting')]"
      ]
     },
     "execution_count": 3,
     "metadata": {},
     "output_type": "execute_result"
    }
   ],
   "source": [
    "from nltk.util import skipgrams\n",
    "\n",
    "sent = \"Insurgents killed in ongoing fighting\".split()\n",
    "\n",
    "list(skipgrams(sent, 2, 2))"
   ]
  }
 ],
 "metadata": {
  "kernelspec": {
   "display_name": "Python (robin_env)",
   "language": "python",
   "name": "robin_env"
  },
  "language_info": {
   "codemirror_mode": {
    "name": "ipython",
    "version": 3
   },
   "file_extension": ".py",
   "mimetype": "text/x-python",
   "name": "python",
   "nbconvert_exporter": "python",
   "pygments_lexer": "ipython3",
   "version": "3.6.4"
  }
 },
 "nbformat": 4,
 "nbformat_minor": 2
}
