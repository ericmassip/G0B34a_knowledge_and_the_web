{
 "cells": [
  {
   "cell_type": "code",
   "execution_count": 1,
   "metadata": {},
   "outputs": [],
   "source": [
    "import numpy as np\n",
    "import pandas as pd\n",
    "from IPython.display import display\n",
    "from tqdm import tqdm\n",
    "from collections import Counter\n",
    "import ast\n",
    "import itertools\n",
    "\n",
    "import matplotlib.pyplot as plt\n",
    "import matplotlib.mlab as mlab\n",
    "import seaborn as sb\n",
    "\n",
    "%matplotlib inline\n",
    "\n",
    "fallacies = pd.read_csv('../../data/general/arguments-en-2018-01-15.tsv', sep='\\t', header=0)\n",
    "fallacies=fallacies.dropna(subset=['Intended Fallacy'])"
   ]
  },
  {
   "cell_type": "code",
   "execution_count": 10,
   "metadata": {},
   "outputs": [],
   "source": [
    "fallacies['fallacy'] = np.where(fallacies['Intended Fallacy']=='No Fallacy', False, True)"
   ]
  },
  {
   "cell_type": "code",
   "execution_count": 11,
   "metadata": {},
   "outputs": [
    {
     "data": {
      "text/html": [
       "<div>\n",
       "<style scoped>\n",
       "    .dataframe tbody tr th:only-of-type {\n",
       "        vertical-align: middle;\n",
       "    }\n",
       "\n",
       "    .dataframe tbody tr th {\n",
       "        vertical-align: top;\n",
       "    }\n",
       "\n",
       "    .dataframe thead th {\n",
       "        text-align: right;\n",
       "    }\n",
       "</style>\n",
       "<table border=\"1\" class=\"dataframe\">\n",
       "  <thead>\n",
       "    <tr style=\"text-align: right;\">\n",
       "      <th></th>\n",
       "      <th>Row number</th>\n",
       "      <th>Mongo ID</th>\n",
       "      <th>Author</th>\n",
       "      <th>Topic</th>\n",
       "      <th>Stance</th>\n",
       "      <th>Intended Fallacy</th>\n",
       "      <th>Voted Fallacy</th>\n",
       "      <th>Number of Votes</th>\n",
       "      <th>Text</th>\n",
       "      <th>fallacy</th>\n",
       "    </tr>\n",
       "  </thead>\n",
       "  <tbody>\n",
       "    <tr>\n",
       "      <th>0</th>\n",
       "      <td>0</td>\n",
       "      <td>6934db0d885b3fac</td>\n",
       "      <td>bbc9da056b6a9234</td>\n",
       "      <td>Should cellphones be used during class?</td>\n",
       "      <td>contra</td>\n",
       "      <td>Appeal to Emotion</td>\n",
       "      <td>-</td>\n",
       "      <td>0.0</td>\n",
       "      <td>No, imagine you were a teacher and everybody w...</td>\n",
       "      <td>True</td>\n",
       "    </tr>\n",
       "    <tr>\n",
       "      <th>1</th>\n",
       "      <td>1</td>\n",
       "      <td>ee6d7274a24775f4</td>\n",
       "      <td>a4f93c2c8cc92a8c</td>\n",
       "      <td>Has anyone been on the moon?</td>\n",
       "      <td>contra</td>\n",
       "      <td>Red Herring</td>\n",
       "      <td>-</td>\n",
       "      <td>1.0</td>\n",
       "      <td>The moon is so far away, we should focus on ou...</td>\n",
       "      <td>True</td>\n",
       "    </tr>\n",
       "    <tr>\n",
       "      <th>2</th>\n",
       "      <td>2</td>\n",
       "      <td>d9fdef824f3ad0cf</td>\n",
       "      <td>3f4339e14df7d077</td>\n",
       "      <td>Is it justified to develop nuclear energy for ...</td>\n",
       "      <td>contra</td>\n",
       "      <td>Irrelevant Authority</td>\n",
       "      <td>Irrelevant Authority</td>\n",
       "      <td>6.0</td>\n",
       "      <td>The green party in Germany has the opinion, th...</td>\n",
       "      <td>True</td>\n",
       "    </tr>\n",
       "    <tr>\n",
       "      <th>3</th>\n",
       "      <td>3</td>\n",
       "      <td>b72997c3180d5d7b</td>\n",
       "      <td>e01c557ce0fdb585</td>\n",
       "      <td>Do social networking sites have a positive imp...</td>\n",
       "      <td>contra</td>\n",
       "      <td>Red Herring</td>\n",
       "      <td>-</td>\n",
       "      <td>0.0</td>\n",
       "      <td>No, not at all. Nowadays kids spend all time p...</td>\n",
       "      <td>True</td>\n",
       "    </tr>\n",
       "    <tr>\n",
       "      <th>4</th>\n",
       "      <td>4</td>\n",
       "      <td>6322e37dbaa299b8</td>\n",
       "      <td>d038663d70f77d9b</td>\n",
       "      <td>Should driving under the influence of alcohol ...</td>\n",
       "      <td>pro</td>\n",
       "      <td>No Fallacy</td>\n",
       "      <td>No Fallacy</td>\n",
       "      <td>8.0</td>\n",
       "      <td>Yes,  whoever drinks and drives has a bad reac...</td>\n",
       "      <td>False</td>\n",
       "    </tr>\n",
       "  </tbody>\n",
       "</table>\n",
       "</div>"
      ],
      "text/plain": [
       "  Row number          Mongo ID            Author  \\\n",
       "0          0  6934db0d885b3fac  bbc9da056b6a9234   \n",
       "1          1  ee6d7274a24775f4  a4f93c2c8cc92a8c   \n",
       "2          2  d9fdef824f3ad0cf  3f4339e14df7d077   \n",
       "3          3  b72997c3180d5d7b  e01c557ce0fdb585   \n",
       "4          4  6322e37dbaa299b8  d038663d70f77d9b   \n",
       "\n",
       "                                               Topic  Stance  \\\n",
       "0            Should cellphones be used during class?  contra   \n",
       "1                       Has anyone been on the moon?  contra   \n",
       "2  Is it justified to develop nuclear energy for ...  contra   \n",
       "3  Do social networking sites have a positive imp...  contra   \n",
       "4  Should driving under the influence of alcohol ...     pro   \n",
       "\n",
       "       Intended Fallacy         Voted Fallacy  Number of Votes  \\\n",
       "0     Appeal to Emotion                     -              0.0   \n",
       "1           Red Herring                     -              1.0   \n",
       "2  Irrelevant Authority  Irrelevant Authority              6.0   \n",
       "3           Red Herring                     -              0.0   \n",
       "4            No Fallacy            No Fallacy              8.0   \n",
       "\n",
       "                                                Text  fallacy  \n",
       "0  No, imagine you were a teacher and everybody w...     True  \n",
       "1  The moon is so far away, we should focus on ou...     True  \n",
       "2  The green party in Germany has the opinion, th...     True  \n",
       "3  No, not at all. Nowadays kids spend all time p...     True  \n",
       "4  Yes,  whoever drinks and drives has a bad reac...    False  "
      ]
     },
     "execution_count": 11,
     "metadata": {},
     "output_type": "execute_result"
    }
   ],
   "source": [
    "fallacies.head()"
   ]
  },
  {
   "cell_type": "code",
   "execution_count": 12,
   "metadata": {},
   "outputs": [],
   "source": [
    "from sklearn.model_selection import train_test_split\n",
    "train, test = train_test_split( fallacies, test_size=0.3, random_state=3)"
   ]
  },
  {
   "cell_type": "code",
   "execution_count": 13,
   "metadata": {},
   "outputs": [
    {
     "name": "stderr",
     "output_type": "stream",
     "text": [
      "/usr/local/lib/python3.6/site-packages/ipykernel_launcher.py:6: SettingWithCopyWarning: \n",
      "A value is trying to be set on a copy of a slice from a DataFrame.\n",
      "Try using .loc[row_indexer,col_indexer] = value instead\n",
      "\n",
      "See the caveats in the documentation: http://pandas.pydata.org/pandas-docs/stable/indexing.html#indexing-view-versus-copy\n",
      "  \n",
      "/usr/local/lib/python3.6/site-packages/ipykernel_launcher.py:7: SettingWithCopyWarning: \n",
      "A value is trying to be set on a copy of a slice from a DataFrame.\n",
      "Try using .loc[row_indexer,col_indexer] = value instead\n",
      "\n",
      "See the caveats in the documentation: http://pandas.pydata.org/pandas-docs/stable/indexing.html#indexing-view-versus-copy\n",
      "  import sys\n"
     ]
    }
   ],
   "source": [
    "from sklearn.feature_extraction.text import TfidfVectorizer\n",
    "from sklearn import preprocessing\n",
    "\n",
    "le = preprocessing.LabelEncoder()\n",
    "le.fit_transform(fallacies['Intended Fallacy'].astype(str))\n",
    "train['Intended Fallacy id'] = le.transform(train['Intended Fallacy'].astype(str))\n",
    "test['Intended Fallacy id'] = le.transform(test['Intended Fallacy'].astype(str))\n",
    "\n",
    "v = TfidfVectorizer()\n",
    "v.fit(fallacies['Topic'].values.astype('U'))\n",
    "x_train = v.transform(train['Topic'].values.astype('U'))\n",
    "x_test = v.transform(test['Topic'].values.astype('U'))"
   ]
  },
  {
   "cell_type": "code",
   "execution_count": 14,
   "metadata": {},
   "outputs": [],
   "source": [
    "from sklearn.multiclass import OneVsOneClassifier\n",
    "from sklearn.svm import LinearSVC\n",
    "clf = LinearSVC(random_state=0).fit(x_train, train['fallacy'])"
   ]
  },
  {
   "cell_type": "code",
   "execution_count": 15,
   "metadata": {},
   "outputs": [
    {
     "data": {
      "text/plain": [
       "Row number              object\n",
       "Mongo ID                object\n",
       "Author                  object\n",
       "Topic                   object\n",
       "Stance                  object\n",
       "Intended Fallacy        object\n",
       "Voted Fallacy           object\n",
       "Number of Votes        float64\n",
       "Text                    object\n",
       "fallacy                   bool\n",
       "Intended Fallacy id      int64\n",
       "dtype: object"
      ]
     },
     "execution_count": 15,
     "metadata": {},
     "output_type": "execute_result"
    }
   ],
   "source": [
    "train.dtypes"
   ]
  },
  {
   "cell_type": "code",
   "execution_count": 16,
   "metadata": {},
   "outputs": [],
   "source": [
    "def plot_confusion_matrix(cm, classes,\n",
    "                          normalize=False,\n",
    "                          title='Confusion matrix',\n",
    "                          cmap=plt.cm.Blues):\n",
    "    \"\"\"\n",
    "    This function prints and plots the confusion matrix.\n",
    "    Normalization can be applied by setting `normalize=True`.\n",
    "    \"\"\"\n",
    "    if normalize:\n",
    "        cm = cm.astype('float') / cm.sum(axis=1)[:, np.newaxis]\n",
    "        print(\"Normalized confusion matrix\")\n",
    "    else:\n",
    "        print('Confusion matrix, without normalization')\n",
    "\n",
    "    print(cm)\n",
    "\n",
    "    plt.imshow(cm, interpolation='nearest', cmap=cmap)\n",
    "    plt.title(title)\n",
    "    plt.colorbar()\n",
    "    tick_marks = np.arange(len(classes))\n",
    "    plt.xticks(tick_marks, classes, rotation=45)\n",
    "    plt.yticks(tick_marks, classes)\n",
    "\n",
    "    fmt = '.2f' if normalize else 'd'\n",
    "    thresh = cm.max() / 2.\n",
    "    \n",
    "    for i, j in itertools.product(range(cm.shape[0]), range(cm.shape[1])):\n",
    "        plt.text(j, i, format(cm[i, j], fmt),\n",
    "                 horizontalalignment=\"center\",\n",
    "                 color=\"white\" if cm[i, j] > thresh else \"black\")\n",
    "        \n",
    "    plt.tight_layout()\n",
    "    plt.ylabel('True label')\n",
    "    plt.xlabel('Predicted label')"
   ]
  },
  {
   "cell_type": "code",
   "execution_count": 28,
   "metadata": {},
   "outputs": [
    {
     "name": "stderr",
     "output_type": "stream",
     "text": [
      "/usr/local/lib/python3.6/site-packages/sklearn/preprocessing/label.py:151: DeprecationWarning: The truth value of an empty array is ambiguous. Returning False, but in future this will result in an error. Use `array.size > 0` to check that an array is not empty.\n",
      "  if diff:\n"
     ]
    },
    {
     "name": "stdout",
     "output_type": "stream",
     "text": [
      "Normalized confusion matrix\n",
      "[[0.13 0.28 0.06 0.09 0.38 0.06]\n",
      " [0.16 0.25 0.05 0.05 0.42 0.05]\n",
      " [0.17 0.17 0.09 0.04 0.47 0.06]\n",
      " [0.14 0.19 0.09 0.05 0.5  0.03]\n",
      " [0.07 0.22 0.05 0.01 0.62 0.03]\n",
      " [0.11 0.24 0.08 0.02 0.48 0.06]]\n"
     ]
    },
    {
     "data": {
      "image/png": "[encoded data removed]",
      "text/plain": [
       "<Figure size 576x576 with 2 Axes>"
      ]
     },
     "metadata": {},
     "output_type": "display_data"
    }
   ],
   "source": [
    "from sklearn.metrics import confusion_matrix\n",
    "predicted = clf.predict(x_test)\n",
    "\n",
    "# Compute confusion matrix\n",
    "cnf_matrix = confusion_matrix(test['Intended Fallacy id'], predicted)\n",
    "\n",
    "np.set_printoptions(precision=2)\n",
    "\n",
    "#fig.savefig(\"plt_n.png\")\n",
    "\n",
    "# Plot non-normalized confusion matrix\n",
    "fig = plt.figure(figsize=(8,8))\n",
    "plot_confusion_matrix(cnf_matrix, le.inverse_transform([0, 1, 2, 3, 4, 5]),normalize=True, \n",
    "                      title=\"Confusion matrix for Ensemble of Trees\")\n",
    "\n"
   ]
  },
  {
   "cell_type": "code",
   "execution_count": 18,
   "metadata": {},
   "outputs": [],
   "source": [
    "from sklearn.naive_bayes import MultinomialNB\n",
    "clf = MultinomialNB().fit(x_train, train['Intended Fallacy id'])"
   ]
  },
  {
   "cell_type": "code",
   "execution_count": 63,
   "metadata": {},
   "outputs": [],
   "source": [
    "from sklearn.ensemble import RandomForestClassifier\n",
    "clf = RandomForestClassifier(n_estimators=100).fit(x_train, train['Intended Fallacy id'])"
   ]
  },
  {
   "cell_type": "code",
   "execution_count": 32,
   "metadata": {},
   "outputs": [],
   "source": [
    "clf = OneVsOneClassifier(MultinomialNB()).fit(x_train, train['Intended Fallacy id'])"
   ]
  },
  {
   "cell_type": "code",
   "execution_count": 25,
   "metadata": {},
   "outputs": [],
   "source": [
    "from sklearn import tree\n",
    "clf = tree.DecisionTreeClassifier().fit(x_train, train['Intended Fallacy id'])"
   ]
  },
  {
   "cell_type": "code",
   "execution_count": 21,
   "metadata": {},
   "outputs": [],
   "source": [
    "from sklearn.linear_model import SGDClassifier\n",
    "clf = SGDClassifier(loss=\"hinge\", penalty=\"l2\", max_iter=500).fit(x_train, train['Intended Fallacy id'])"
   ]
  },
  {
   "cell_type": "code",
   "execution_count": 27,
   "metadata": {},
   "outputs": [],
   "source": [
    "from sklearn.multiclass import OneVsOneClassifier\n",
    "clf = OneVsOneClassifier(tree.DecisionTreeClassifier()).fit(x_train, train['Intended Fallacy id'])"
   ]
  },
  {
   "cell_type": "code",
   "execution_count": null,
   "metadata": {},
   "outputs": [],
   "source": []
  }
 ],
 "metadata": {
  "kernelspec": {
   "display_name": "Python 3",
   "language": "python",
   "name": "python3"
  },
  "language_info": {
   "codemirror_mode": {
    "name": "ipython",
    "version": 3
   },
   "file_extension": ".py",
   "mimetype": "text/x-python",
   "name": "python",
   "nbconvert_exporter": "python",
   "pygments_lexer": "ipython3",
   "version": "3.6.5"
  }
 },
 "nbformat": 4,
 "nbformat_minor": 2
}
